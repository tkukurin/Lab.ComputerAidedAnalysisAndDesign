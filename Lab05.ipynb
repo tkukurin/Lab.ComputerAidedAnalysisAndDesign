{
 "cells": [
  {
   "cell_type": "markdown",
   "metadata": {},
   "source": [
    "[Link na zadatke](http://www.fer.unizg.hr/_download/repository/Zadatak_za_5._zadacu.pdf)"
   ]
  },
  {
   "cell_type": "code",
   "execution_count": 1,
   "metadata": {
    "collapsed": true
   },
   "outputs": [],
   "source": [
    "%%capture\n",
    "%run ./Lab01.ipynb"
   ]
  },
  {
   "cell_type": "code",
   "execution_count": 81,
   "metadata": {
    "collapsed": true
   },
   "outputs": [],
   "source": [
    "class SingularMatrixException(Exception):\n",
    "    def __init__(self, message):\n",
    "        super(SingularMatrixException, self).__init__(message)"
   ]
  },
  {
   "cell_type": "code",
   "execution_count": 82,
   "metadata": {
    "collapsed": true
   },
   "outputs": [],
   "source": [
    "class Matrix(Matrix):\n",
    "    def is_singular(self):\n",
    "        return np.linalg.det(self.elements) == 0\n",
    "        \n",
    "    def inverse(self):\n",
    "        if self.is_singular():\n",
    "            raise SingularMatrixException(\"Called inverse, but matrix is singular.\")\n",
    "            \n",
    "        lhs = self\n",
    "        rhs = Matrix(np.identity(self.width))\n",
    "        L, U, P = lup(lhs)\n",
    "        rhs_prime = permute_rows(rhs, P, rhs.height)\n",
    "        \n",
    "        sol = []\n",
    "        for row in rhs_prime.T:\n",
    "            fs = forward_sub(L, Matrix(row).T)\n",
    "            bs = backward_sub(U, fs)\n",
    "            sol.append([e[0] for e in bs.elements])\n",
    "            \n",
    "        return Matrix(sol).T"
   ]
  },
  {
   "cell_type": "markdown",
   "metadata": {},
   "source": [
    "# Zadatak 1.\n",
    "Inverz (singularne) matrice."
   ]
  },
  {
   "cell_type": "code",
   "execution_count": 83,
   "metadata": {},
   "outputs": [
    {
     "name": "stdout",
     "output_type": "stream",
     "text": [
      "Called inverse, but matrix is singular.\n"
     ]
    }
   ],
   "source": [
    "m = Matrix(\n",
    "    [[1, 2, 3],\n",
    "     [4, 5, 6],\n",
    "     [7, 8, 9]])\n",
    "\n",
    "try:\n",
    "    m.inverse()\n",
    "except Exception as e:\n",
    "    print(e.args[0])"
   ]
  },
  {
   "cell_type": "markdown",
   "metadata": {},
   "source": [
    "# Zadatak 2.\n",
    "Inverz matrice"
   ]
  },
  {
   "cell_type": "code",
   "execution_count": 84,
   "metadata": {},
   "outputs": [
    {
     "data": {
      "text/plain": [
       "-0.0 -3.0 -2.0\n",
       "1.0 -4.0 -2.0\n",
       "-3.0 4.0 1.0"
      ]
     },
     "execution_count": 84,
     "metadata": {},
     "output_type": "execute_result"
    }
   ],
   "source": [
    "m = Matrix(\n",
    "    [[4, -5, -2],\n",
    "     [5, -6, -2],\n",
    "     [-8, 9, 3]])\n",
    "m.inverse()"
   ]
  },
  {
   "cell_type": "markdown",
   "metadata": {},
   "source": [
    "# Zadatak 3.\n",
    "[0, 1], [-1, 0]\n",
    "Izračunajte ponašanje sljedećeg sustava za proizvoljne početne vrijednosti:"
   ]
  },
  {
   "cell_type": "code",
   "execution_count": null,
   "metadata": {
    "collapsed": true
   },
   "outputs": [],
   "source": []
  },
  {
   "cell_type": "markdown",
   "metadata": {},
   "source": [
    "# Zadatak 4.\n",
    "\n",
    "Izračunajte ponašanje sljedećeg sustava"
   ]
  },
  {
   "cell_type": "code",
   "execution_count": null,
   "metadata": {
    "collapsed": true
   },
   "outputs": [],
   "source": []
  }
 ],
 "metadata": {
  "kernelspec": {
   "display_name": "Python 3",
   "language": "python",
   "name": "python3"
  },
  "language_info": {
   "codemirror_mode": {
    "name": "ipython",
    "version": 3
   },
   "file_extension": ".py",
   "mimetype": "text/x-python",
   "name": "python",
   "nbconvert_exporter": "python",
   "pygments_lexer": "ipython3",
   "version": "3.6.2"
  }
 },
 "nbformat": 4,
 "nbformat_minor": 2
}
