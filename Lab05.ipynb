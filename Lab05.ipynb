{
 "cells": [
  {
   "cell_type": "markdown",
   "metadata": {},
   "source": [
    "[Link na zadatke](http://www.fer.unizg.hr/_download/repository/Zadatak_za_5._zadacu.pdf)"
   ]
  },
  {
   "cell_type": "code",
   "execution_count": 1,
   "metadata": {
    "collapsed": true
   },
   "outputs": [],
   "source": [
    "%%capture\n",
    "%run Lab01.ipynb"
   ]
  },
  {
   "cell_type": "code",
   "execution_count": 2,
   "metadata": {},
   "outputs": [],
   "source": [
    "import matplotlib.pyplot as plt\n",
    "import logging"
   ]
  },
  {
   "cell_type": "code",
   "execution_count": 3,
   "metadata": {
    "collapsed": true
   },
   "outputs": [],
   "source": [
    "class SingularMatrixException(Exception):\n",
    "    def __init__(self, message):\n",
    "        super(SingularMatrixException, self).__init__(message)"
   ]
  },
  {
   "cell_type": "code",
   "execution_count": 4,
   "metadata": {
    "collapsed": true
   },
   "outputs": [],
   "source": [
    "class Matrix(Matrix):\n",
    "    def is_singular(self, tolerance=1e-6):\n",
    "        return abs(np.linalg.det(self.elements)) <= tolerance\n",
    "        \n",
    "    def inverse(self):\n",
    "        if self.is_singular():\n",
    "            raise SingularMatrixException(\"Called inverse, but matrix is singular.\")\n",
    "            \n",
    "        lhs = self\n",
    "        rhs = Matrix.identity(self.width)\n",
    "        L, U, P = lup(lhs)\n",
    "        rhs_prime = permute_rows(rhs, P, rhs.height)\n",
    "        \n",
    "        sol = []\n",
    "        for row in rhs_prime.T:\n",
    "            fs = forward_sub(L, Matrix(row).T)\n",
    "            bs = backward_sub(U, fs)\n",
    "            sol.append([e[0] for e in bs.elements])\n",
    "            \n",
    "        return Matrix(sol).T\n",
    "    \n",
    "    @staticmethod\n",
    "    def identity(rank):\n",
    "        return Matrix(np.identity(rank))\n",
    "    \n",
    "    @staticmethod\n",
    "    def zeros(shape):\n",
    "        return Matrix(np.zeros(shape))"
   ]
  },
  {
   "cell_type": "code",
   "execution_count": 5,
   "metadata": {
    "collapsed": true
   },
   "outputs": [],
   "source": [
    "def assert_square_matrix(matrix):\n",
    "    if matrix.width != matrix.height:\n",
    "        raise InvalidDimensionException(matrix)\n",
    "    return matrix.height"
   ]
  },
  {
   "cell_type": "code",
   "execution_count": 6,
   "metadata": {
    "collapsed": true
   },
   "outputs": [],
   "source": [
    "def do_nothing(*args):\n",
    "    pass\n",
    "\n",
    "def log_every_nth(n):\n",
    "    def accept_logger(logger, level):\n",
    "        def accept_values(i, value):\n",
    "            if i % n == 0:\n",
    "                logger.log(level, value)\n",
    "        return accept_values\n",
    "    return accept_logger"
   ]
  },
  {
   "cell_type": "code",
   "execution_count": 7,
   "metadata": {
    "collapsed": true
   },
   "outputs": [],
   "source": [
    "def log(method_accepting_logger_and_level, level=logging.DEBUG):\n",
    "    def decorator(function):\n",
    "        logger = logging.getLogger(function.__name__)\n",
    "        def wrapper(*args, **kwargs):\n",
    "            kwargs['logger_callable'] = \\\n",
    "                method_accepting_logger_and_level(logger, level)\n",
    "            return function(*args, **kwargs)\n",
    "        return wrapper\n",
    "    return decorator"
   ]
  },
  {
   "cell_type": "code",
   "execution_count": 8,
   "metadata": {
    "collapsed": true
   },
   "outputs": [],
   "source": [
    "@log(log_every_nth(10), level=logging.DEBUG)\n",
    "def trapezoid(A, B, x0, T, step, logger_callable=do_nothing):\n",
    "    rank = assert_square_matrix(A)\n",
    "    h = T / step\n",
    "    inv = (Matrix.identity(rank) - A * h / 2).inverse()\n",
    "    R = inv * (Matrix.identity(rank) + A * h / 2)\n",
    "    S = inv * B\n",
    "    y = [Matrix(x0)]\n",
    "    for i in range(1, step):\n",
    "        y.append(R * y[i - 1] + S)\n",
    "        logger_callable(i, \"({}, {})\".format(*y[-1]))\n",
    "        \n",
    "    return np.linspace(0, T, step), y"
   ]
  },
  {
   "cell_type": "code",
   "execution_count": 9,
   "metadata": {
    "collapsed": true
   },
   "outputs": [],
   "source": [
    "@log(log_every_nth(10), level=logging.DEBUG)\n",
    "def runge_kutta(A, B, x0, T, step, logger_callable=do_nothing):\n",
    "    rank = assert_square_matrix(A)\n",
    "    h = T / step\n",
    "    y = [Matrix(x0)]\n",
    "    for i in range(1, step):\n",
    "        m1 = A * y[i - 1] + B\n",
    "        m2 = A * (y[i - 1] + h / 2 * m1) + B\n",
    "        m3 = A * (y[i - 1] + h / 2 * m2) + B\n",
    "        m4 = A * (y[i - 1] + h * m3) + B\n",
    "        y.append(y[i - 1] + h / 6 * (m1 + 2 * m2 + 2 * m3 + m4))\n",
    "        \n",
    "        logger_callable(i, \"({}, {})\".format(*y[-1]))\n",
    "    return np.linspace(0, T, step), y"
   ]
  },
  {
   "cell_type": "markdown",
   "metadata": {},
   "source": [
    "# Zadatak 1.\n",
    "Inverz (singularne) matrice."
   ]
  },
  {
   "cell_type": "code",
   "execution_count": 10,
   "metadata": {},
   "outputs": [
    {
     "name": "stdout",
     "output_type": "stream",
     "text": [
      "Called inverse, but matrix is singular.\n"
     ]
    }
   ],
   "source": [
    "m = Matrix(\n",
    "    [[1, 2, 3],\n",
    "     [4, 5, 6],\n",
    "     [7, 8, 9]])\n",
    "\n",
    "try:\n",
    "    m.inverse()\n",
    "except Exception as e:\n",
    "    print(e.args[0])"
   ]
  },
  {
   "cell_type": "markdown",
   "metadata": {},
   "source": [
    "# Zadatak 2.\n",
    "Inverz matrice."
   ]
  },
  {
   "cell_type": "code",
   "execution_count": 11,
   "metadata": {},
   "outputs": [
    {
     "data": {
      "text/plain": [
       "-0.0 -3.0 -2.0\n",
       "1.0 -4.0 -2.0\n",
       "-3.0 4.0 1.0"
      ]
     },
     "execution_count": 11,
     "metadata": {},
     "output_type": "execute_result"
    }
   ],
   "source": [
    "m = Matrix(\n",
    "    [[4, -5, -2],\n",
    "     [5, -6, -2],\n",
    "     [-8, 9, 3]])\n",
    "m.inverse()"
   ]
  },
  {
   "cell_type": "markdown",
   "metadata": {},
   "source": [
    "# Zadatak 3."
   ]
  },
  {
   "cell_type": "code",
   "execution_count": 12,
   "metadata": {},
   "outputs": [],
   "source": [
    "A = Matrix([[0, 1], \n",
    "            [-1, 0]])\n",
    "B = Matrix.zeros([2]).T\n",
    "x0 = Matrix([0, 2]).T\n",
    "T, step = 5, 50"
   ]
  },
  {
   "cell_type": "code",
   "execution_count": 13,
   "metadata": {},
   "outputs": [
    {
     "data": {
      "image/png": "[encoded data removed]",
      "text/plain": [
       "<matplotlib.figure.Figure at 0x7fd3774bcb00>"
      ]
     },
     "metadata": {},
     "output_type": "display_data"
    }
   ],
   "source": [
    "# trapezoid\n",
    "xt, yt = trapezoid(A, B, x0, T, step)\n",
    "plt.plot(xt, [ i.elements[0] for i in yt ], label=\"Trapezoid\")\n",
    "\n",
    "# runge-kutta\n",
    "xrk, yrk = runge_kutta(A, B, x0, T, step)\n",
    "plt.plot(xrk, [ i.elements[0] for i in yrk ], label=\"Runge Kutta\")\n",
    "\n",
    "# analytical\n",
    "xa = np.linspace(0, T, 100)\n",
    "ya = x0[0] * np.cos(xa) + x0[1] * np.sin(xa)\n",
    "plt.plot(xa, ya, label=\"Analytical solution\")\n",
    "\n",
    "_ = plt.legend()"
   ]
  },
  {
   "cell_type": "markdown",
   "metadata": {},
   "source": [
    "# Zadatak 4. "
   ]
  },
  {
   "cell_type": "code",
   "execution_count": 14,
   "metadata": {
    "collapsed": true
   },
   "outputs": [],
   "source": [
    "A = Matrix([[0, 1],\n",
    "            [-200, -102]])\n",
    "B = Matrix.zeros([2]).T\n",
    "x0 = Matrix([1, -2]).T"
   ]
  },
  {
   "cell_type": "code",
   "execution_count": 15,
   "metadata": {},
   "outputs": [
    {
     "data": {
      "image/png": "[encoded data removed]",
      "text/plain": [
       "<matplotlib.figure.Figure at 0x7fd375d307f0>"
      ]
     },
     "metadata": {},
     "output_type": "display_data"
    }
   ],
   "source": [
    "T, step = 1, 10\n",
    "xrk, yrk = runge_kutta(A, B, x0, T, step)\n",
    "plt.plot(xrk, [ i.elements[0] for i in yrk ], \n",
    "         label=\"Runge Kutta (h=%.2f)\" % (T / step))\n",
    "_ = plt.legend()\n",
    "\n",
    "T, step = 1, 20\n",
    "xrk, yrk = runge_kutta(A, B, x0, T, step)\n",
    "plt.plot(xrk, [ i.elements[0] for i in yrk ], \n",
    "         label=\"Runge Kutta (h=%.2f)\" % (T / step))\n",
    "_ = plt.legend()\n",
    "\n",
    "T, step = 1, 30\n",
    "xrk, yrk = runge_kutta(A, B, x0, T, step)\n",
    "plt.plot(xrk, [ i.elements[0] for i in yrk ], \n",
    "         label=\"Runge Kutta (h=%.2f)\" % (T / step))\n",
    "_ = plt.legend()"
   ]
  },
  {
   "cell_type": "code",
   "execution_count": 16,
   "metadata": {},
   "outputs": [
    {
     "data": {
      "image/png": "[encoded data removed]",
      "text/plain": [
       "<matplotlib.figure.Figure at 0x7fd3760b4eb8>"
      ]
     },
     "metadata": {},
     "output_type": "display_data"
    }
   ],
   "source": [
    "T, step = 1, 10\n",
    "xt, yt = trapezoid(A, B, x0, T, step)\n",
    "plt.plot(xt, [ i.elements[0] for i in yt ], \n",
    "         label=\"Trapezoid (h=%.2f)\" % (T / step))\n",
    "_ = plt.legend()\n",
    "\n",
    "T, step = 1, 20\n",
    "xt, yt = trapezoid(A, B, x0, T, step)\n",
    "plt.plot(xt, [ i.elements[0] for i in yt ], \n",
    "         label=\"Trapezoid (h=%.2f)\" % (T / step))\n",
    "_ = plt.legend()\n",
    "\n",
    "T, step = 1, 30\n",
    "xt, yt = trapezoid(A, B, x0, T, step)\n",
    "plt.plot(xt, [ i.elements[0] for i in yt ], \n",
    "         label=\"Trapezoid (h=%.2f)\" % (T / step))\n",
    "_ = plt.legend()"
   ]
  }
 ],
 "metadata": {
  "kernelspec": {
   "display_name": "Python 3.6",
   "language": "python",
   "name": "python36"
  },
  "language_info": {
   "codemirror_mode": {
    "name": "ipython",
    "version": 3
   },
   "file_extension": ".py",
   "mimetype": "text/x-python",
   "name": "python",
   "nbconvert_exporter": "python",
   "pygments_lexer": "ipython3",
   "version": "3.6.3"
  }
 },
 "nbformat": 4,
 "nbformat_minor": 2
}
