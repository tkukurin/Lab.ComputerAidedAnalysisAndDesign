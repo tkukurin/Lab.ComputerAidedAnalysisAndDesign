{
 "cells": [
  {
   "cell_type": "code",
   "execution_count": 78,
   "metadata": {},
   "outputs": [],
   "source": [
    "%%capture\n",
    "%run ./Lab01.ipynb"
   ]
  },
  {
   "cell_type": "code",
   "execution_count": 81,
   "metadata": {},
   "outputs": [],
   "source": [
    "class Matrix(Matrix):\n",
    "    def inverse(self):\n",
    "        lhs = self\n",
    "        rhs = Matrix(np.identity(self.width))\n",
    "        L, U, P = lup(lhs)\n",
    "        rhs_prime = permute_rows(rhs, P, rhs.width)\n",
    "        return Matrix([ \n",
    "            backward_sub(U, forward_sub(L, Matrix(rpt).T)).elements for rpt in rhs_prime\n",
    "        ])"
   ]
  },
  {
   "cell_type": "code",
   "execution_count": 82,
   "metadata": {},
   "outputs": [
    {
     "data": {
      "text/plain": [
       "[9007199254740992.0] [-18014398509481984.0] [9007199254740992.0]\n",
       "[-4503599627370496.0] [9007199254740991.0] [-4503599627370495.5]\n",
       "[-4503599627370498.0] [9007199254740996.0] [-4503599627370498.0]"
      ]
     },
     "execution_count": 82,
     "metadata": {},
     "output_type": "execute_result"
    }
   ],
   "source": [
    "# TODO vrlo vjerojatno ovo je krivo\n",
    "m = Matrix(\n",
    "    [[1, 2, 3],\n",
    "     [4, 5, 6],\n",
    "     [7, 8, 9]])\n",
    "m.inverse()"
   ]
  },
  {
   "cell_type": "code",
   "execution_count": null,
   "metadata": {
    "collapsed": true
   },
   "outputs": [],
   "source": []
  }
 ],
 "metadata": {
  "kernelspec": {
   "display_name": "Python 3",
   "language": "python",
   "name": "python3"
  },
  "language_info": {
   "codemirror_mode": {
    "name": "ipython",
    "version": 3
   },
   "file_extension": ".py",
   "mimetype": "text/x-python",
   "name": "python",
   "nbconvert_exporter": "python",
   "pygments_lexer": "ipython3",
   "version": "3.6.2"
  }
 },
 "nbformat": 4,
 "nbformat_minor": 2
}
