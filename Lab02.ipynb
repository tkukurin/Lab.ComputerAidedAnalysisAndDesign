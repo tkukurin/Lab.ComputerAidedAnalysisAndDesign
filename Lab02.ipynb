{
 "cells": [
  {
   "cell_type": "markdown",
   "metadata": {},
   "source": [
    "[Link na zadatke](http://www.fer.unizg.hr/_download/repository/vjezba_2%5B4%5D.pdf)"
   ]
  },
  {
   "cell_type": "code",
   "execution_count": 85,
   "metadata": {
    "collapsed": true
   },
   "outputs": [],
   "source": [
    "import numpy as np\n",
    "import math\n",
    "\n",
    "norm = np.linalg.norm"
   ]
  },
  {
   "cell_type": "markdown",
   "metadata": {},
   "source": [
    "### [Wrapper za brojanje fn. calls](https://stackoverflow.com/questions/1301735/counting-python-method-calls-within-another-method)"
   ]
  },
  {
   "cell_type": "code",
   "execution_count": 84,
   "metadata": {
    "collapsed": true
   },
   "outputs": [],
   "source": [
    "def counted(fn):\n",
    "    def wrapper(*args, **kwargs):\n",
    "        wrapper.called += 1\n",
    "        return fn(*args, **kwargs)\n",
    "    wrapper.called = 0\n",
    "    wrapper.__name__= fn.__name__\n",
    "    return wrapper\n",
    "\n",
    "def counts(fn):\n",
    "    def wrapper(f, *args, **kwargs):\n",
    "        f.called = 0\n",
    "        try:\n",
    "            return fn(f, *args, **kwargs)\n",
    "        finally:\n",
    "            wrapper.calls_to_function = f.called\n",
    "    wrapper.__name__= fn.__name__\n",
    "    return wrapper"
   ]
  },
  {
   "cell_type": "markdown",
   "metadata": {},
   "source": [
    "## Funkcije cilja"
   ]
  },
  {
   "cell_type": "code",
   "execution_count": 66,
   "metadata": {
    "collapsed": true
   },
   "outputs": [],
   "source": [
    "pt = lambda *x: np.array(x)\n",
    "dim = lambda pt: len(pt)\n",
    "\n",
    "@counted\n",
    "def f1(x):\n",
    "    x1, x2 = x\n",
    "    return 100 * (x2 - x1 ** 2) ** 2 + (1 - x1) ** 2\n",
    "f1_x0 = pt(-1.9, 2)\n",
    "f1_xmin = pt(1, 1)\n",
    "f1_min = 0\n",
    "\n",
    "@counted\n",
    "def f2(x):\n",
    "    x1, x2 = x\n",
    "    return (x1 - 4) ** 2 + 4 * (x2 - 2) ** 2\n",
    "f2_x0 = pt(0.1, 0.3)\n",
    "f2_xmin = pt(4, 2)\n",
    "f2_min = 0\n",
    "\n",
    "@counted\n",
    "def f3(x):\n",
    "    return np.sum(np.square(np.arange(1, x.shape[0] + 1) - x))\n",
    "f3_x0 = pt(0, 0, 0, 0, 0)\n",
    "f3_min = 0\n",
    "\n",
    "@counted\n",
    "def f4(x):\n",
    "    x1, x2 = x\n",
    "    return abs((x1 - x2) * (x1 + x2)) + math.sqrt(x1 ** 2 + x2 ** 2)\n",
    "f4_x0 = pt(5.1, 1.1)\n",
    "f4_min = 0\n",
    "\n",
    "@counted\n",
    "def f6(x):\n",
    "    x = np.sum(np.square(x))\n",
    "    return 0.5 + (math.sin(math.sqrt(x)) ** 2 - 0.5) / (1 + 0.001 * x) ** 2\n",
    "f6_xmin = 0\n",
    "f6_min = 0"
   ]
  },
  {
   "cell_type": "markdown",
   "metadata": {},
   "source": [
    "### [Golden section](http://www.fer.unizg.hr/_download/repository/zlatni_rez.txt)"
   ]
  },
  {
   "cell_type": "code",
   "execution_count": 28,
   "metadata": {
    "collapsed": true
   },
   "outputs": [],
   "source": [
    "@counts\n",
    "def zlatni_rez(f, a, b, e, k=0.5*(math.sqrt(5) - 1)):\n",
    "    hi = b - k * (b - a)\n",
    "    lo = a + k * (b - a)\n",
    "    \n",
    "    f_hi = f(hi)\n",
    "    f_lo = f(lo)\n",
    "    \n",
    "    while (b - a) > e:\n",
    "        if f_hi < f_lo:\n",
    "            b = lo\n",
    "            lo = hi\n",
    "            hi = b - k * (b - a)\n",
    "            f_lo = f_hi\n",
    "            f_hi = f(hi)\n",
    "        else:\n",
    "            a = hi\n",
    "            hi = lo\n",
    "            lo = a + k * (b - a)\n",
    "            f_hi = f_lo\n",
    "            f_lo = f(lo)\n",
    "    \n",
    "    return (a + b) / 2"
   ]
  },
  {
   "cell_type": "markdown",
   "metadata": {},
   "source": [
    "### [Unimodal](http://www.fer.unizg.hr/_download/repository/unimodalni.txt)"
   ]
  },
  {
   "cell_type": "code",
   "execution_count": 5,
   "metadata": {
    "collapsed": true
   },
   "outputs": [],
   "source": [
    "@counts\n",
    "def unimodalni(f, pt, h=1):\n",
    "    l, r = pt - h, pt + h\n",
    "    m = pt\n",
    "    step = 1\n",
    "    \n",
    "    fm = f(pt)\n",
    "    fl = f(l)\n",
    "    fr = f(r)\n",
    "    \n",
    "    if fm < fr and fm < fl:\n",
    "        return l, r\n",
    "    elif fm > fr:\n",
    "        while True:\n",
    "            l, m, fm = m, r, fr\n",
    "            r = pt + h * (step * 2)\n",
    "            fr = f(r)\n",
    "            step *= 2\n",
    "            if fm <= fr:\n",
    "                return l, r\n",
    "    else:\n",
    "        while True:\n",
    "            r, m, fm = m, l, fl\n",
    "            l = pt - h * (step * 2)\n",
    "            fl = f(l)\n",
    "            step *= 2\n",
    "            if fm <= fl:\n",
    "                return l, r\n",
    "    "
   ]
  },
  {
   "cell_type": "markdown",
   "metadata": {},
   "source": [
    "### [Simplex](http://www.fer.unizg.hr/_download/repository/simplex.html)"
   ]
  },
  {
   "cell_type": "code",
   "execution_count": 92,
   "metadata": {
    "collapsed": true
   },
   "outputs": [],
   "source": [
    "@counts\n",
    "def simplex_nelder_mead(\n",
    "    f, x0, alpha=1, beta=0.5, gamma=2, sigma=0.5, epsilon=1e-6):\n",
    "    \n",
    "    x = simplex_pts(x0)\n",
    "    reflect = lambda x0: x0 + alpha * (x0 - x[-1])\n",
    "    expand = lambda xr: x0 + gamma * (xr - x0)\n",
    "    stopping_condition = lambda xn, xb: xn - xb <= epsilon\n",
    "    \n",
    "    while True:\n",
    "        xc = np.mean(x)\n",
    "        xr = reflect()\n",
    "        \n",
    "        if f(xr) < f(x[l]):\n",
    "            xe = expand(xr)\n",
    "            if f(xe) < f(x[l]):\n",
    "                x[h] = xe\n",
    "            else:\n",
    "                x[h] = xr\n",
    "        else:\n",
    "            fxr = f(xr)\n",
    "            if all(fxr > f(xj) for j, xj in enumerate(x) if j != h):\n",
    "                if fxr < f(x[h]):\n",
    "                    x[h] = xr\n",
    "                else:\n",
    "                    pass # treba pomaknut sve tocke prema X[l] ??\n",
    "            else:\n",
    "                x[h] = xr\n",
    "        \n",
    "        if stopping_condition(x):\n",
    "            break\n",
    "            \n",
    "    return x"
   ]
  },
  {
   "cell_type": "markdown",
   "metadata": {},
   "source": [
    "### [Hooke-Jeeves](http://www.fer.unizg.hr/_download/repository/hj.html)\n",
    "\n",
    "* x0 - pocetna tocka\n",
    "* xB - bazna tocka \n",
    "* xP - pocetna tocka pretrazivanja\n",
    "* xN - tocka dobivena pretrazivanjem"
   ]
  },
  {
   "cell_type": "code",
   "execution_count": 86,
   "metadata": {},
   "outputs": [],
   "source": [
    "def reset_and_get_num_called(f):\n",
    "    called = f.called\n",
    "    f.called = 0\n",
    "    return called\n",
    "\n",
    "def lmap(f, x):\n",
    "    return np.array(list(map(f, x)))\n",
    "\n",
    "@counts\n",
    "def hooke_jeeves(f, x_0, eps=1e-6):\n",
    "    dx = 0.5 * np.ones_like(x_0)\n",
    "    eps = eps * np.ones_like(x_0)\n",
    "\n",
    "    xp = np.copy(x_0)\n",
    "    xb = np.copy(x_0)\n",
    "\n",
    "    while True:\n",
    "        xn = explore(f, xp, dx)\n",
    "\n",
    "        if f(xn) < f(xb):\n",
    "            xp = 2 * xn - xb\n",
    "            xb = xn\n",
    "        else:\n",
    "            dx /= 2\n",
    "            xp = xb\n",
    "            if np.any(eps > dx):\n",
    "                break\n",
    "    return xp\n",
    "    #return xp, reset_and_get_num_called(f)\n",
    "\n",
    "def explore(f, xp, dx):\n",
    "    x = np.copy(xp)\n",
    "    for i in range(dim(xp)):\n",
    "        P = f(x)\n",
    "        x[i] = x[i] + dx[i]\n",
    "        if f(x) > P:\n",
    "            x[i] = x[i] - 2 * dx[i]\n",
    "            if f(x) > P:\n",
    "                x[i] = x[i] + dx[i]\n",
    "    return x"
   ]
  },
  {
   "cell_type": "code",
   "execution_count": 87,
   "metadata": {},
   "outputs": [
    {
     "data": {
      "text/plain": [
       "array([10,  0])"
      ]
     },
     "execution_count": 87,
     "metadata": {},
     "output_type": "execute_result"
    }
   ],
   "source": [
    "hooke_jeeves(f4, pt(10, 0))"
   ]
  },
  {
   "cell_type": "code",
   "execution_count": 88,
   "metadata": {},
   "outputs": [
    {
     "data": {
      "text/plain": [
       "114"
      ]
     },
     "execution_count": 88,
     "metadata": {},
     "output_type": "execute_result"
    }
   ],
   "source": [
    "hooke_jeeves.calls_to_function"
   ]
  },
  {
   "cell_type": "markdown",
   "metadata": {},
   "source": [
    "# Zadaci\n",
    "## 1.\n",
    "Definirajte jednodimenzijsku funkciju br. 3, koja će imati minimum u točki 3. Kao početnu točku\n",
    "pretraživanja postavite točku 10. Primijenite sva tri postupka na rješavanje ove funkcije te ispišite\n",
    "pronađeni minimum i broj evaluacija funkcije za svaki pojedini postupak. Probajte sve više\n",
    "udaljavati početnu točku od minimuma i probajte ponovo pokrenuti navedene postupke. Što možete\n",
    "zaključiti? "
   ]
  },
  {
   "cell_type": "code",
   "execution_count": 99,
   "metadata": {},
   "outputs": [
    {
     "data": {
      "text/html": [
       "<div>\n",
       "<table border=\"1\" class=\"dataframe\">\n",
       "  <thead>\n",
       "    <tr style=\"text-align: right;\">\n",
       "      <th></th>\n",
       "      <th>Algoritam</th>\n",
       "      <th>Broj poziva</th>\n",
       "      <th>Rezultat</th>\n",
       "    </tr>\n",
       "  </thead>\n",
       "  <tbody>\n",
       "    <tr>\n",
       "      <th>0</th>\n",
       "      <td>hooke_jeeves</td>\n",
       "      <td>76</td>\n",
       "      <td>[10]</td>\n",
       "    </tr>\n",
       "  </tbody>\n",
       "</table>\n",
       "</div>"
      ],
      "text/plain": [
       "      Algoritam  Broj poziva Rezultat\n",
       "0  hooke_jeeves           76     [10]"
      ]
     },
     "execution_count": 99,
     "metadata": {},
     "output_type": "execute_result"
    }
   ],
   "source": [
    "import pandas as pd\n",
    "\n",
    "hooke_jeeves(f3, pt(10))\n",
    "hooke_jeeves.calls_to_function\n",
    "\n",
    "data = []\n",
    "for f in [ hooke_jeeves ]:\n",
    "    result = f(f3, pt(10))\n",
    "    data.append([f.__name__, f.calls_to_function, result])\n",
    "\n",
    "pd.DataFrame(data, columns=['Algoritam', 'Broj poziva', 'Rezultat'])"
   ]
  },
  {
   "cell_type": "markdown",
   "metadata": {},
   "source": [
    "## 2.\n",
    "Primijenite simpleks po Nelderu i Meadu, Hooke-Jeeves postupak te pretraživanje po koordinatnim\n",
    "osima na funkcije 1-4 uz zadane parametre i početne točke (broj varijabli funkcije 3 najmanje 5). Za\n",
    "svaki postupak i svaku funkciju odredite minimum koji su postupci pronašli i potrebni broj\n",
    "evaluacija funkcije cilja koji je potreban do konvergencije (prikažite tablično). Što možete zaključiti\n",
    "iz rezultata?"
   ]
  },
  {
   "cell_type": "code",
   "execution_count": 101,
   "metadata": {},
   "outputs": [
    {
     "data": {
      "text/html": [
       "<div>\n",
       "<table border=\"1\" class=\"dataframe\">\n",
       "  <thead>\n",
       "    <tr style=\"text-align: right;\">\n",
       "      <th></th>\n",
       "      <th>Algoritam</th>\n",
       "      <th>Broj poziva</th>\n",
       "      <th>Rezultat</th>\n",
       "    </tr>\n",
       "  </thead>\n",
       "  <tbody>\n",
       "    <tr>\n",
       "      <th>0</th>\n",
       "      <td>hooke_jeeves</td>\n",
       "      <td>694</td>\n",
       "      <td>[1.00000152588, 1.0000038147]</td>\n",
       "    </tr>\n",
       "    <tr>\n",
       "      <th>1</th>\n",
       "      <td>hooke_jeeves</td>\n",
       "      <td>305</td>\n",
       "      <td>[3.99999961853, 2.00000076294]</td>\n",
       "    </tr>\n",
       "    <tr>\n",
       "      <th>2</th>\n",
       "      <td>hooke_jeeves</td>\n",
       "      <td>228</td>\n",
       "      <td>[0, 0, 0, 0, 0]</td>\n",
       "    </tr>\n",
       "    <tr>\n",
       "      <th>3</th>\n",
       "      <td>hooke_jeeves</td>\n",
       "      <td>172</td>\n",
       "      <td>[3.1, 3.1]</td>\n",
       "    </tr>\n",
       "  </tbody>\n",
       "</table>\n",
       "</div>"
      ],
      "text/plain": [
       "      Algoritam  Broj poziva                        Rezultat\n",
       "0  hooke_jeeves          694   [1.00000152588, 1.0000038147]\n",
       "1  hooke_jeeves          305  [3.99999961853, 2.00000076294]\n",
       "2  hooke_jeeves          228                 [0, 0, 0, 0, 0]\n",
       "3  hooke_jeeves          172                      [3.1, 3.1]"
      ]
     },
     "execution_count": 101,
     "metadata": {},
     "output_type": "execute_result"
    }
   ],
   "source": [
    "fs = [f1, f2, f3, f4]\n",
    "x0s = [f1_x0, f2_x0, f3_x0, f4_x0]\n",
    "\n",
    "data = []\n",
    "for search_f in [hooke_jeeves]:\n",
    "    for f, x0 in zip(fs, x0s):\n",
    "        result = search_f(f, x0)\n",
    "        data.append(\n",
    "            [search_f.__name__, search_f.calls_to_function, result])\n",
    "\n",
    "pd.DataFrame(data, columns=['Algoritam', 'Broj poziva', 'Rezultat'])"
   ]
  },
  {
   "cell_type": "markdown",
   "metadata": {},
   "source": [
    "## 3.\n",
    "Primijenite postupak Hooke-Jeeves i simpleks po Nelderu i Meadu na funkciju 4 uz početnu točku\n",
    "(5, 5). Objasnite rezultate!"
   ]
  },
  {
   "cell_type": "code",
   "execution_count": 102,
   "metadata": {},
   "outputs": [
    {
     "data": {
      "text/plain": [
       "array([5, 5])"
      ]
     },
     "execution_count": 102,
     "metadata": {},
     "output_type": "execute_result"
    }
   ],
   "source": [
    "hooke_jeeves(f4, pt(5, 5))"
   ]
  },
  {
   "cell_type": "markdown",
   "metadata": {},
   "source": [
    "## 4.\n",
    "Primijenite simpleks po Nelderu i Meadu na funkciju 1. Kao početnu točku postavite točku (0.5,0.5).\n",
    "Provedite postupak s nekoliko različitih koraka za generiranje početnog simpleksa (primjerice iz\n",
    "intervala od 1 do 20) i zabilježite potreban broj evaluacija funkcije cilja i pronađene točke\n",
    "minimuma. Potom probajte kao početnu točku postaviti točku (20,20) i ponovo provesti eksperiment.\n",
    "Što možete zaključiti?"
   ]
  },
  {
   "cell_type": "markdown",
   "metadata": {},
   "source": [
    "## 5.\n",
    "Primijenite jedan postupak optimizacije na funkciju 6 u dvije dimenzije, tako da postupak pokrećete\n",
    "više puta iz slučajno odabrane početne točke u intervalu [-50,50]. Možete li odrediti vjerojatnost\n",
    "pronalaženja globalnog optimuma na ovaj način? (smatramo da je algoritam locirao globalni\n",
    "minimum ako je nađena vrijednost funkcije cilja manja od 10^-4)"
   ]
  },
  {
   "cell_type": "code",
   "execution_count": 107,
   "metadata": {},
   "outputs": [
    {
     "data": {
      "text/html": [
       "<div>\n",
       "<table border=\"1\" class=\"dataframe\">\n",
       "  <thead>\n",
       "    <tr style=\"text-align: right;\">\n",
       "      <th></th>\n",
       "      <th>Algoritam</th>\n",
       "      <th>x0</th>\n",
       "      <th>Broj poziva</th>\n",
       "      <th>Rezultat</th>\n",
       "    </tr>\n",
       "  </thead>\n",
       "  <tbody>\n",
       "    <tr>\n",
       "      <th>0</th>\n",
       "      <td>hooke_jeeves</td>\n",
       "      <td>[-30, 4]</td>\n",
       "      <td>146</td>\n",
       "      <td>[-28, 4]</td>\n",
       "    </tr>\n",
       "    <tr>\n",
       "      <th>1</th>\n",
       "      <td>hooke_jeeves</td>\n",
       "      <td>[33, 24]</td>\n",
       "      <td>114</td>\n",
       "      <td>[33, 24]</td>\n",
       "    </tr>\n",
       "    <tr>\n",
       "      <th>2</th>\n",
       "      <td>hooke_jeeves</td>\n",
       "      <td>[13, 18]</td>\n",
       "      <td>114</td>\n",
       "      <td>[13, 18]</td>\n",
       "    </tr>\n",
       "    <tr>\n",
       "      <th>3</th>\n",
       "      <td>hooke_jeeves</td>\n",
       "      <td>[34, 31]</td>\n",
       "      <td>114</td>\n",
       "      <td>[34, 31]</td>\n",
       "    </tr>\n",
       "    <tr>\n",
       "      <th>4</th>\n",
       "      <td>hooke_jeeves</td>\n",
       "      <td>[-19, 40]</td>\n",
       "      <td>139</td>\n",
       "      <td>[-18, 40]</td>\n",
       "    </tr>\n",
       "    <tr>\n",
       "      <th>5</th>\n",
       "      <td>hooke_jeeves</td>\n",
       "      <td>[12, 20]</td>\n",
       "      <td>114</td>\n",
       "      <td>[12, 20]</td>\n",
       "    </tr>\n",
       "    <tr>\n",
       "      <th>6</th>\n",
       "      <td>hooke_jeeves</td>\n",
       "      <td>[-3, 9]</td>\n",
       "      <td>133</td>\n",
       "      <td>[-3, 9]</td>\n",
       "    </tr>\n",
       "    <tr>\n",
       "      <th>7</th>\n",
       "      <td>hooke_jeeves</td>\n",
       "      <td>[29, -24]</td>\n",
       "      <td>133</td>\n",
       "      <td>[29, -24]</td>\n",
       "    </tr>\n",
       "    <tr>\n",
       "      <th>8</th>\n",
       "      <td>hooke_jeeves</td>\n",
       "      <td>[-19, -25]</td>\n",
       "      <td>134</td>\n",
       "      <td>[-19, -25]</td>\n",
       "    </tr>\n",
       "    <tr>\n",
       "      <th>9</th>\n",
       "      <td>hooke_jeeves</td>\n",
       "      <td>[13, 13]</td>\n",
       "      <td>114</td>\n",
       "      <td>[13, 13]</td>\n",
       "    </tr>\n",
       "    <tr>\n",
       "      <th>10</th>\n",
       "      <td>hooke_jeeves</td>\n",
       "      <td>[-24, -49]</td>\n",
       "      <td>145</td>\n",
       "      <td>[-21, -46]</td>\n",
       "    </tr>\n",
       "    <tr>\n",
       "      <th>11</th>\n",
       "      <td>hooke_jeeves</td>\n",
       "      <td>[30, 41]</td>\n",
       "      <td>114</td>\n",
       "      <td>[30, 41]</td>\n",
       "    </tr>\n",
       "    <tr>\n",
       "      <th>12</th>\n",
       "      <td>hooke_jeeves</td>\n",
       "      <td>[-4, -23]</td>\n",
       "      <td>140</td>\n",
       "      <td>[-3, -22]</td>\n",
       "    </tr>\n",
       "    <tr>\n",
       "      <th>13</th>\n",
       "      <td>hooke_jeeves</td>\n",
       "      <td>[-18, 50]</td>\n",
       "      <td>133</td>\n",
       "      <td>[-18, 50]</td>\n",
       "    </tr>\n",
       "    <tr>\n",
       "      <th>14</th>\n",
       "      <td>hooke_jeeves</td>\n",
       "      <td>[-35, 0]</td>\n",
       "      <td>133</td>\n",
       "      <td>[-35, 0]</td>\n",
       "    </tr>\n",
       "    <tr>\n",
       "      <th>15</th>\n",
       "      <td>hooke_jeeves</td>\n",
       "      <td>[-4, 38]</td>\n",
       "      <td>132</td>\n",
       "      <td>[0, 38]</td>\n",
       "    </tr>\n",
       "    <tr>\n",
       "      <th>16</th>\n",
       "      <td>hooke_jeeves</td>\n",
       "      <td>[24, 2]</td>\n",
       "      <td>114</td>\n",
       "      <td>[24, 2]</td>\n",
       "    </tr>\n",
       "    <tr>\n",
       "      <th>17</th>\n",
       "      <td>hooke_jeeves</td>\n",
       "      <td>[-12, 45]</td>\n",
       "      <td>133</td>\n",
       "      <td>[-12, 45]</td>\n",
       "    </tr>\n",
       "    <tr>\n",
       "      <th>18</th>\n",
       "      <td>hooke_jeeves</td>\n",
       "      <td>[47, 9]</td>\n",
       "      <td>114</td>\n",
       "      <td>[47, 9]</td>\n",
       "    </tr>\n",
       "    <tr>\n",
       "      <th>19</th>\n",
       "      <td>hooke_jeeves</td>\n",
       "      <td>[-25, 46]</td>\n",
       "      <td>133</td>\n",
       "      <td>[-25, 46]</td>\n",
       "    </tr>\n",
       "  </tbody>\n",
       "</table>\n",
       "</div>"
      ],
      "text/plain": [
       "       Algoritam          x0  Broj poziva    Rezultat\n",
       "0   hooke_jeeves    [-30, 4]          146    [-28, 4]\n",
       "1   hooke_jeeves    [33, 24]          114    [33, 24]\n",
       "2   hooke_jeeves    [13, 18]          114    [13, 18]\n",
       "3   hooke_jeeves    [34, 31]          114    [34, 31]\n",
       "4   hooke_jeeves   [-19, 40]          139   [-18, 40]\n",
       "5   hooke_jeeves    [12, 20]          114    [12, 20]\n",
       "6   hooke_jeeves     [-3, 9]          133     [-3, 9]\n",
       "7   hooke_jeeves   [29, -24]          133   [29, -24]\n",
       "8   hooke_jeeves  [-19, -25]          134  [-19, -25]\n",
       "9   hooke_jeeves    [13, 13]          114    [13, 13]\n",
       "10  hooke_jeeves  [-24, -49]          145  [-21, -46]\n",
       "11  hooke_jeeves    [30, 41]          114    [30, 41]\n",
       "12  hooke_jeeves   [-4, -23]          140   [-3, -22]\n",
       "13  hooke_jeeves   [-18, 50]          133   [-18, 50]\n",
       "14  hooke_jeeves    [-35, 0]          133    [-35, 0]\n",
       "15  hooke_jeeves    [-4, 38]          132     [0, 38]\n",
       "16  hooke_jeeves     [24, 2]          114     [24, 2]\n",
       "17  hooke_jeeves   [-12, 45]          133   [-12, 45]\n",
       "18  hooke_jeeves     [47, 9]          114     [47, 9]\n",
       "19  hooke_jeeves   [-25, 46]          133   [-25, 46]"
      ]
     },
     "execution_count": 107,
     "metadata": {},
     "output_type": "execute_result"
    }
   ],
   "source": [
    "ncalls = 20\n",
    "\n",
    "data = []\n",
    "for i in range(ncalls):\n",
    "    random = np.random.randint(-50, 50 + 1, size=2)\n",
    "    result = hooke_jeeves(f6, pt(*random))\n",
    "    data.append([hooke_jeeves.__name__, \n",
    "                 random,\n",
    "                 hooke_jeeves.calls_to_function, \n",
    "                 result])\n",
    "\n",
    "pd.DataFrame(data, columns=['Algoritam', 'x0', 'Broj poziva', 'Rezultat'])"
   ]
  },
  {
   "cell_type": "markdown",
   "metadata": {},
   "source": [
    "# Matlab\n",
    "* `fminbnd` (1 var)\n",
    "* `fminsearch` (vise var; simplex po N&M)\n",
    "* `fminunc` (vise var; razliciti alg.)\n",
    "* `fmincon` (vise var, uz ogranicenja)"
   ]
  }
 ],
 "metadata": {
  "kernelspec": {
   "display_name": "Python 3",
   "language": "python",
   "name": "python3"
  },
  "language_info": {
   "codemirror_mode": {
    "name": "ipython",
    "version": 3
   },
   "file_extension": ".py",
   "mimetype": "text/x-python",
   "name": "python",
   "nbconvert_exporter": "python",
   "pygments_lexer": "ipython3",
   "version": "3.6.2"
  }
 },
 "nbformat": 4,
 "nbformat_minor": 2
}
