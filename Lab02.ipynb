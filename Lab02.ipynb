{
 "cells": [
  {
   "cell_type": "markdown",
   "metadata": {},
   "source": [
    "[Link na zadatke](http://www.fer.unizg.hr/_download/repository/vjezba_2%5B4%5D.pdf)"
   ]
  },
  {
   "cell_type": "code",
   "execution_count": 1,
   "metadata": {
    "collapsed": true
   },
   "outputs": [],
   "source": [
    "import numpy as np\n",
    "import pandas as pd\n",
    "import math\n",
    "from common import *\n",
    "\n",
    "norm = np.linalg.norm\n",
    "pd.set_option('display.max_colwidth', -1)\n"
   ]
  },
  {
   "cell_type": "markdown",
   "metadata": {},
   "source": [
    "### [Wrapper za brojanje fn. calls](https://stackoverflow.com/questions/1301735/counting-python-method-calls-within-another-method)"
   ]
  },
  {
   "cell_type": "code",
   "execution_count": 2,
   "metadata": {
    "collapsed": true
   },
   "outputs": [],
   "source": [
    "def counted(fn):\n",
    "    def wrapper(*args, **kwargs):\n",
    "        wrapper.called += 1\n",
    "        return fn(*args, **kwargs)\n",
    "    wrapper.called = 0\n",
    "    wrapper.__name__= fn.__name__\n",
    "    return wrapper\n",
    "\n",
    "def counts(fn):\n",
    "    def wrapper(f, *args, **kwargs):\n",
    "        f.called = 0\n",
    "        try:\n",
    "            return fn(f, *args, **kwargs)\n",
    "        finally:\n",
    "            wrapper.calls_to_function = f.called\n",
    "    wrapper.__name__= fn.__name__\n",
    "    return wrapper"
   ]
  },
  {
   "cell_type": "markdown",
   "metadata": {},
   "source": [
    "## Funkcije cilja"
   ]
  },
  {
   "cell_type": "code",
   "execution_count": 117,
   "metadata": {
    "collapsed": true
   },
   "outputs": [],
   "source": [
    "pt = lambda *x: np.array(x, dtype=float)\n",
    "dim = lambda pt: len(pt)\n",
    "\n",
    "@counted\n",
    "def f1(x):\n",
    "    x1, x2 = x\n",
    "    return 100 * (x2 - x1 ** 2) ** 2 + (1 - x1) ** 2\n",
    "f1_x0 = pt(-1.9, 2)\n",
    "f1_xmin = pt(1, 1)\n",
    "f1_min = 0\n",
    "\n",
    "@counted\n",
    "def f2(x):\n",
    "    x1, x2 = x\n",
    "    return (x1 - 4) ** 2 + 4 * (x2 - 2) ** 2\n",
    "f2_x0 = pt(0.1, 0.3)\n",
    "f2_xmin = pt(4, 2)\n",
    "f2_min = 0\n",
    "\n",
    "@counted\n",
    "def f3(x):\n",
    "    return np.sum(np.square(np.arange(1, x.shape[0] + 1) - x))\n",
    "f3_x0 = pt(0, 0, 0, 0, 0)\n",
    "f3_min = 0\n",
    "\n",
    "@counted\n",
    "def f4(x):\n",
    "    x1, x2 = x\n",
    "    return abs((x1 - x2) * (x1 + x2)) + math.sqrt(x1 ** 2 + x2 ** 2)\n",
    "f4_x0 = pt(5.1, 1.1)\n",
    "f4_min = 0\n",
    "\n",
    "@counted\n",
    "def f6(x):\n",
    "    x = np.sum(np.square(x))\n",
    "    return 0.5 + (math.sin(math.sqrt(x)) ** 2 - 0.5) / (1 + 0.001 * x) ** 2\n",
    "f6_xmin = 0\n",
    "f6_min = 0"
   ]
  },
  {
   "cell_type": "markdown",
   "metadata": {},
   "source": [
    "### [Golden section](http://www.fer.unizg.hr/_download/repository/zlatni_rez.txt)"
   ]
  },
  {
   "cell_type": "code",
   "execution_count": 4,
   "metadata": {
    "collapsed": true
   },
   "outputs": [],
   "source": [
    "@counts\n",
    "def golden_section(f, a, b, e=1e-6, k=0.5*(math.sqrt(5) + 1)):\n",
    "    hi = b - (b - a) / k\n",
    "    lo = a + (b - a) / k\n",
    "    \n",
    "    f_hi = f(hi)\n",
    "    f_lo = f(lo)\n",
    "    \n",
    "    while abs(b - a) > e:\n",
    "        if f_hi < f_lo:\n",
    "            b = lo\n",
    "            lo = hi\n",
    "            hi = b - (b - a) / k\n",
    "            f_lo = f_hi\n",
    "            f_hi = f(hi)\n",
    "        else:\n",
    "            a = hi\n",
    "            hi = lo\n",
    "            lo = a + (b - a) / k\n",
    "            f_hi = f_lo\n",
    "            f_lo = f(lo)\n",
    "    \n",
    "    return (a + b) / 2"
   ]
  },
  {
   "cell_type": "code",
   "execution_count": 5,
   "metadata": {},
   "outputs": [
    {
     "name": "stdout",
     "output_type": "stream",
     "text": [
      "4.989999842904119\n",
      "35\n"
     ]
    }
   ],
   "source": [
    "@counted \n",
    "def test_gs_fn(x): \n",
    "    return (x - 4.99)**2\n",
    "\n",
    "print(golden_section(test_gs_fn, 0, 5))\n",
    "print(golden_section.calls_to_function)"
   ]
  },
  {
   "cell_type": "markdown",
   "metadata": {},
   "source": [
    "### [Unimodal](http://www.fer.unizg.hr/_download/repository/unimodalni.txt)"
   ]
  },
  {
   "cell_type": "code",
   "execution_count": 6,
   "metadata": {
    "collapsed": true
   },
   "outputs": [],
   "source": [
    "@counts\n",
    "def unimodal(f, pt, h=1):\n",
    "    l, r = pt - h, pt + h\n",
    "    m = pt\n",
    "    step = 1\n",
    "    \n",
    "    fm = f(pt)\n",
    "    fl = f(l)\n",
    "    fr = f(r)\n",
    "    \n",
    "    if fm < fr and fm < fl:\n",
    "        return l, r\n",
    "    elif fm > fr:\n",
    "        while True:\n",
    "            l, m, fm = m, r, fr\n",
    "            r += h * step\n",
    "            fr = f(r)\n",
    "            step *= 2\n",
    "            if fm <= fr:\n",
    "                return l, r\n",
    "    else:\n",
    "        while True:\n",
    "            r, m, fm = m, l, fl\n",
    "            l -= h * step\n",
    "            fl = f(l)\n",
    "            step *= 2\n",
    "            if fm <= fl:\n",
    "                return l, r\n",
    "    "
   ]
  },
  {
   "cell_type": "markdown",
   "metadata": {},
   "source": [
    "### Coordinate descent\n",
    "TODO uncopy"
   ]
  },
  {
   "cell_type": "code",
   "execution_count": 15,
   "metadata": {
    "collapsed": true
   },
   "outputs": [],
   "source": [
    "@counts\n",
    "def coordinate_descent(f, x0, eps=1e-6):\n",
    "    x = np.array(x0)\n",
    "    x_prev = x + 2 * eps\n",
    "    while norm(x_prev - x) > eps:\n",
    "        x_prev = np.copy(x)\n",
    "        for i in range(len(x)):\n",
    "            def fi(xt):\n",
    "                xp = np.copy(x)\n",
    "                xp[i] = xt\n",
    "                return f(xp)\n",
    "            l, r = unimodal(fi, 0.1, x[i])\n",
    "            x[i] = golden_section(fi, l, r, eps)\n",
    "    return x"
   ]
  },
  {
   "cell_type": "markdown",
   "metadata": {},
   "source": [
    "### [Simplex](http://www.fer.unizg.hr/_download/repository/simplex.html)"
   ]
  },
  {
   "cell_type": "code",
   "execution_count": 16,
   "metadata": {
    "collapsed": true
   },
   "outputs": [],
   "source": [
    "class InvalidAlgorithmSetupException(Exception):\n",
    "    def __init__(self, message):\n",
    "        super(InvalidAlgorithmSetupException, self).__init__(message)\n",
    "    \n",
    "    def raiseIf(condition, message = \"Invalid algorithm setup\"):\n",
    "        if condition:\n",
    "            raise InvalidAlgorithmSetupException(message)"
   ]
  },
  {
   "cell_type": "code",
   "execution_count": 17,
   "metadata": {},
   "outputs": [],
   "source": [
    "@counts\n",
    "def nelder_mead(\n",
    "    f, x0, step=1, alpha=1, beta=0.5, gamma=2, sigma=0.5, epsilon=1e-6, maxIter=1000):\n",
    "    InvalidAlgorithmSetupException.raiseIf(alpha <= 0)\n",
    "    InvalidAlgorithmSetupException.raiseIf(gamma <= 1)\n",
    "    InvalidAlgorithmSetupException.raiseIf(sigma <= 0 or sigma > 0.5)\n",
    "    \n",
    "    x = simplex_pts(x0, step)\n",
    "    l, h = 0, -1\n",
    "    \n",
    "    reflect = lambda xc, xh: xc + alpha * (xc - xh)\n",
    "    expand = lambda xc, xr: xc + gamma * (xr - xc)\n",
    "    contract = lambda xc, xh: xc - beta * (xc - xh)\n",
    "    shrink = lambda xl, xi: xl + sigma * (xi - xl)\n",
    "    \n",
    "    i = 0\n",
    "    while True:\n",
    "        i += 1\n",
    "        \n",
    "        x = sorted(x, key=f)\n",
    "        xc = np.mean(x[:h], axis=0)\n",
    "        \n",
    "        if norm(x[h] - xc) <= epsilon or i >= maxIter:\n",
    "            break\n",
    "        \n",
    "        xr = reflect(xc, x[h])\n",
    "        \n",
    "        fxr = f(xr)\n",
    "        fxl = f(x[l])\n",
    "        \n",
    "        if fxr < fxl:\n",
    "            xe = expand(xc, x[h])\n",
    "            x[h] = xe if f(xe) < fxl else xr\n",
    "        else:\n",
    "            if all(fxr > f(xj) for xj in x[:h]):\n",
    "                if fxr < f(x[h]):\n",
    "                    x[h] = xr\n",
    "                    \n",
    "                xk = contract(xc, x[h])\n",
    "                if f(xk) < f(x[h]):\n",
    "                    x[h] = xk\n",
    "                else:\n",
    "                    shrink_xi = lambda xi: shrink(x[l], xi)\n",
    "                    x = lmap(shrink_xi, x)\n",
    "            else:\n",
    "                x[h] = xr\n",
    "            \n",
    "    return x[0]\n",
    "\n",
    "def simplex_pts(x0, step):\n",
    "    ret = [x0]\n",
    "    for i in range(len(x0)):\n",
    "        xp = np.copy(x0)\n",
    "        xp[i] += step\n",
    "        ret.append(xp)\n",
    "    return np.array(ret)\n",
    "        "
   ]
  },
  {
   "cell_type": "markdown",
   "metadata": {},
   "source": [
    "### [Hooke-Jeeves](http://www.fer.unizg.hr/_download/repository/hj.html)\n",
    "\n",
    "* x0 - pocetna tocka\n",
    "* xB - bazna tocka \n",
    "* xP - pocetna tocka pretrazivanja\n",
    "* xN - tocka dobivena pretrazivanjem"
   ]
  },
  {
   "cell_type": "code",
   "execution_count": 52,
   "metadata": {},
   "outputs": [
    {
     "data": {
      "text/plain": [
       "array([ 0.5])"
      ]
     },
     "execution_count": 52,
     "metadata": {},
     "output_type": "execute_result"
    }
   ],
   "source": [
    "np.copy([1]) / 2"
   ]
  },
  {
   "cell_type": "code",
   "execution_count": 124,
   "metadata": {},
   "outputs": [],
   "source": [
    "@counts\n",
    "def hooke_jeeves(f, x0, epsilon=1e-6, dx=0.5):\n",
    "    dx = dx * np.ones_like(x0)\n",
    "    epsilon = epsilon * np.ones_like(x0)\n",
    "\n",
    "    xp = np.copy(x0)\n",
    "    xb = np.copy(x0)\n",
    "\n",
    "    while all(dx > epsilon):\n",
    "        xn = explore(f, xp, dx)\n",
    "        if f(xn) < f(xb):\n",
    "            xp = 2 * xn - xb\n",
    "            xb = np.copy(xn)\n",
    "        else:\n",
    "            dx /= 2.0\n",
    "            xp = np.copy(xb)\n",
    "        \n",
    "    return xp\n",
    "\n",
    "def explore(f, xp, dx):\n",
    "    x = np.array(xp, dtype=float)\n",
    "    P = f(x)\n",
    "    for i in range(len(xp)):\n",
    "        x[i] = float(x[i]) + dx[i]\n",
    "        if f(x) > P:\n",
    "            x[i] = x[i] - 2 * dx[i]\n",
    "            if f(x) > P:\n",
    "                x[i] = x[i] + dx[i]\n",
    "    return x"
   ]
  },
  {
   "cell_type": "code",
   "execution_count": 126,
   "metadata": {},
   "outputs": [
    {
     "data": {
      "text/plain": [
       "array([ 9.5,  9.5])"
      ]
     },
     "execution_count": 126,
     "metadata": {},
     "output_type": "execute_result"
    }
   ],
   "source": [
    "hooke_jeeves(f4, pt(5, 14))"
   ]
  },
  {
   "cell_type": "code",
   "execution_count": 127,
   "metadata": {},
   "outputs": [
    {
     "data": {
      "text/plain": [
       "157"
      ]
     },
     "execution_count": 127,
     "metadata": {},
     "output_type": "execute_result"
    }
   ],
   "source": [
    "hooke_jeeves.calls_to_function"
   ]
  },
  {
   "cell_type": "markdown",
   "metadata": {},
   "source": [
    "# Zadaci\n",
    "## 1.\n",
    "Definirajte jednodimenzijsku funkciju br. 3, koja će imati minimum u točki 3. Kao početnu točku\n",
    "pretraživanja postavite točku 10. Primijenite sva tri postupka na rješavanje ove funkcije te ispišite\n",
    "pronađeni minimum i broj evaluacija funkcije za svaki pojedini postupak. Probajte sve više\n",
    "udaljavati početnu točku od minimuma i probajte ponovo pokrenuti navedene postupke. Što možete\n",
    "zaključiti? "
   ]
  },
  {
   "cell_type": "code",
   "execution_count": 21,
   "metadata": {},
   "outputs": [
    {
     "data": {
      "text/html": [
       "<div>\n",
       "<table border=\"1\" class=\"dataframe\">\n",
       "  <thead>\n",
       "    <tr style=\"text-align: right;\">\n",
       "      <th></th>\n",
       "      <th>Algoritam</th>\n",
       "      <th>x0</th>\n",
       "      <th>Broj poziva</th>\n",
       "      <th>Rezultat</th>\n",
       "    </tr>\n",
       "  </thead>\n",
       "  <tbody>\n",
       "    <tr>\n",
       "      <th>0</th>\n",
       "      <td>hooke_jeeves</td>\n",
       "      <td>[10]</td>\n",
       "      <td>76</td>\n",
       "      <td>[10]</td>\n",
       "    </tr>\n",
       "    <tr>\n",
       "      <th>1</th>\n",
       "      <td>nelder_mead</td>\n",
       "      <td>[10]</td>\n",
       "      <td>207</td>\n",
       "      <td>[1.0]</td>\n",
       "    </tr>\n",
       "    <tr>\n",
       "      <th>2</th>\n",
       "      <td>coordinate_descent</td>\n",
       "      <td>[10]</td>\n",
       "      <td>77</td>\n",
       "      <td>[1]</td>\n",
       "    </tr>\n",
       "    <tr>\n",
       "      <th>3</th>\n",
       "      <td>hooke_jeeves</td>\n",
       "      <td>[20]</td>\n",
       "      <td>76</td>\n",
       "      <td>[20]</td>\n",
       "    </tr>\n",
       "    <tr>\n",
       "      <th>4</th>\n",
       "      <td>nelder_mead</td>\n",
       "      <td>[20]</td>\n",
       "      <td>257</td>\n",
       "      <td>[1.0]</td>\n",
       "    </tr>\n",
       "    <tr>\n",
       "      <th>5</th>\n",
       "      <td>coordinate_descent</td>\n",
       "      <td>[20]</td>\n",
       "      <td>86</td>\n",
       "      <td>[0]</td>\n",
       "    </tr>\n",
       "    <tr>\n",
       "      <th>6</th>\n",
       "      <td>hooke_jeeves</td>\n",
       "      <td>[30]</td>\n",
       "      <td>76</td>\n",
       "      <td>[30]</td>\n",
       "    </tr>\n",
       "    <tr>\n",
       "      <th>7</th>\n",
       "      <td>nelder_mead</td>\n",
       "      <td>[30]</td>\n",
       "      <td>307</td>\n",
       "      <td>[1.0]</td>\n",
       "    </tr>\n",
       "    <tr>\n",
       "      <th>8</th>\n",
       "      <td>coordinate_descent</td>\n",
       "      <td>[30]</td>\n",
       "      <td>80</td>\n",
       "      <td>[1]</td>\n",
       "    </tr>\n",
       "  </tbody>\n",
       "</table>\n",
       "</div>"
      ],
      "text/plain": [
       "            Algoritam    x0  Broj poziva Rezultat\n",
       "0  hooke_jeeves        [10]  76           [10]   \n",
       "1  nelder_mead         [10]  207          [1.0]  \n",
       "2  coordinate_descent  [10]  77           [1]    \n",
       "3  hooke_jeeves        [20]  76           [20]   \n",
       "4  nelder_mead         [20]  257          [1.0]  \n",
       "5  coordinate_descent  [20]  86           [0]    \n",
       "6  hooke_jeeves        [30]  76           [30]   \n",
       "7  nelder_mead         [30]  307          [1.0]  \n",
       "8  coordinate_descent  [30]  80           [1]    "
      ]
     },
     "execution_count": 21,
     "metadata": {},
     "output_type": "execute_result"
    }
   ],
   "source": [
    "data = []\n",
    "\n",
    "for x0 in [ pt(10), pt(20), pt(30) ]:\n",
    "    for f in [ hooke_jeeves, nelder_mead, coordinate_descent ]:\n",
    "        result = f(f3, x0)\n",
    "        data.append([f.__name__, x0, f.calls_to_function, result])\n",
    "\n",
    "pd.DataFrame(data, columns=['Algoritam', 'x0', 'Broj poziva', 'Rezultat'])"
   ]
  },
  {
   "cell_type": "markdown",
   "metadata": {},
   "source": [
    "## 2.\n",
    "Primijenite simpleks po Nelderu i Meadu, Hooke-Jeeves postupak te pretraživanje po koordinatnim\n",
    "osima na funkcije 1-4 uz zadane parametre i početne točke (broj varijabli funkcije 3 najmanje 5). Za\n",
    "svaki postupak i svaku funkciju odredite minimum koji su postupci pronašli i potrebni broj\n",
    "evaluacija funkcije cilja koji je potreban do konvergencije (prikažite tablično). Što možete zaključiti\n",
    "iz rezultata?"
   ]
  },
  {
   "cell_type": "code",
   "execution_count": 22,
   "metadata": {},
   "outputs": [
    {
     "data": {
      "text/html": [
       "<div>\n",
       "<table border=\"1\" class=\"dataframe\">\n",
       "  <thead>\n",
       "    <tr style=\"text-align: right;\">\n",
       "      <th></th>\n",
       "      <th>Algoritam</th>\n",
       "      <th>x0</th>\n",
       "      <th>Broj poziva</th>\n",
       "      <th>Rezultat</th>\n",
       "    </tr>\n",
       "  </thead>\n",
       "  <tbody>\n",
       "    <tr>\n",
       "      <th>0</th>\n",
       "      <td>hooke_jeeves</td>\n",
       "      <td>[-1.9, 2.0]</td>\n",
       "      <td>694</td>\n",
       "      <td>[1.00000152588, 1.0000038147]</td>\n",
       "    </tr>\n",
       "    <tr>\n",
       "      <th>1</th>\n",
       "      <td>hooke_jeeves</td>\n",
       "      <td>[0.1, 0.3]</td>\n",
       "      <td>305</td>\n",
       "      <td>[3.99999961853, 2.00000076294]</td>\n",
       "    </tr>\n",
       "    <tr>\n",
       "      <th>2</th>\n",
       "      <td>hooke_jeeves</td>\n",
       "      <td>[0, 0, 0, 0, 0]</td>\n",
       "      <td>228</td>\n",
       "      <td>[0, 0, 0, 0, 0]</td>\n",
       "    </tr>\n",
       "    <tr>\n",
       "      <th>3</th>\n",
       "      <td>hooke_jeeves</td>\n",
       "      <td>[5.1, 1.1]</td>\n",
       "      <td>172</td>\n",
       "      <td>[3.1, 3.1]</td>\n",
       "    </tr>\n",
       "    <tr>\n",
       "      <th>4</th>\n",
       "      <td>nelder_mead</td>\n",
       "      <td>[-1.9, 2.0]</td>\n",
       "      <td>3562</td>\n",
       "      <td>[0.999999763998, 0.999999487937]</td>\n",
       "    </tr>\n",
       "    <tr>\n",
       "      <th>5</th>\n",
       "      <td>nelder_mead</td>\n",
       "      <td>[0.1, 0.3]</td>\n",
       "      <td>493</td>\n",
       "      <td>[3.99999995768, 1.99999972735]</td>\n",
       "    </tr>\n",
       "    <tr>\n",
       "      <th>6</th>\n",
       "      <td>nelder_mead</td>\n",
       "      <td>[0, 0, 0, 0, 0]</td>\n",
       "      <td>2774</td>\n",
       "      <td>[0.999999846924, 1.99999971796, 3.00000003086, 4.00000002405, 4.99999947917]</td>\n",
       "    </tr>\n",
       "    <tr>\n",
       "      <th>7</th>\n",
       "      <td>nelder_mead</td>\n",
       "      <td>[5.1, 1.1]</td>\n",
       "      <td>712</td>\n",
       "      <td>[-8.3331812619e-07, 1.51895016504e-07]</td>\n",
       "    </tr>\n",
       "  </tbody>\n",
       "</table>\n",
       "</div>"
      ],
      "text/plain": [
       "      Algoritam               x0  Broj poziva  \\\n",
       "0  hooke_jeeves  [-1.9, 2.0]      694           \n",
       "1  hooke_jeeves  [0.1, 0.3]       305           \n",
       "2  hooke_jeeves  [0, 0, 0, 0, 0]  228           \n",
       "3  hooke_jeeves  [5.1, 1.1]       172           \n",
       "4  nelder_mead   [-1.9, 2.0]      3562          \n",
       "5  nelder_mead   [0.1, 0.3]       493           \n",
       "6  nelder_mead   [0, 0, 0, 0, 0]  2774          \n",
       "7  nelder_mead   [5.1, 1.1]       712           \n",
       "\n",
       "                                                                       Rezultat  \n",
       "0  [1.00000152588, 1.0000038147]                                                 \n",
       "1  [3.99999961853, 2.00000076294]                                                \n",
       "2  [0, 0, 0, 0, 0]                                                               \n",
       "3  [3.1, 3.1]                                                                    \n",
       "4  [0.999999763998, 0.999999487937]                                              \n",
       "5  [3.99999995768, 1.99999972735]                                                \n",
       "6  [0.999999846924, 1.99999971796, 3.00000003086, 4.00000002405, 4.99999947917]  \n",
       "7  [-8.3331812619e-07, 1.51895016504e-07]                                        "
      ]
     },
     "execution_count": 22,
     "metadata": {},
     "output_type": "execute_result"
    }
   ],
   "source": [
    "fs = [f1, f2, f3, f4]\n",
    "x0s = [f1_x0, f2_x0, f3_x0, f4_x0]\n",
    "\n",
    "data = []\n",
    "for search_f in [hooke_jeeves, nelder_mead]:\n",
    "    for f, x0 in zip(fs, x0s):\n",
    "        result = search_f(f, x0)\n",
    "        data.append(\n",
    "            [search_f.__name__, x0, search_f.calls_to_function, result])\n",
    "\n",
    "pd.DataFrame(data, columns=['Algoritam', 'x0', 'Broj poziva', 'Rezultat'])"
   ]
  },
  {
   "cell_type": "markdown",
   "metadata": {},
   "source": [
    "## 3.\n",
    "Primijenite postupak Hooke-Jeeves i simpleks po Nelderu i Meadu na funkciju 4 uz početnu točku\n",
    "(5, 5). Objasnite rezultate!"
   ]
  },
  {
   "cell_type": "code",
   "execution_count": 23,
   "metadata": {},
   "outputs": [
    {
     "data": {
      "text/plain": [
       "array([5, 5])"
      ]
     },
     "execution_count": 23,
     "metadata": {},
     "output_type": "execute_result"
    }
   ],
   "source": [
    "hooke_jeeves(f4, pt(5, 5))"
   ]
  },
  {
   "cell_type": "code",
   "execution_count": 24,
   "metadata": {},
   "outputs": [
    {
     "data": {
      "text/plain": [
       "array([ -8.84859430e-08,  -3.86806220e-07])"
      ]
     },
     "execution_count": 24,
     "metadata": {},
     "output_type": "execute_result"
    }
   ],
   "source": [
    "nelder_mead(f4, pt(5, 5))"
   ]
  },
  {
   "cell_type": "markdown",
   "metadata": {},
   "source": [
    "## 4.\n",
    "Primijenite simpleks po Nelderu i Meadu na funkciju 1. Kao početnu točku postavite točku (0.5,0.5).\n",
    "Provedite postupak s nekoliko različitih koraka za generiranje početnog simpleksa (primjerice iz\n",
    "intervala od 1 do 20) i zabilježite potreban broj evaluacija funkcije cilja i pronađene točke\n",
    "minimuma. Potom probajte kao početnu točku postaviti točku (20,20) i ponovo provesti eksperiment.\n",
    "Što možete zaključiti?"
   ]
  },
  {
   "cell_type": "markdown",
   "metadata": {},
   "source": [
    "## 5.\n",
    "Primijenite jedan postupak optimizacije na funkciju 6 u dvije dimenzije, tako da postupak pokrećete\n",
    "više puta iz slučajno odabrane početne točke u intervalu [-50,50]. Možete li odrediti vjerojatnost\n",
    "pronalaženja globalnog optimuma na ovaj način? (smatramo da je algoritam locirao globalni\n",
    "minimum ako je nađena vrijednost funkcije cilja manja od 10^-4)"
   ]
  },
  {
   "cell_type": "code",
   "execution_count": 25,
   "metadata": {},
   "outputs": [
    {
     "data": {
      "text/html": [
       "<div>\n",
       "<table border=\"1\" class=\"dataframe\">\n",
       "  <thead>\n",
       "    <tr style=\"text-align: right;\">\n",
       "      <th></th>\n",
       "      <th>Algoritam</th>\n",
       "      <th>x0</th>\n",
       "      <th>Broj poziva</th>\n",
       "      <th>Rezultat</th>\n",
       "    </tr>\n",
       "  </thead>\n",
       "  <tbody>\n",
       "    <tr>\n",
       "      <th>0</th>\n",
       "      <td>hooke_jeeves</td>\n",
       "      <td>[-13, -15]</td>\n",
       "      <td>149</td>\n",
       "      <td>[-11, -15]</td>\n",
       "    </tr>\n",
       "    <tr>\n",
       "      <th>1</th>\n",
       "      <td>hooke_jeeves</td>\n",
       "      <td>[13, -11]</td>\n",
       "      <td>146</td>\n",
       "      <td>[13, -9]</td>\n",
       "    </tr>\n",
       "    <tr>\n",
       "      <th>2</th>\n",
       "      <td>hooke_jeeves</td>\n",
       "      <td>[6, 22]</td>\n",
       "      <td>114</td>\n",
       "      <td>[6, 22]</td>\n",
       "    </tr>\n",
       "    <tr>\n",
       "      <th>3</th>\n",
       "      <td>hooke_jeeves</td>\n",
       "      <td>[6, 34]</td>\n",
       "      <td>114</td>\n",
       "      <td>[6, 34]</td>\n",
       "    </tr>\n",
       "    <tr>\n",
       "      <th>4</th>\n",
       "      <td>hooke_jeeves</td>\n",
       "      <td>[-8, -24]</td>\n",
       "      <td>159</td>\n",
       "      <td>[-7, -24]</td>\n",
       "    </tr>\n",
       "    <tr>\n",
       "      <th>5</th>\n",
       "      <td>hooke_jeeves</td>\n",
       "      <td>[-8, 35]</td>\n",
       "      <td>138</td>\n",
       "      <td>[1, 35]</td>\n",
       "    </tr>\n",
       "    <tr>\n",
       "      <th>6</th>\n",
       "      <td>hooke_jeeves</td>\n",
       "      <td>[26, -27]</td>\n",
       "      <td>133</td>\n",
       "      <td>[26, -27]</td>\n",
       "    </tr>\n",
       "    <tr>\n",
       "      <th>7</th>\n",
       "      <td>hooke_jeeves</td>\n",
       "      <td>[16, -9]</td>\n",
       "      <td>133</td>\n",
       "      <td>[16, -9]</td>\n",
       "    </tr>\n",
       "    <tr>\n",
       "      <th>8</th>\n",
       "      <td>hooke_jeeves</td>\n",
       "      <td>[48, 33]</td>\n",
       "      <td>114</td>\n",
       "      <td>[48, 33]</td>\n",
       "    </tr>\n",
       "    <tr>\n",
       "      <th>9</th>\n",
       "      <td>hooke_jeeves</td>\n",
       "      <td>[-44, 15]</td>\n",
       "      <td>144</td>\n",
       "      <td>[-41, 15]</td>\n",
       "    </tr>\n",
       "    <tr>\n",
       "      <th>10</th>\n",
       "      <td>hooke_jeeves</td>\n",
       "      <td>[5, 2]</td>\n",
       "      <td>114</td>\n",
       "      <td>[5, 2]</td>\n",
       "    </tr>\n",
       "    <tr>\n",
       "      <th>11</th>\n",
       "      <td>hooke_jeeves</td>\n",
       "      <td>[-13, 38]</td>\n",
       "      <td>133</td>\n",
       "      <td>[-13, 38]</td>\n",
       "    </tr>\n",
       "    <tr>\n",
       "      <th>12</th>\n",
       "      <td>hooke_jeeves</td>\n",
       "      <td>[5, -27]</td>\n",
       "      <td>139</td>\n",
       "      <td>[5, -25]</td>\n",
       "    </tr>\n",
       "    <tr>\n",
       "      <th>13</th>\n",
       "      <td>hooke_jeeves</td>\n",
       "      <td>[-3, -41]</td>\n",
       "      <td>147</td>\n",
       "      <td>[0, -41]</td>\n",
       "    </tr>\n",
       "    <tr>\n",
       "      <th>14</th>\n",
       "      <td>hooke_jeeves</td>\n",
       "      <td>[15, -32]</td>\n",
       "      <td>139</td>\n",
       "      <td>[15, -31]</td>\n",
       "    </tr>\n",
       "    <tr>\n",
       "      <th>15</th>\n",
       "      <td>hooke_jeeves</td>\n",
       "      <td>[38, 35]</td>\n",
       "      <td>114</td>\n",
       "      <td>[38, 35]</td>\n",
       "    </tr>\n",
       "    <tr>\n",
       "      <th>16</th>\n",
       "      <td>hooke_jeeves</td>\n",
       "      <td>[-34, -21]</td>\n",
       "      <td>141</td>\n",
       "      <td>[-32, -20]</td>\n",
       "    </tr>\n",
       "    <tr>\n",
       "      <th>17</th>\n",
       "      <td>hooke_jeeves</td>\n",
       "      <td>[44, 5]</td>\n",
       "      <td>114</td>\n",
       "      <td>[44, 5]</td>\n",
       "    </tr>\n",
       "    <tr>\n",
       "      <th>18</th>\n",
       "      <td>hooke_jeeves</td>\n",
       "      <td>[25, -45]</td>\n",
       "      <td>139</td>\n",
       "      <td>[25, -44]</td>\n",
       "    </tr>\n",
       "    <tr>\n",
       "      <th>19</th>\n",
       "      <td>hooke_jeeves</td>\n",
       "      <td>[15, 25]</td>\n",
       "      <td>114</td>\n",
       "      <td>[15, 25]</td>\n",
       "    </tr>\n",
       "  </tbody>\n",
       "</table>\n",
       "</div>"
      ],
      "text/plain": [
       "       Algoritam          x0  Broj poziva    Rezultat\n",
       "0   hooke_jeeves  [-13, -15]  149          [-11, -15]\n",
       "1   hooke_jeeves  [13, -11]   146          [13, -9]  \n",
       "2   hooke_jeeves  [6, 22]     114          [6, 22]   \n",
       "3   hooke_jeeves  [6, 34]     114          [6, 34]   \n",
       "4   hooke_jeeves  [-8, -24]   159          [-7, -24] \n",
       "5   hooke_jeeves  [-8, 35]    138          [1, 35]   \n",
       "6   hooke_jeeves  [26, -27]   133          [26, -27] \n",
       "7   hooke_jeeves  [16, -9]    133          [16, -9]  \n",
       "8   hooke_jeeves  [48, 33]    114          [48, 33]  \n",
       "9   hooke_jeeves  [-44, 15]   144          [-41, 15] \n",
       "10  hooke_jeeves  [5, 2]      114          [5, 2]    \n",
       "11  hooke_jeeves  [-13, 38]   133          [-13, 38] \n",
       "12  hooke_jeeves  [5, -27]    139          [5, -25]  \n",
       "13  hooke_jeeves  [-3, -41]   147          [0, -41]  \n",
       "14  hooke_jeeves  [15, -32]   139          [15, -31] \n",
       "15  hooke_jeeves  [38, 35]    114          [38, 35]  \n",
       "16  hooke_jeeves  [-34, -21]  141          [-32, -20]\n",
       "17  hooke_jeeves  [44, 5]     114          [44, 5]   \n",
       "18  hooke_jeeves  [25, -45]   139          [25, -44] \n",
       "19  hooke_jeeves  [15, 25]    114          [15, 25]  "
      ]
     },
     "execution_count": 25,
     "metadata": {},
     "output_type": "execute_result"
    }
   ],
   "source": [
    "ncalls = 20\n",
    "\n",
    "data = []\n",
    "for i in range(ncalls):\n",
    "    random = np.random.randint(-50, 50 + 1, size=2)\n",
    "    result = hooke_jeeves(f6, pt(*random))\n",
    "    data.append([hooke_jeeves.__name__, \n",
    "                 random,\n",
    "                 hooke_jeeves.calls_to_function, \n",
    "                 result])\n",
    "\n",
    "pd.DataFrame(data, columns=['Algoritam', 'x0', 'Broj poziva', 'Rezultat'])"
   ]
  },
  {
   "cell_type": "markdown",
   "metadata": {},
   "source": [
    "# Matlab\n",
    "* `fminbnd` (1 var)\n",
    "* `fminsearch` (vise var; simplex po N&M)\n",
    "* `fminunc` (vise var; razliciti alg.)\n",
    "* `fmincon` (vise var, uz ogranicenja)"
   ]
  },
  {
   "cell_type": "code",
   "execution_count": null,
   "metadata": {
    "collapsed": true
   },
   "outputs": [],
   "source": []
  },
  {
   "cell_type": "code",
   "execution_count": null,
   "metadata": {
    "collapsed": true
   },
   "outputs": [],
   "source": []
  }
 ],
 "metadata": {
  "kernelspec": {
   "display_name": "Python 3",
   "language": "python",
   "name": "python3"
  },
  "language_info": {
   "codemirror_mode": {
    "name": "ipython",
    "version": 3
   },
   "file_extension": ".py",
   "mimetype": "text/x-python",
   "name": "python",
   "nbconvert_exporter": "python",
   "pygments_lexer": "ipython3",
   "version": "3.6.2"
  }
 },
 "nbformat": 4,
 "nbformat_minor": 2
}
