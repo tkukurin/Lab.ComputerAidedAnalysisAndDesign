{
 "cells": [
  {
   "cell_type": "markdown",
   "metadata": {},
   "source": [
    "[Link na zadatke](http://www.fer.unizg.hr/_download/repository/vjezba_2%5B4%5D.pdf)"
   ]
  },
  {
   "cell_type": "code",
   "execution_count": 1,
   "metadata": {
    "collapsed": true
   },
   "outputs": [],
   "source": [
    "import numpy as np\n",
    "import math\n",
    "from common import *\n",
    "\n",
    "norm = np.linalg.norm"
   ]
  },
  {
   "cell_type": "markdown",
   "metadata": {},
   "source": [
    "### [Wrapper za brojanje fn. calls](https://stackoverflow.com/questions/1301735/counting-python-method-calls-within-another-method)"
   ]
  },
  {
   "cell_type": "code",
   "execution_count": 2,
   "metadata": {
    "collapsed": true
   },
   "outputs": [],
   "source": [
    "def counted(fn):\n",
    "    def wrapper(*args, **kwargs):\n",
    "        wrapper.called += 1\n",
    "        return fn(*args, **kwargs)\n",
    "    wrapper.called = 0\n",
    "    wrapper.__name__= fn.__name__\n",
    "    return wrapper\n",
    "\n",
    "def counts(fn):\n",
    "    def wrapper(f, *args, **kwargs):\n",
    "        f.called = 0\n",
    "        try:\n",
    "            return fn(f, *args, **kwargs)\n",
    "        finally:\n",
    "            wrapper.calls_to_function = f.called\n",
    "    wrapper.__name__= fn.__name__\n",
    "    return wrapper"
   ]
  },
  {
   "cell_type": "markdown",
   "metadata": {},
   "source": [
    "## Funkcije cilja"
   ]
  },
  {
   "cell_type": "code",
   "execution_count": 3,
   "metadata": {
    "collapsed": true
   },
   "outputs": [],
   "source": [
    "pt = lambda *x: np.array(x)\n",
    "dim = lambda pt: len(pt)\n",
    "\n",
    "@counted\n",
    "def f1(x):\n",
    "    x1, x2 = x\n",
    "    return 100 * (x2 - x1 ** 2) ** 2 + (1 - x1) ** 2\n",
    "f1_x0 = pt(-1.9, 2)\n",
    "f1_xmin = pt(1, 1)\n",
    "f1_min = 0\n",
    "\n",
    "@counted\n",
    "def f2(x):\n",
    "    x1, x2 = x\n",
    "    return (x1 - 4) ** 2 + 4 * (x2 - 2) ** 2\n",
    "f2_x0 = pt(0.1, 0.3)\n",
    "f2_xmin = pt(4, 2)\n",
    "f2_min = 0\n",
    "\n",
    "@counted\n",
    "def f3(x):\n",
    "    return np.sum(np.square(np.arange(1, x.shape[0] + 1) - x))\n",
    "f3_x0 = pt(0, 0, 0, 0, 0)\n",
    "f3_min = 0\n",
    "\n",
    "@counted\n",
    "def f4(x):\n",
    "    x1, x2 = x\n",
    "    return abs((x1 - x2) * (x1 + x2)) + math.sqrt(x1 ** 2 + x2 ** 2)\n",
    "f4_x0 = pt(5.1, 1.1)\n",
    "f4_min = 0\n",
    "\n",
    "@counted\n",
    "def f6(x):\n",
    "    x = np.sum(np.square(x))\n",
    "    return 0.5 + (math.sin(math.sqrt(x)) ** 2 - 0.5) / (1 + 0.001 * x) ** 2\n",
    "f6_xmin = 0\n",
    "f6_min = 0"
   ]
  },
  {
   "cell_type": "markdown",
   "metadata": {},
   "source": [
    "### [Golden section](http://www.fer.unizg.hr/_download/repository/zlatni_rez.txt)"
   ]
  },
  {
   "cell_type": "code",
   "execution_count": 4,
   "metadata": {
    "collapsed": true
   },
   "outputs": [],
   "source": [
    "@counts\n",
    "def zlatni_rez(f, a, b, e, k=0.5*(math.sqrt(5) - 1)):\n",
    "    hi = b - k * (b - a)\n",
    "    lo = a + k * (b - a)\n",
    "    \n",
    "    f_hi = f(hi)\n",
    "    f_lo = f(lo)\n",
    "    \n",
    "    while (b - a) > e:\n",
    "        if f_hi < f_lo:\n",
    "            b = lo\n",
    "            lo = hi\n",
    "            hi = b - k * (b - a)\n",
    "            f_lo = f_hi\n",
    "            f_hi = f(hi)\n",
    "        else:\n",
    "            a = hi\n",
    "            hi = lo\n",
    "            lo = a + k * (b - a)\n",
    "            f_hi = f_lo\n",
    "            f_lo = f(lo)\n",
    "    \n",
    "    return (a + b) / 2"
   ]
  },
  {
   "cell_type": "markdown",
   "metadata": {},
   "source": [
    "### [Unimodal](http://www.fer.unizg.hr/_download/repository/unimodalni.txt)"
   ]
  },
  {
   "cell_type": "code",
   "execution_count": 5,
   "metadata": {
    "collapsed": true
   },
   "outputs": [],
   "source": [
    "@counts\n",
    "def unimodalni(f, pt, h=1):\n",
    "    l, r = pt - h, pt + h\n",
    "    m = pt\n",
    "    step = 1\n",
    "    \n",
    "    fm = f(pt)\n",
    "    fl = f(l)\n",
    "    fr = f(r)\n",
    "    \n",
    "    if fm < fr and fm < fl:\n",
    "        return l, r\n",
    "    elif fm > fr:\n",
    "        while True:\n",
    "            l, m, fm = m, r, fr\n",
    "            r = pt + h * (step * 2)\n",
    "            fr = f(r)\n",
    "            step *= 2\n",
    "            if fm <= fr:\n",
    "                return l, r\n",
    "    else:\n",
    "        while True:\n",
    "            r, m, fm = m, l, fl\n",
    "            l = pt - h * (step * 2)\n",
    "            fl = f(l)\n",
    "            step *= 2\n",
    "            if fm <= fl:\n",
    "                return l, r\n",
    "    "
   ]
  },
  {
   "cell_type": "markdown",
   "metadata": {},
   "source": [
    "### [Simplex](http://www.fer.unizg.hr/_download/repository/simplex.html)"
   ]
  },
  {
   "cell_type": "code",
   "execution_count": 6,
   "metadata": {
    "collapsed": true
   },
   "outputs": [],
   "source": [
    "class InvalidAlgorithmSetupException(Exception):\n",
    "    def __init__(self, message):\n",
    "        super(InvalidAlgorithmSetupException, self).__init__(message)\n",
    "    \n",
    "    def raiseIf(condition, message = \"Invalid algorithm setup\"):\n",
    "        if condition:\n",
    "            raise InvalidAlgorithmSetupException(message)"
   ]
  },
  {
   "cell_type": "code",
   "execution_count": 7,
   "metadata": {
    "collapsed": true
   },
   "outputs": [],
   "source": [
    "import numpy as np"
   ]
  },
  {
   "cell_type": "code",
   "execution_count": 8,
   "metadata": {},
   "outputs": [
    {
     "data": {
      "text/plain": [
       "array([ 1.5,  3. ])"
      ]
     },
     "execution_count": 8,
     "metadata": {},
     "output_type": "execute_result"
    }
   ],
   "source": [
    "np.mean([[1, 3], [2, 3]], axis=0)"
   ]
  },
  {
   "cell_type": "code",
   "execution_count": 66,
   "metadata": {},
   "outputs": [],
   "source": [
    "@counts\n",
    "def nelder_mead(\n",
    "    f, x0, step=1, alpha=1, beta=0.5, gamma=2, sigma=0.5, epsilon=1e-6, maxIter=1000):\n",
    "    InvalidAlgorithmSetupException.raiseIf(alpha <= 0)\n",
    "    InvalidAlgorithmSetupException.raiseIf(gamma <= 1)\n",
    "    InvalidAlgorithmSetupException.raiseIf(sigma <= 0 or sigma > 0.5)\n",
    "    \n",
    "    x = simplex_pts(x0, step)\n",
    "    l, h = 0, -1\n",
    "    \n",
    "    reflect = lambda xc, xh: xc + alpha * (xc - xh)\n",
    "    expand = lambda xc, xr: xc + gamma * (xr - xc)\n",
    "    contract = lambda xc, xh: xc - beta * (xc - xh)\n",
    "    shrink = lambda xl, xi: xl + sigma * (xi - xl)\n",
    "    \n",
    "    i = -1\n",
    "    while True:\n",
    "        i += 1\n",
    "        \n",
    "        x = sorted(x, key=f)\n",
    "        xc = np.mean(x[:h], axis=0)\n",
    "        \n",
    "        if np.max(norm(x - xc)) <= epsilon or i >= maxIter:\n",
    "            break\n",
    "        \n",
    "        xr = reflect(xc, x[h])\n",
    "        \n",
    "        fxr = f(xr)\n",
    "        fxl = f(x[l])\n",
    "        \n",
    "        if fxr < fxl:\n",
    "            xe = expand(xc, x[h])\n",
    "            x[h] = xe if f(xe) < fxl else xr\n",
    "        else:\n",
    "            if all(fxr > f(xj) for xj in x[:h]):\n",
    "                if fxr < f(x[h]):\n",
    "                    x[h] = xr\n",
    "                    \n",
    "                xk = contract(xc, x[h])\n",
    "                if f(xk) < f(x[h]):\n",
    "                    x[h] = xk\n",
    "                else:\n",
    "                    shrink_xi = lambda xi: shrink(x[l], xi)\n",
    "                    x = lmap(shrink_xi, x)\n",
    "            else:\n",
    "                x[h] = xr\n",
    "            \n",
    "    return x[0]\n",
    "\n",
    "def simplex_pts(x0, step):\n",
    "    ret = [x0]\n",
    "    for i in range(len(x0)):\n",
    "        xp = np.copy(x0)\n",
    "        xp[i] += step\n",
    "        ret.append(xp)\n",
    "    return np.array(ret)\n",
    "        "
   ]
  },
  {
   "cell_type": "markdown",
   "metadata": {},
   "source": [
    "### [Hooke-Jeeves](http://www.fer.unizg.hr/_download/repository/hj.html)\n",
    "\n",
    "* x0 - pocetna tocka\n",
    "* xB - bazna tocka \n",
    "* xP - pocetna tocka pretrazivanja\n",
    "* xN - tocka dobivena pretrazivanjem"
   ]
  },
  {
   "cell_type": "code",
   "execution_count": 10,
   "metadata": {
    "collapsed": true
   },
   "outputs": [],
   "source": [
    "@counts\n",
    "def hooke_jeeves(f, x_0, eps=1e-6):\n",
    "    dx = 0.5 * np.ones_like(x_0)\n",
    "    eps = eps * np.ones_like(x_0)\n",
    "\n",
    "    xp = np.copy(x_0)\n",
    "    xb = np.copy(x_0)\n",
    "\n",
    "    while True:\n",
    "        xn = explore(f, xp, dx)\n",
    "\n",
    "        if f(xn) < f(xb):\n",
    "            xp = 2 * xn - xb\n",
    "            xb = xn\n",
    "        else:\n",
    "            dx /= 2\n",
    "            xp = xb\n",
    "            if np.any(eps > dx):\n",
    "                break\n",
    "    return xp\n",
    "\n",
    "def explore(f, xp, dx):\n",
    "    x = np.copy(xp)\n",
    "    for i in range(dim(xp)):\n",
    "        P = f(x)\n",
    "        x[i] = x[i] + dx[i]\n",
    "        if f(x) > P:\n",
    "            x[i] = x[i] - 2 * dx[i]\n",
    "            if f(x) > P:\n",
    "                x[i] = x[i] + dx[i]\n",
    "    return x"
   ]
  },
  {
   "cell_type": "code",
   "execution_count": 11,
   "metadata": {},
   "outputs": [
    {
     "data": {
      "text/plain": [
       "array([10,  0])"
      ]
     },
     "execution_count": 11,
     "metadata": {},
     "output_type": "execute_result"
    }
   ],
   "source": [
    "hooke_jeeves(f4, pt(10, 0))"
   ]
  },
  {
   "cell_type": "code",
   "execution_count": 12,
   "metadata": {},
   "outputs": [
    {
     "data": {
      "text/plain": [
       "114"
      ]
     },
     "execution_count": 12,
     "metadata": {},
     "output_type": "execute_result"
    }
   ],
   "source": [
    "hooke_jeeves.calls_to_function"
   ]
  },
  {
   "cell_type": "markdown",
   "metadata": {},
   "source": [
    "# Zadaci\n",
    "## 1.\n",
    "Definirajte jednodimenzijsku funkciju br. 3, koja će imati minimum u točki 3. Kao početnu točku\n",
    "pretraživanja postavite točku 10. Primijenite sva tri postupka na rješavanje ove funkcije te ispišite\n",
    "pronađeni minimum i broj evaluacija funkcije za svaki pojedini postupak. Probajte sve više\n",
    "udaljavati početnu točku od minimuma i probajte ponovo pokrenuti navedene postupke. Što možete\n",
    "zaključiti? "
   ]
  },
  {
   "cell_type": "code",
   "execution_count": 13,
   "metadata": {},
   "outputs": [
    {
     "data": {
      "text/html": [
       "<div>\n",
       "<table border=\"1\" class=\"dataframe\">\n",
       "  <thead>\n",
       "    <tr style=\"text-align: right;\">\n",
       "      <th></th>\n",
       "      <th>Algoritam</th>\n",
       "      <th>Broj poziva</th>\n",
       "      <th>Rezultat</th>\n",
       "    </tr>\n",
       "  </thead>\n",
       "  <tbody>\n",
       "    <tr>\n",
       "      <th>0</th>\n",
       "      <td>hooke_jeeves</td>\n",
       "      <td>76</td>\n",
       "      <td>[10]</td>\n",
       "    </tr>\n",
       "  </tbody>\n",
       "</table>\n",
       "</div>"
      ],
      "text/plain": [
       "      Algoritam  Broj poziva Rezultat\n",
       "0  hooke_jeeves           76     [10]"
      ]
     },
     "execution_count": 13,
     "metadata": {},
     "output_type": "execute_result"
    }
   ],
   "source": [
    "import pandas as pd\n",
    "\n",
    "hooke_jeeves(f3, pt(10))\n",
    "hooke_jeeves.calls_to_function\n",
    "\n",
    "data = []\n",
    "for f in [ hooke_jeeves ]:\n",
    "    result = f(f3, pt(10))\n",
    "    data.append([f.__name__, f.calls_to_function, result])\n",
    "\n",
    "pd.DataFrame(data, columns=['Algoritam', 'Broj poziva', 'Rezultat'])"
   ]
  },
  {
   "cell_type": "markdown",
   "metadata": {},
   "source": [
    "## 2.\n",
    "Primijenite simpleks po Nelderu i Meadu, Hooke-Jeeves postupak te pretraživanje po koordinatnim\n",
    "osima na funkcije 1-4 uz zadane parametre i početne točke (broj varijabli funkcije 3 najmanje 5). Za\n",
    "svaki postupak i svaku funkciju odredite minimum koji su postupci pronašli i potrebni broj\n",
    "evaluacija funkcije cilja koji je potreban do konvergencije (prikažite tablično). Što možete zaključiti\n",
    "iz rezultata?"
   ]
  },
  {
   "cell_type": "code",
   "execution_count": 21,
   "metadata": {},
   "outputs": [
    {
     "ename": "NameError",
     "evalue": "name 'eps' is not defined",
     "output_type": "error",
     "traceback": [
      "\u001b[0;31m---------------------------------------------------------------------------\u001b[0m",
      "\u001b[0;31mNameError\u001b[0m                                 Traceback (most recent call last)",
      "\u001b[0;32m<ipython-input-21-1d346f8fbcfa>\u001b[0m in \u001b[0;36m<module>\u001b[0;34m()\u001b[0m\n\u001b[1;32m      5\u001b[0m \u001b[0;32mfor\u001b[0m \u001b[0msearch_f\u001b[0m \u001b[0;32min\u001b[0m \u001b[0;34m[\u001b[0m\u001b[0mhooke_jeeves\u001b[0m\u001b[0;34m,\u001b[0m \u001b[0mnelder_mead\u001b[0m\u001b[0;34m]\u001b[0m\u001b[0;34m:\u001b[0m\u001b[0;34m\u001b[0m\u001b[0m\n\u001b[1;32m      6\u001b[0m     \u001b[0;32mfor\u001b[0m \u001b[0mf\u001b[0m\u001b[0;34m,\u001b[0m \u001b[0mx0\u001b[0m \u001b[0;32min\u001b[0m \u001b[0mzip\u001b[0m\u001b[0;34m(\u001b[0m\u001b[0mfs\u001b[0m\u001b[0;34m,\u001b[0m \u001b[0mx0s\u001b[0m\u001b[0;34m)\u001b[0m\u001b[0;34m:\u001b[0m\u001b[0;34m\u001b[0m\u001b[0m\n\u001b[0;32m----> 7\u001b[0;31m         \u001b[0mresult\u001b[0m \u001b[0;34m=\u001b[0m \u001b[0msearch_f\u001b[0m\u001b[0;34m(\u001b[0m\u001b[0mf\u001b[0m\u001b[0;34m,\u001b[0m \u001b[0mx0\u001b[0m\u001b[0;34m)\u001b[0m\u001b[0;34m\u001b[0m\u001b[0m\n\u001b[0m\u001b[1;32m      8\u001b[0m         data.append(\n\u001b[1;32m      9\u001b[0m             [search_f.__name__, x0, search_f.calls_to_function, result])\n",
      "\u001b[0;32m<ipython-input-2-b0881f8bf851>\u001b[0m in \u001b[0;36mwrapper\u001b[0;34m(f, *args, **kwargs)\u001b[0m\n\u001b[1;32m     11\u001b[0m         \u001b[0mf\u001b[0m\u001b[0;34m.\u001b[0m\u001b[0mcalled\u001b[0m \u001b[0;34m=\u001b[0m \u001b[0;36m0\u001b[0m\u001b[0;34m\u001b[0m\u001b[0m\n\u001b[1;32m     12\u001b[0m         \u001b[0;32mtry\u001b[0m\u001b[0;34m:\u001b[0m\u001b[0;34m\u001b[0m\u001b[0m\n\u001b[0;32m---> 13\u001b[0;31m             \u001b[0;32mreturn\u001b[0m \u001b[0mfn\u001b[0m\u001b[0;34m(\u001b[0m\u001b[0mf\u001b[0m\u001b[0;34m,\u001b[0m \u001b[0;34m*\u001b[0m\u001b[0margs\u001b[0m\u001b[0;34m,\u001b[0m \u001b[0;34m**\u001b[0m\u001b[0mkwargs\u001b[0m\u001b[0;34m)\u001b[0m\u001b[0;34m\u001b[0m\u001b[0m\n\u001b[0m\u001b[1;32m     14\u001b[0m         \u001b[0;32mfinally\u001b[0m\u001b[0;34m:\u001b[0m\u001b[0;34m\u001b[0m\u001b[0m\n\u001b[1;32m     15\u001b[0m             \u001b[0mwrapper\u001b[0m\u001b[0;34m.\u001b[0m\u001b[0mcalls_to_function\u001b[0m \u001b[0;34m=\u001b[0m \u001b[0mf\u001b[0m\u001b[0;34m.\u001b[0m\u001b[0mcalled\u001b[0m\u001b[0;34m\u001b[0m\u001b[0m\n",
      "\u001b[0;32m<ipython-input-20-3ac60e1cd0b8>\u001b[0m in \u001b[0;36mnelder_mead\u001b[0;34m(f, x_0, shift, alpha, beta, gamma, sigma, epsilon, maxIter)\u001b[0m\n\u001b[1;32m     11\u001b[0m \u001b[0;34m\u001b[0m\u001b[0m\n\u001b[1;32m     12\u001b[0m     \u001b[0miter\u001b[0m \u001b[0;34m=\u001b[0m \u001b[0;36m0\u001b[0m\u001b[0;34m\u001b[0m\u001b[0m\n\u001b[0;32m---> 13\u001b[0;31m     \u001b[0;32mwhile\u001b[0m \u001b[0mnp\u001b[0m\u001b[0;34m.\u001b[0m\u001b[0mmax\u001b[0m\u001b[0;34m(\u001b[0m\u001b[0mnp\u001b[0m\u001b[0;34m.\u001b[0m\u001b[0mlinalg\u001b[0m\u001b[0;34m.\u001b[0m\u001b[0mnorm\u001b[0m\u001b[0;34m(\u001b[0m\u001b[0mX\u001b[0m \u001b[0;34m-\u001b[0m \u001b[0mnp\u001b[0m\u001b[0;34m.\u001b[0m\u001b[0mmean\u001b[0m\u001b[0;34m(\u001b[0m\u001b[0mX\u001b[0m\u001b[0;34m,\u001b[0m \u001b[0maxis\u001b[0m\u001b[0;34m=\u001b[0m\u001b[0;36m0\u001b[0m\u001b[0;34m)\u001b[0m\u001b[0;34m,\u001b[0m \u001b[0maxis\u001b[0m\u001b[0;34m=\u001b[0m\u001b[0;36m0\u001b[0m\u001b[0;34m)\u001b[0m\u001b[0;34m)\u001b[0m \u001b[0;34m>\u001b[0m \u001b[0meps\u001b[0m \u001b[0;32mand\u001b[0m \u001b[0miter\u001b[0m \u001b[0;34m<\u001b[0m \u001b[0mmaxIter\u001b[0m\u001b[0;34m:\u001b[0m\u001b[0;34m\u001b[0m\u001b[0m\n\u001b[0m\u001b[1;32m     14\u001b[0m         \u001b[0miter\u001b[0m \u001b[0;34m+=\u001b[0m \u001b[0;36m1\u001b[0m\u001b[0;34m\u001b[0m\u001b[0m\n\u001b[1;32m     15\u001b[0m         \u001b[0mvals\u001b[0m \u001b[0;34m=\u001b[0m \u001b[0mlist\u001b[0m\u001b[0;34m(\u001b[0m\u001b[0mmap\u001b[0m\u001b[0;34m(\u001b[0m\u001b[0mf\u001b[0m\u001b[0;34m,\u001b[0m \u001b[0mX\u001b[0m\u001b[0;34m)\u001b[0m\u001b[0;34m)\u001b[0m\u001b[0;34m\u001b[0m\u001b[0m\n",
      "\u001b[0;31mNameError\u001b[0m: name 'eps' is not defined"
     ]
    }
   ],
   "source": [
    "fs = [f1, f2, f3, f4]\n",
    "x0s = [f1_x0, f2_x0, f3_x0, f4_x0]\n",
    "\n",
    "data = []\n",
    "for search_f in [hooke_jeeves, nelder_mead]:\n",
    "    for f, x0 in zip(fs, x0s):\n",
    "        result = search_f(f, x0)\n",
    "        data.append(\n",
    "            [search_f.__name__, x0, search_f.calls_to_function, result])\n",
    "\n",
    "pd.DataFrame(data, columns=['Algoritam', 'x0', 'Broj poziva', 'Rezultat'])"
   ]
  },
  {
   "cell_type": "markdown",
   "metadata": {},
   "source": [
    "## 3.\n",
    "Primijenite postupak Hooke-Jeeves i simpleks po Nelderu i Meadu na funkciju 4 uz početnu točku\n",
    "(5, 5). Objasnite rezultate!"
   ]
  },
  {
   "cell_type": "code",
   "execution_count": 15,
   "metadata": {},
   "outputs": [
    {
     "data": {
      "text/plain": [
       "array([5, 5])"
      ]
     },
     "execution_count": 15,
     "metadata": {},
     "output_type": "execute_result"
    }
   ],
   "source": [
    "hooke_jeeves(f4, pt(5, 5))"
   ]
  },
  {
   "cell_type": "code",
   "execution_count": 16,
   "metadata": {},
   "outputs": [
    {
     "data": {
      "text/plain": [
       "array([ 5.5,  5.5])"
      ]
     },
     "execution_count": 16,
     "metadata": {},
     "output_type": "execute_result"
    }
   ],
   "source": [
    "nelder_mead(f4, pt(5, 5))"
   ]
  },
  {
   "cell_type": "markdown",
   "metadata": {},
   "source": [
    "## 4.\n",
    "Primijenite simpleks po Nelderu i Meadu na funkciju 1. Kao početnu točku postavite točku (0.5,0.5).\n",
    "Provedite postupak s nekoliko različitih koraka za generiranje početnog simpleksa (primjerice iz\n",
    "intervala od 1 do 20) i zabilježite potreban broj evaluacija funkcije cilja i pronađene točke\n",
    "minimuma. Potom probajte kao početnu točku postaviti točku (20,20) i ponovo provesti eksperiment.\n",
    "Što možete zaključiti?"
   ]
  },
  {
   "cell_type": "markdown",
   "metadata": {},
   "source": [
    "## 5.\n",
    "Primijenite jedan postupak optimizacije na funkciju 6 u dvije dimenzije, tako da postupak pokrećete\n",
    "više puta iz slučajno odabrane početne točke u intervalu [-50,50]. Možete li odrediti vjerojatnost\n",
    "pronalaženja globalnog optimuma na ovaj način? (smatramo da je algoritam locirao globalni\n",
    "minimum ako je nađena vrijednost funkcije cilja manja od 10^-4)"
   ]
  },
  {
   "cell_type": "code",
   "execution_count": 17,
   "metadata": {},
   "outputs": [
    {
     "data": {
      "text/html": [
       "<div>\n",
       "<table border=\"1\" class=\"dataframe\">\n",
       "  <thead>\n",
       "    <tr style=\"text-align: right;\">\n",
       "      <th></th>\n",
       "      <th>Algoritam</th>\n",
       "      <th>x0</th>\n",
       "      <th>Broj poziva</th>\n",
       "      <th>Rezultat</th>\n",
       "    </tr>\n",
       "  </thead>\n",
       "  <tbody>\n",
       "    <tr>\n",
       "      <th>0</th>\n",
       "      <td>hooke_jeeves</td>\n",
       "      <td>[21, -33]</td>\n",
       "      <td>146</td>\n",
       "      <td>[21, -31]</td>\n",
       "    </tr>\n",
       "    <tr>\n",
       "      <th>1</th>\n",
       "      <td>hooke_jeeves</td>\n",
       "      <td>[48, -20]</td>\n",
       "      <td>152</td>\n",
       "      <td>[48, -15]</td>\n",
       "    </tr>\n",
       "    <tr>\n",
       "      <th>2</th>\n",
       "      <td>hooke_jeeves</td>\n",
       "      <td>[-8, -41]</td>\n",
       "      <td>157</td>\n",
       "      <td>[-7, -40]</td>\n",
       "    </tr>\n",
       "    <tr>\n",
       "      <th>3</th>\n",
       "      <td>hooke_jeeves</td>\n",
       "      <td>[-15, 43]</td>\n",
       "      <td>151</td>\n",
       "      <td>[-9, 43]</td>\n",
       "    </tr>\n",
       "    <tr>\n",
       "      <th>4</th>\n",
       "      <td>hooke_jeeves</td>\n",
       "      <td>[46, -48]</td>\n",
       "      <td>139</td>\n",
       "      <td>[46, -47]</td>\n",
       "    </tr>\n",
       "    <tr>\n",
       "      <th>5</th>\n",
       "      <td>hooke_jeeves</td>\n",
       "      <td>[47, 1]</td>\n",
       "      <td>114</td>\n",
       "      <td>[47, 1]</td>\n",
       "    </tr>\n",
       "    <tr>\n",
       "      <th>6</th>\n",
       "      <td>hooke_jeeves</td>\n",
       "      <td>[-11, -22]</td>\n",
       "      <td>134</td>\n",
       "      <td>[-11, -22]</td>\n",
       "    </tr>\n",
       "    <tr>\n",
       "      <th>7</th>\n",
       "      <td>hooke_jeeves</td>\n",
       "      <td>[30, 20]</td>\n",
       "      <td>114</td>\n",
       "      <td>[30, 20]</td>\n",
       "    </tr>\n",
       "    <tr>\n",
       "      <th>8</th>\n",
       "      <td>hooke_jeeves</td>\n",
       "      <td>[-40, 41]</td>\n",
       "      <td>139</td>\n",
       "      <td>[-39, 41]</td>\n",
       "    </tr>\n",
       "    <tr>\n",
       "      <th>9</th>\n",
       "      <td>hooke_jeeves</td>\n",
       "      <td>[22, 48]</td>\n",
       "      <td>114</td>\n",
       "      <td>[22, 48]</td>\n",
       "    </tr>\n",
       "    <tr>\n",
       "      <th>10</th>\n",
       "      <td>hooke_jeeves</td>\n",
       "      <td>[-20, 42]</td>\n",
       "      <td>133</td>\n",
       "      <td>[-20, 42]</td>\n",
       "    </tr>\n",
       "    <tr>\n",
       "      <th>11</th>\n",
       "      <td>hooke_jeeves</td>\n",
       "      <td>[-34, -23]</td>\n",
       "      <td>134</td>\n",
       "      <td>[-34, -23]</td>\n",
       "    </tr>\n",
       "    <tr>\n",
       "      <th>12</th>\n",
       "      <td>hooke_jeeves</td>\n",
       "      <td>[9, 13]</td>\n",
       "      <td>114</td>\n",
       "      <td>[9, 13]</td>\n",
       "    </tr>\n",
       "    <tr>\n",
       "      <th>13</th>\n",
       "      <td>hooke_jeeves</td>\n",
       "      <td>[-46, -6]</td>\n",
       "      <td>147</td>\n",
       "      <td>[-41, -3]</td>\n",
       "    </tr>\n",
       "    <tr>\n",
       "      <th>14</th>\n",
       "      <td>hooke_jeeves</td>\n",
       "      <td>[13, -47]</td>\n",
       "      <td>145</td>\n",
       "      <td>[13, -45]</td>\n",
       "    </tr>\n",
       "    <tr>\n",
       "      <th>15</th>\n",
       "      <td>hooke_jeeves</td>\n",
       "      <td>[-19, -18]</td>\n",
       "      <td>159</td>\n",
       "      <td>[-18, -18]</td>\n",
       "    </tr>\n",
       "    <tr>\n",
       "      <th>16</th>\n",
       "      <td>hooke_jeeves</td>\n",
       "      <td>[-15, -30]</td>\n",
       "      <td>148</td>\n",
       "      <td>[-9, -27]</td>\n",
       "    </tr>\n",
       "    <tr>\n",
       "      <th>17</th>\n",
       "      <td>hooke_jeeves</td>\n",
       "      <td>[25, 23]</td>\n",
       "      <td>114</td>\n",
       "      <td>[25, 23]</td>\n",
       "    </tr>\n",
       "    <tr>\n",
       "      <th>18</th>\n",
       "      <td>hooke_jeeves</td>\n",
       "      <td>[-23, 28]</td>\n",
       "      <td>145</td>\n",
       "      <td>[-20, 28]</td>\n",
       "    </tr>\n",
       "    <tr>\n",
       "      <th>19</th>\n",
       "      <td>hooke_jeeves</td>\n",
       "      <td>[-30, -7]</td>\n",
       "      <td>147</td>\n",
       "      <td>[-25, -4]</td>\n",
       "    </tr>\n",
       "  </tbody>\n",
       "</table>\n",
       "</div>"
      ],
      "text/plain": [
       "       Algoritam          x0  Broj poziva    Rezultat\n",
       "0   hooke_jeeves   [21, -33]          146   [21, -31]\n",
       "1   hooke_jeeves   [48, -20]          152   [48, -15]\n",
       "2   hooke_jeeves   [-8, -41]          157   [-7, -40]\n",
       "3   hooke_jeeves   [-15, 43]          151    [-9, 43]\n",
       "4   hooke_jeeves   [46, -48]          139   [46, -47]\n",
       "5   hooke_jeeves     [47, 1]          114     [47, 1]\n",
       "6   hooke_jeeves  [-11, -22]          134  [-11, -22]\n",
       "7   hooke_jeeves    [30, 20]          114    [30, 20]\n",
       "8   hooke_jeeves   [-40, 41]          139   [-39, 41]\n",
       "9   hooke_jeeves    [22, 48]          114    [22, 48]\n",
       "10  hooke_jeeves   [-20, 42]          133   [-20, 42]\n",
       "11  hooke_jeeves  [-34, -23]          134  [-34, -23]\n",
       "12  hooke_jeeves     [9, 13]          114     [9, 13]\n",
       "13  hooke_jeeves   [-46, -6]          147   [-41, -3]\n",
       "14  hooke_jeeves   [13, -47]          145   [13, -45]\n",
       "15  hooke_jeeves  [-19, -18]          159  [-18, -18]\n",
       "16  hooke_jeeves  [-15, -30]          148   [-9, -27]\n",
       "17  hooke_jeeves    [25, 23]          114    [25, 23]\n",
       "18  hooke_jeeves   [-23, 28]          145   [-20, 28]\n",
       "19  hooke_jeeves   [-30, -7]          147   [-25, -4]"
      ]
     },
     "execution_count": 17,
     "metadata": {},
     "output_type": "execute_result"
    }
   ],
   "source": [
    "ncalls = 20\n",
    "\n",
    "data = []\n",
    "for i in range(ncalls):\n",
    "    random = np.random.randint(-50, 50 + 1, size=2)\n",
    "    result = hooke_jeeves(f6, pt(*random))\n",
    "    data.append([hooke_jeeves.__name__, \n",
    "                 random,\n",
    "                 hooke_jeeves.calls_to_function, \n",
    "                 result])\n",
    "\n",
    "pd.DataFrame(data, columns=['Algoritam', 'x0', 'Broj poziva', 'Rezultat'])"
   ]
  },
  {
   "cell_type": "markdown",
   "metadata": {},
   "source": [
    "# Matlab\n",
    "* `fminbnd` (1 var)\n",
    "* `fminsearch` (vise var; simplex po N&M)\n",
    "* `fminunc` (vise var; razliciti alg.)\n",
    "* `fmincon` (vise var, uz ogranicenja)"
   ]
  }
 ],
 "metadata": {
  "kernelspec": {
   "display_name": "Python 3",
   "language": "python",
   "name": "python3"
  },
  "language_info": {
   "codemirror_mode": {
    "name": "ipython",
    "version": 3
   },
   "file_extension": ".py",
   "mimetype": "text/x-python",
   "name": "python",
   "nbconvert_exporter": "python",
   "pygments_lexer": "ipython3",
   "version": "3.6.2"
  }
 },
 "nbformat": 4,
 "nbformat_minor": 2
}
