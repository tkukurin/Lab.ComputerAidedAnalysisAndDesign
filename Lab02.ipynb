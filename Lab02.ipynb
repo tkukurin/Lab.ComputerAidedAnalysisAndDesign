{
 "cells": [
  {
   "cell_type": "markdown",
   "metadata": {},
   "source": [
    "[Link na zadatke](http://www.fer.unizg.hr/_download/repository/vjezba_2%5B4%5D.pdf)"
   ]
  },
  {
   "cell_type": "markdown",
   "metadata": {},
   "source": [
    "## Funkcije cilja"
   ]
  },
  {
   "cell_type": "code",
   "execution_count": null,
   "metadata": {
    "collapsed": true
   },
   "outputs": [],
   "source": [
    "import numpy as np\n",
    "\n",
    "def f1(x):\n",
    "    x1, x2 = x\n",
    "    return 100 * (x2 - x1 ** 2) ** 2 + (1 - x1) ** 2\n",
    "f1_x0 = (-1.9, 2)\n",
    "f1_xmin = (1, 1)\n",
    "f1_min = 0\n",
    "\n",
    "def f2(x):\n",
    "    x1, x2 = x\n",
    "    return (x1 - 4) ** 2 + 4 * (x2 - 2) ** 2\n",
    "f2_x0 = (0.1, 0.3)\n",
    "f2_xmin = (4, 2)\n",
    "f2_min = 0\n",
    "\n",
    "def f3(x):\n",
    "    return np.sum(np.square(np.arange(1, x.shape[0] + 1) - x))\n",
    "f3_x0 = (0, 0)\n",
    "f3_min = 0\n",
    "\n",
    "def f4(x):\n",
    "    x1, x2 = x\n",
    "    return abs((x1 - x2) * (x1 + x2)) + math.sqrt(x1 ** 2 + x2 ** 2)\n",
    "f4_x0 = (5.1, 1.1)\n",
    "f4_min = 0\n",
    "\n",
    "def f6(x):\n",
    "    x = np.sum(np.square(x))\n",
    "    return 0.5 + (math.sin(math.sqrt(x)) ** 2 - 0.5) / (1 + 0.001 * x) ** 2\n",
    "f6_xmin = 0\n",
    "f6_min = 0"
   ]
  },
  {
   "cell_type": "markdown",
   "metadata": {},
   "source": [
    "### [Golden section](http://www.fer.unizg.hr/_download/repository/zlatni_rez.txt)"
   ]
  },
  {
   "cell_type": "code",
   "execution_count": null,
   "metadata": {
    "collapsed": true
   },
   "outputs": [],
   "source": [
    "def zlatni_rez(a, b, e, k, f):\n",
    "    hi = b - k * (b - a)\n",
    "    lo = a + k * (b - a)\n",
    "    \n",
    "    f_hi = f(hi)\n",
    "    f_lo = f(lo)\n",
    "    \n",
    "    while (b - a) > e:\n",
    "        if f_hi < f_lo:\n",
    "            b = lo\n",
    "            lo = hi\n",
    "            hi = b - k * (b - a)\n",
    "            f_lo = f_hi\n",
    "            f_hi = f(hi)\n",
    "        else:\n",
    "            a = hi\n",
    "            hi = lo\n",
    "            lo = a + k * (b - a)\n",
    "            f_hi = f_lo\n",
    "            f_lo = f(lo)\n",
    "    \n",
    "    return (a + b) / 2"
   ]
  },
  {
   "cell_type": "markdown",
   "metadata": {},
   "source": [
    "### [Unimodal](http://www.fer.unizg.hr/_download/repository/unimodalni.txt)"
   ]
  },
  {
   "cell_type": "code",
   "execution_count": null,
   "metadata": {
    "collapsed": true
   },
   "outputs": [],
   "source": [
    "def unimodalni(h, pt):\n",
    "    l, r = pt - h, pt + h\n",
    "    m = pt\n",
    "    step = 1\n",
    "    \n",
    "    fm = f(pt)\n",
    "    fl = f(l)\n",
    "    fr = f(r)\n",
    "    \n",
    "    if fm < fr and fm < fl:\n",
    "        return l, r\n",
    "    else if fm > fr:\n",
    "        while True:\n",
    "            l, m, fm = m, r, fr\n",
    "            r = pt + h * (step * 2)\n",
    "            fr = f(r)\n",
    "            step *= 2\n",
    "            if fm <= fr:\n",
    "                return l, r\n",
    "    else:\n",
    "        while True:\n",
    "            r, m, fm = m, l, fl\n",
    "            l = pt - h * (step * 2)\n",
    "            fl = f(l)\n",
    "            step *= 2\n",
    "            if fm <= fl:\n",
    "                return l, r\n",
    "    "
   ]
  },
  {
   "cell_type": "markdown",
   "metadata": {},
   "source": [
    "### [Simplex](http://www.fer.unizg.hr/_download/repository/simplex.html)"
   ]
  },
  {
   "cell_type": "code",
   "execution_count": null,
   "metadata": {
    "collapsed": true
   },
   "outputs": [],
   "source": [
    "def simplex_nelder_mead(\n",
    "    x0, alpha=1, beta=0.5, gamma=2, sigma=0.5 epsilon=1e-6):\n",
    "    \n",
    "    x = simplex_pts(x0)\n",
    "    reflect = lambda *none: x0 + alpha * (x0 - x[-1])\n",
    "    expand = lambda xr: x0 + gamma * (xr - x0)\n",
    "    \n",
    "    while True:\n",
    "        xc = np.mean(x)\n",
    "        xr = reflect()\n",
    "        \n",
    "        if f(xr) < f(x[l]):\n",
    "            xe = expand(xr)\n",
    "            if f(xe) < f(x[l]):\n",
    "                x[h] = xe\n",
    "            else:\n",
    "                x[h] = xr\n",
    "        else:\n",
    "            fxr = f(xr)\n",
    "            if all(fxr > f(xj) for j, xj in enumerate(x) if j != h):\n",
    "                if fxr < f(x[h]):\n",
    "                    x[h] = xr\n",
    "                else:\n",
    "                    pass # treba pomaknut sve tocke prema X[l] ??\n",
    "            else:\n",
    "                x[h] = xr\n",
    "        \n",
    "        if stopping_condition(x):\n",
    "            break\n",
    "            \n",
    "    return x"
   ]
  },
  {
   "cell_type": "markdown",
   "metadata": {},
   "source": [
    "### [Hooke-Jeeves](http://www.fer.unizg.hr/_download/repository/hj.html)"
   ]
  },
  {
   "cell_type": "code",
   "execution_count": null,
   "metadata": {
    "collapsed": true
   },
   "outputs": [],
   "source": [
    "def hooke_jeeves():\n",
    "    "
   ]
  }
 ],
 "metadata": {
  "kernelspec": {
   "display_name": "Python 3",
   "language": "python",
   "name": "python3"
  },
  "language_info": {
   "codemirror_mode": {
    "name": "ipython",
    "version": 3
   },
   "file_extension": ".py",
   "mimetype": "text/x-python",
   "name": "python",
   "nbconvert_exporter": "python",
   "pygments_lexer": "ipython3",
   "version": "3.6.2"
  }
 },
 "nbformat": 4,
 "nbformat_minor": 2
}
