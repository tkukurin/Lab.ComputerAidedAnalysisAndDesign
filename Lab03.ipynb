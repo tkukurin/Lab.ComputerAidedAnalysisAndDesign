{
 "cells": [
  {
   "cell_type": "code",
   "execution_count": 1,
   "metadata": {
    "collapsed": true
   },
   "outputs": [],
   "source": [
    "import numpy as np\n",
    "import pandas as pd\n",
    "import sympy as sp\n",
    "import itertools as it\n",
    "import math\n",
    "from sympy.abc import x, y\n",
    "from sympy import Matrix\n",
    "import random\n",
    "\n",
    "# don't show warnings in Jupyter (e.g. log = inf)\n",
    "import warnings\n",
    "warnings.filterwarnings('ignore')"
   ]
  },
  {
   "cell_type": "code",
   "execution_count": 2,
   "metadata": {
    "collapsed": true
   },
   "outputs": [],
   "source": [
    "%%capture\n",
    "%run Lab02.ipynb"
   ]
  },
  {
   "cell_type": "code",
   "execution_count": 3,
   "metadata": {
    "collapsed": true
   },
   "outputs": [],
   "source": [
    "f1 = 100 * (y - x ** 2)  ** 2 + (1 - x) ** 2\n",
    "f1_x0 = pt(-1.9, 2.0)\n",
    "f1_xmin = pt(1, 1)\n",
    "f1_min = 0\n",
    "\n",
    "f2 = (x - 4) ** 2 + 4 * (y - 2) ** 2\n",
    "f2_x0 = pt(0.1, 0.3)\n",
    "f2_xmin = pt(4, 2)\n",
    "f2_min = 0\n",
    "\n",
    "f3 = (x - 2) ** 2 + (y + 3) ** 2\n",
    "f3_x0 = pt(0, 0)\n",
    "f3_xmin = pt(2, -3)\n",
    "f3_min = 0\n",
    "\n",
    "f4 = (x - 3) ** 2 + y ** 2\n",
    "f4_x0 = pt(0, 0)\n",
    "f4_xmin = pt(3, 0)\n",
    "f4_min = 0"
   ]
  },
  {
   "cell_type": "code",
   "execution_count": 4,
   "metadata": {
    "collapsed": true
   },
   "outputs": [],
   "source": [
    "from sympy.tensor.array import derive_by_array\n",
    "\n",
    "def lambdify(sp_fun):\n",
    "    return sp.lambdify([(x, y)], sp_fun)\n",
    "\n",
    "@counted\n",
    "def eval_lambda(f, pt):\n",
    "    return f(pt)\n",
    "\n",
    "@counted\n",
    "def evalf(f, pt):\n",
    "    return sp.lambdify([(x,y)], f)(pt)\n",
    "\n",
    "@counted\n",
    "def gradient(f):\n",
    "    xy = (x, y)\n",
    "    return lambda pt: evalf(derive_by_array(f, xy), pt)\n",
    "\n",
    "@counted\n",
    "def hessian(f):\n",
    "    xy = (x, y)\n",
    "    return lambda pt: evalf(derive_by_array(derive_by_array(f, xy), xy), pt)"
   ]
  },
  {
   "cell_type": "markdown",
   "metadata": {},
   "source": [
    "## Optimizacijske funkcije"
   ]
  },
  {
   "cell_type": "code",
   "execution_count": 5,
   "metadata": {
    "collapsed": true
   },
   "outputs": [],
   "source": [
    "@counted\n",
    "def optimize_move_callable(f, d, epsilon):\n",
    "    l, r = unimodal(f, d)\n",
    "    return golden_section(f, l, r, epsilon)\n",
    "\n",
    "@counted\n",
    "def no_optimization(*args):\n",
    "    return 1.0"
   ]
  },
  {
   "cell_type": "code",
   "execution_count": 6,
   "metadata": {
    "collapsed": true
   },
   "outputs": [],
   "source": [
    "def reset():\n",
    "    hessian.called = 0\n",
    "    gradient.called = 0\n",
    "    evalf.called = 0\n",
    "    optimize_move_callable.called = 0\n",
    "    no_optimization.called = 0"
   ]
  },
  {
   "cell_type": "markdown",
   "metadata": {},
   "source": [
    "# Gradijentni spust"
   ]
  },
  {
   "cell_type": "code",
   "execution_count": 7,
   "metadata": {},
   "outputs": [
    {
     "data": {
      "text/plain": [
       "Point([ 1.,  1.])"
      ]
     },
     "execution_count": 7,
     "metadata": {},
     "output_type": "execute_result"
    }
   ],
   "source": [
    "def gradient_descent(f, x0, epsilon = 1e-6, max_iter = 1000,\n",
    "                     optimize_move_callable = lambda *x: 1.0):\n",
    "    gradient_callable = gradient(f)\n",
    "    gradient_vector = gradient_callable(x0)\n",
    "    hessian_callable = hessian(f)\n",
    "    hessian_vector = hessian_callable(x0)\n",
    "    x = Point(x0)\n",
    "    i = 0\n",
    "    \n",
    "    while np.linalg.norm(gradient_vector) > epsilon and i < max_iter:\n",
    "        move_vector = np.dot(np.linalg.inv(hessian_vector), gradient_vector)\n",
    "        vector_mul = optimize_move_callable(\n",
    "            lambda d: evalf(f, x - d * move_vector), 1, epsilon)\n",
    "        x -= vector_mul * move_vector\n",
    "        \n",
    "        gradient_vector = gradient_callable(x)\n",
    "        hessian_vector = hessian_callable(x)\n",
    "        \n",
    "        i += 1\n",
    "        \n",
    "    return x\n",
    "\n",
    "gradient_descent(f1, f1_x0)"
   ]
  },
  {
   "cell_type": "code",
   "execution_count": 8,
   "metadata": {},
   "outputs": [
    {
     "data": {
      "text/plain": [
       "Point([ 1.,  1.])"
      ]
     },
     "execution_count": 8,
     "metadata": {},
     "output_type": "execute_result"
    }
   ],
   "source": [
    "gradient_descent(f1, f1_x0, optimize_move_callable=optimize_move_callable)"
   ]
  },
  {
   "cell_type": "markdown",
   "metadata": {},
   "source": [
    "# Newton Raphson"
   ]
  },
  {
   "cell_type": "code",
   "execution_count": 9,
   "metadata": {
    "collapsed": true
   },
   "outputs": [],
   "source": [
    "def newton_raphson(f, x0, e = 1e-6, optimize_move_callable=lambda *x: 1.0, max_iter=1000):\n",
    "    x = Point(x0)\n",
    "\n",
    "    gradient_callable = gradient(f)\n",
    "    hessian_callable = hessian(f)\n",
    "    gradient_vector = gradient_callable(x)\n",
    "    \n",
    "    i = 0\n",
    "    while norm(gradient_vector) > e and i < max_iter:\n",
    "        i += 1\n",
    "        \n",
    "        gradient_vector = np.dot(np.linalg.inv(hessian_callable(x)), \n",
    "                                 gradient_callable(x)).reshape(-1)\n",
    "        x -= gradient_vector * optimize_move_callable(\n",
    "            lambda d: evalf(f, x - d * gradient_vector), 1, e)\n",
    "        \n",
    "    return x"
   ]
  },
  {
   "cell_type": "code",
   "execution_count": 10,
   "metadata": {},
   "outputs": [
    {
     "data": {
      "text/plain": [
       "Point([ 1.,  1.])"
      ]
     },
     "execution_count": 10,
     "metadata": {},
     "output_type": "execute_result"
    }
   ],
   "source": [
    "newton_raphson(f1, f1_x0)"
   ]
  },
  {
   "cell_type": "markdown",
   "metadata": {},
   "source": [
    "# Box"
   ]
  },
  {
   "cell_type": "code",
   "execution_count": 11,
   "metadata": {
    "collapsed": true
   },
   "outputs": [],
   "source": [
    "def box(f, x0, gs, xd, xg, alpha=1.3, epsilon1 = 1e-6, epsilon2 = 1e-6, max_iter=1000):\n",
    "    \n",
    "    xc = Point(x0)\n",
    "    n = len(x0)\n",
    "    h, h2 = -1, -2\n",
    "    \n",
    "    reflect = lambda xc, xh: xc + alpha * (xc - xh)\n",
    "    x = np.ones([2 * n, n])\n",
    "    \n",
    "    for t in range(2 * n):\n",
    "        for i in range(n):\n",
    "            x[t][i] = xd[i] + random.random() * (xg[i] - xd[i])\n",
    "        while any(g(x[t]) < 0 for g in gs):\n",
    "            x[t] = 0.5 * (x[t] + xc)\n",
    "        \n",
    "        xc = np.mean(x, axis=0)\n",
    "            \n",
    "    i = 0\n",
    "    while i < max_iter:\n",
    "        i += 1\n",
    "        x = sorted(x, key=lambda x: f(x))\n",
    "        \n",
    "        xc = np.mean(x[:h], axis=0)\n",
    "        xr = reflect(xc, x[h])\n",
    "        \n",
    "        for i in range(n):\n",
    "            if xr[i] < xd[i]:\n",
    "                xr[i] = xd[i]\n",
    "            elif xr[i] > xg[i]:\n",
    "                xr[i] = xg[i]\n",
    "                \n",
    "        while any(g(xr) < 0 for g in gs):\n",
    "            xr = 0.5 * (xr + xc)\n",
    "            \n",
    "        if f(xr) > f(x[h2]):\n",
    "            xr = 0.5 * (xr + xc)\n",
    "            \n",
    "        x[h] = xr\n",
    "        \n",
    "        if norm(x[h] - xc) <= epsilon1 or abs(f(x[h]) - f(xc)) < epsilon2:\n",
    "            break\n",
    "            \n",
    "    return Point(xc)"
   ]
  },
  {
   "cell_type": "markdown",
   "metadata": {},
   "source": [
    "# Transformacije "
   ]
  },
  {
   "cell_type": "code",
   "execution_count": 12,
   "metadata": {
    "collapsed": true
   },
   "outputs": [],
   "source": [
    "from sympy import log"
   ]
  },
  {
   "cell_type": "code",
   "execution_count": 13,
   "metadata": {
    "collapsed": true
   },
   "outputs": [],
   "source": [
    "def u(f, gs, hs):\n",
    "    return lambda t: f \\\n",
    "        - 1 / t * sum(log(g) for g in gs) \\\n",
    "        + t * sum(h ** 2 for h in hs)\n",
    "\n",
    "def transform(f, x0, gs=[], hs=[], t=1.0, epsilon=10e-6):\n",
    "    f_modified = u(f, gs, hs)\n",
    "    x = Point(x0)\n",
    "    \n",
    "    while True:\n",
    "        x_old = Point(x)\n",
    "        f_modified_t = f_modified(t)\n",
    "        x = hooke_jeeves(lambda point: evalf(f_modified_t, point), x)\n",
    "        t *= 10\n",
    "\n",
    "        if all(abs(xi1 - xi2) < epsilon for xi1, xi2 in zip(x_old, x)):\n",
    "            return x, int(math.log(t, 10) + 1)"
   ]
  },
  {
   "cell_type": "code",
   "execution_count": 14,
   "metadata": {
    "scrolled": false
   },
   "outputs": [
    {
     "data": {
      "text/plain": [
       "(Point([ 0.01021347,  0.01021385]), 8)"
      ]
     },
     "execution_count": 14,
     "metadata": {},
     "output_type": "execute_result"
    }
   ],
   "source": [
    "transform(f1, f1_x0, gs=[y - x, 2 - x, y + 100, 100 - y, x + 100, 100 - x, ])"
   ]
  },
  {
   "cell_type": "markdown",
   "metadata": {},
   "source": [
    "# 1.\n",
    "Primijenite postupak gradijentnog spusta na funkciju 3, uz i bez određivanja optimalnog iznosa\n",
    "koraka. Što možete zaključiti iz rezultata?\n",
    "\n",
    "Obje metode daju jednako dobar rezultat."
   ]
  },
  {
   "cell_type": "code",
   "execution_count": 15,
   "metadata": {},
   "outputs": [
    {
     "data": {
      "text/plain": [
       "Point([ 2., -3.])"
      ]
     },
     "execution_count": 15,
     "metadata": {},
     "output_type": "execute_result"
    }
   ],
   "source": [
    "gradient_descent(f3, f3_x0)"
   ]
  },
  {
   "cell_type": "code",
   "execution_count": 16,
   "metadata": {},
   "outputs": [
    {
     "data": {
      "text/plain": [
       "Point([ 2., -3.])"
      ]
     },
     "execution_count": 16,
     "metadata": {},
     "output_type": "execute_result"
    }
   ],
   "source": [
    "gradient_descent(f3, f3_x0, optimize_move_callable=optimize_move_callable)"
   ]
  },
  {
   "cell_type": "code",
   "execution_count": 17,
   "metadata": {},
   "outputs": [
    {
     "data": {
      "text/plain": [
       "Point([ 2., -3.])"
      ]
     },
     "execution_count": 17,
     "metadata": {},
     "output_type": "execute_result"
    }
   ],
   "source": [
    "f3_xmin"
   ]
  },
  {
   "cell_type": "code",
   "execution_count": 18,
   "metadata": {
    "collapsed": true
   },
   "outputs": [],
   "source": [
    "reset()"
   ]
  },
  {
   "cell_type": "markdown",
   "metadata": {},
   "source": [
    "# 2.\n",
    "Primijenite postupak gradijentnog spusta i Newton-Raphsonov postupak na funkcije 1 i 2 s\n",
    "određivanjem optimalnog iznosa koraka. Kako se Newton-Raphsonov postupak ponaša na ovim\n",
    "funkcijama? Ispišite broj izračuna funkcije, gradijenta i Hesseove matrice. "
   ]
  },
  {
   "cell_type": "code",
   "execution_count": 19,
   "metadata": {},
   "outputs": [
    {
     "name": "stdout",
     "output_type": "stream",
     "text": [
      "newton_raphson \n",
      "(no_optimization , (-x + 1)**2 + 100*(-x**2 + y)**2) \n",
      "Result: [ 1.  1.]\n",
      "6 iterations\n",
      "\n",
      "newton_raphson \n",
      "(no_optimization , (x - 4)**2 + 4*(y - 2)**2) \n",
      "Result: [ 4.  2.]\n",
      "2 iterations\n",
      "\n",
      "newton_raphson \n",
      "(optimize_move_callable , (-x + 1)**2 + 100*(-x**2 + y)**2) \n",
      "Result: [ 1.  1.]\n",
      "19 iterations\n",
      "\n",
      "newton_raphson \n",
      "(optimize_move_callable , (x - 4)**2 + 4*(y - 2)**2) \n",
      "Result: [ 4.  2.]\n",
      "3 iterations\n",
      "\n",
      "gradient_descent \n",
      "(no_optimization , (-x + 1)**2 + 100*(-x**2 + y)**2) \n",
      "Result: [ 1.  1.]\n",
      "5 iterations\n",
      "\n",
      "gradient_descent \n",
      "(no_optimization , (x - 4)**2 + 4*(y - 2)**2) \n",
      "Result: [ 4.  2.]\n",
      "1 iterations\n",
      "\n",
      "gradient_descent \n",
      "(optimize_move_callable , (-x + 1)**2 + 100*(-x**2 + y)**2) \n",
      "Result: [ 1.  1.]\n",
      "19 iterations\n",
      "\n",
      "gradient_descent \n",
      "(optimize_move_callable , (x - 4)**2 + 4*(y - 2)**2) \n",
      "Result: [ 4.  2.]\n",
      "2 iterations\n",
      "\n"
     ]
    }
   ],
   "source": [
    "fs = [f1, f2]\n",
    "xs = [f1_x0, f2_x0]\n",
    "opts = [no_optimization, optimize_move_callable]\n",
    "search_fs = [newton_raphson, gradient_descent]\n",
    "\n",
    "for search_f, optimize_callable, (f_min, x0) in it.product(search_fs, opts, zip(fs, x0s)):\n",
    "    reset()\n",
    "    result = search_f(\n",
    "        f_min, x0, optimize_move_callable=optimize_callable)\n",
    "    \n",
    "    print(search_f.__name__, \n",
    "          \"\\n(\" + optimize_callable.__name__, \",\", str(f_min) + \")\", \"\\n\"\n",
    "          \"Result:\", result)\n",
    "    print(optimize_callable.called, \"iterations\\n\")"
   ]
  },
  {
   "cell_type": "markdown",
   "metadata": {},
   "source": [
    "# 3.\n",
    "Primijenite postupak po Boxu na funkcije 1 i 2 uz implicitna ograničenja: (x2-x1 >= 0), (2-x1 >= 0) i\n",
    "eksplicitna ograničenja prema kojima su sve varijable u intervalu [-100, 100]. Mijenja li se položaj\n",
    "optimuma uz nametnuta ograničenja?\n",
    "\n",
    "S obzirom da za f1 zadovoljava uvjete, optimum se ne mijenja. Za f2, x (=4) ne zadovoljava jednadzbu 2 - x >= 0 pa je pomaknut u tocku 2."
   ]
  },
  {
   "cell_type": "code",
   "execution_count": 20,
   "metadata": {
    "collapsed": true
   },
   "outputs": [],
   "source": [
    "gs = [y - x, 2 - x, y + 100, 100 - y, x + 100, 100 - x, ]\n",
    "gs = [lambdify(g) for g in gs]"
   ]
  },
  {
   "cell_type": "code",
   "execution_count": 21,
   "metadata": {},
   "outputs": [
    {
     "data": {
      "text/plain": [
       "Point([ 1.00133642,  1.00273114])"
      ]
     },
     "execution_count": 21,
     "metadata": {},
     "output_type": "execute_result"
    }
   ],
   "source": [
    "box(lambdify(f1), f1_x0, gs, Point([-100, -100]), Point([100, 100]), max_iter=10000)"
   ]
  },
  {
   "cell_type": "code",
   "execution_count": 22,
   "metadata": {},
   "outputs": [
    {
     "data": {
      "text/plain": [
       "Point([ 1.,  1.])"
      ]
     },
     "execution_count": 22,
     "metadata": {},
     "output_type": "execute_result"
    }
   ],
   "source": [
    "f1_xmin"
   ]
  },
  {
   "cell_type": "code",
   "execution_count": 23,
   "metadata": {},
   "outputs": [
    {
     "data": {
      "text/plain": [
       "Point([ 1.9999993 ,  2.00093146])"
      ]
     },
     "execution_count": 23,
     "metadata": {},
     "output_type": "execute_result"
    }
   ],
   "source": [
    "box(lambdify(f2), f2_x0, gs, Point([-100, -100]), Point([100, 100]), max_iter=10000)"
   ]
  },
  {
   "cell_type": "code",
   "execution_count": 24,
   "metadata": {},
   "outputs": [
    {
     "data": {
      "text/plain": [
       "Point([ 4.,  2.])"
      ]
     },
     "execution_count": 24,
     "metadata": {},
     "output_type": "execute_result"
    }
   ],
   "source": [
    "f2_xmin"
   ]
  },
  {
   "cell_type": "markdown",
   "metadata": {},
   "source": [
    "# 4.\n",
    "Primijenite postupak transformacije u problem bez ograničenja na funkcije 1 i 2 s ograničenjima iz\n",
    "prethodnog zadatka (zanemarite eksplicitna ograničenja). Novodobiveni problem optimizacije bez\n",
    "ograničenja minimizirajte koristeći postupak Hooke-Jeeves ili postupak simpleksa po Nelderu i\n",
    "Meadu. Može li se uz zadanu početnu točku pronaći optimalno rješenje problema s ograničenjima?\n",
    "Ako ne, probajte odabrati početnu točku iz koje je moguće pronaći rješenje."
   ]
  },
  {
   "cell_type": "code",
   "execution_count": 27,
   "metadata": {
    "collapsed": true
   },
   "outputs": [],
   "source": [
    "# eksplicitna ogranicenja zanemarena\n",
    "gs = [y - x, 2 - x, ]"
   ]
  },
  {
   "cell_type": "code",
   "execution_count": 28,
   "metadata": {
    "collapsed": true
   },
   "outputs": [],
   "source": [
    "reset()\n",
    "sol, n = transform(f1, f1_x0, gs=gs)"
   ]
  },
  {
   "cell_type": "code",
   "execution_count": 29,
   "metadata": {},
   "outputs": [
    {
     "name": "stdout",
     "output_type": "stream",
     "text": [
      "[ 0.01021347  0.01021385]\n",
      "8\n"
     ]
    }
   ],
   "source": [
    "print(sol)\n",
    "print(n)"
   ]
  },
  {
   "cell_type": "code",
   "execution_count": 30,
   "metadata": {
    "collapsed": true
   },
   "outputs": [],
   "source": [
    "reset()\n",
    "sol, n = transform(f2, f2_x0, gs=gs)"
   ]
  },
  {
   "cell_type": "code",
   "execution_count": 31,
   "metadata": {},
   "outputs": [
    {
     "name": "stdout",
     "output_type": "stream",
     "text": [
      "[ 1.99999962  2.00111656]\n",
      "8\n"
     ]
    }
   ],
   "source": [
    "print(sol)\n",
    "print(n)"
   ]
  },
  {
   "cell_type": "markdown",
   "metadata": {},
   "source": [
    "# 5.\n",
    "Za funkciju 4 s ograničenjima (3-x1-x2>=0), (3+1.5*x1-x2>=0) i (x2-1=0) probajte pronaći\n",
    "minimum koristeći postupak transformacije u problem bez ograničenja (također koristite HookeJeeves\n",
    "ili postupak simpleksa po Nelderu i Meadu za minimizaciju). Probajte kao početnu točku\n",
    "postaviti neku točku koja ne zadovoljava ograničenja nejednakosti (primjerice točku (5,5)) te\n",
    "pomoću postupka pronalaženja unutarnje točke odredite drugu točku koja zadovoljava ograničenja\n",
    "nejednakosti te ju iskoristite kao početnu točku za postupak minimizacije."
   ]
  },
  {
   "cell_type": "code",
   "execution_count": 32,
   "metadata": {
    "collapsed": true
   },
   "outputs": [],
   "source": [
    "gs=[3 - x - y, 3 + 1.5 * x - y]\n",
    "hs=[(y - 1) ** 2]"
   ]
  },
  {
   "cell_type": "code",
   "execution_count": 33,
   "metadata": {
    "collapsed": true
   },
   "outputs": [],
   "source": [
    "sol, n = transform(f4, f4_x0, gs=gs, hs=hs)"
   ]
  },
  {
   "cell_type": "code",
   "execution_count": 34,
   "metadata": {},
   "outputs": [
    {
     "data": {
      "text/plain": [
       "Point([ 2.0213089 ,  0.97868919])"
      ]
     },
     "execution_count": 34,
     "metadata": {},
     "output_type": "execute_result"
    }
   ],
   "source": [
    "sol"
   ]
  },
  {
   "cell_type": "code",
   "execution_count": 35,
   "metadata": {},
   "outputs": [
    {
     "data": {
      "text/plain": [
       "8"
      ]
     },
     "execution_count": 35,
     "metadata": {},
     "output_type": "execute_result"
    }
   ],
   "source": [
    "n"
   ]
  },
  {
   "cell_type": "code",
   "execution_count": 36,
   "metadata": {},
   "outputs": [
    {
     "data": {
      "text/plain": [
       "Point([ 3.,  0.])"
      ]
     },
     "execution_count": 36,
     "metadata": {},
     "output_type": "execute_result"
    }
   ],
   "source": [
    "f4_xmin"
   ]
  }
 ],
 "metadata": {
  "kernelspec": {
   "display_name": "Python 3.6",
   "language": "python",
   "name": "python36"
  },
  "language_info": {
   "codemirror_mode": {
    "name": "ipython",
    "version": 3
   },
   "file_extension": ".py",
   "mimetype": "text/x-python",
   "name": "python",
   "nbconvert_exporter": "python",
   "pygments_lexer": "ipython3",
   "version": "3.6.3"
  }
 },
 "nbformat": 4,
 "nbformat_minor": 2
}
