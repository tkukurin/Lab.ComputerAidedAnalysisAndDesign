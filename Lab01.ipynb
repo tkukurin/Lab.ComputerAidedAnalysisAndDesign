{
 "cells": [
  {
   "cell_type": "code",
   "execution_count": 19,
   "metadata": {
    "collapsed": true
   },
   "outputs": [],
   "source": [
    "class IncompatibleMatricesException(Exception):\n",
    "    def __init__(self, m1, m2):\n",
    "        message = \"Not true that {0}, {1} is compatible with {2}, {3}.\" \\\n",
    "            .format(m1.height, m1.width, m2.height, m2.width)\n",
    "        super(IncompatibleMatricesException, self).__init__(message)\n",
    "        \n",
    "class InvalidDimensionException(Exception):\n",
    "    def __init__(self, m):\n",
    "        message = \"Invalid dimensions {0}, {1} from given matrix.\" \\\n",
    "            .format(m.height, m.width)\n",
    "        super(InvalidDimensionException, self).__init__(message)"
   ]
  },
  {
   "cell_type": "code",
   "execution_count": 5,
   "metadata": {
    "collapsed": true
   },
   "outputs": [],
   "source": [
    "def matrix_multiply(fst, snd):\n",
    "    zip_snd = list(zip(*snd))\n",
    "    \n",
    "    return [[sum(a * b for a, b in zip(row_fst, col_snd)) \n",
    "                 for col_snd in zip_snd] \n",
    "                    for row_fst in fst]\n",
    "\n",
    "def scalar(scalar, elements, op):\n",
    "    return [[op(e, scalar) for e in row] for row in elements]\n",
    "\n",
    "def elementwise(fst, snd, operation):\n",
    "    o = lambda z: [operation(a, b) for a, b in zip(z[0], z[1])]\n",
    "    return [o(zipped) for zipped in zip(fst, snd)]"
   ]
  },
  {
   "cell_type": "code",
   "execution_count": 59,
   "metadata": {
    "collapsed": true
   },
   "outputs": [],
   "source": [
    "import numbers, math, itertools, copy\n",
    "\n",
    "class Matrix:\n",
    "    \n",
    "    def __init__(self, elements_or_matrix):\n",
    "        if isinstance(elements_or_matrix, Matrix):\n",
    "            elements_or_matrix = elements_or_matrix.elements\n",
    "            \n",
    "        self.elements = copy.deepcopy(elements_or_matrix)\n",
    "    \n",
    "    def __getitem__(self, key):\n",
    "        return self.elements.__getitem__(key)\n",
    "    \n",
    "    def __setitem__(self, key):\n",
    "        return self.elements.__setitem__(key)\n",
    "        \n",
    "    @property\n",
    "    def width(self):\n",
    "        return 0 if self.height == 0 \\\n",
    "                    else len(self.elements[0])\n",
    "    \n",
    "    @property\n",
    "    def height(self):\n",
    "        return len(self.elements)\n",
    "    \n",
    "    @property\n",
    "    def T(self):\n",
    "        return Matrix([list(col) for col in zip(*self.elements)])\n",
    "    \n",
    "    def __add__(self, other):\n",
    "        return Matrix(self.elements).__iadd__(other)\n",
    "        \n",
    "    def __sub__(self, other):\n",
    "        return Matrix(self.elements).__isub__(other)\n",
    "    \n",
    "    def __iadd__(self, rhs):\n",
    "        if self.height != rhs.height \\\n",
    "            or self.width != rhs.width:\n",
    "            raise IncompatibleMatricesException(self, rhs)\n",
    "        \n",
    "        self.elements = elementwise(\n",
    "            self.elements, rhs.elements, lambda a, b: a + b)\n",
    "        \n",
    "        return self\n",
    "    \n",
    "    def __isub__(self, rhs):\n",
    "        if self.height != rhs.height \\\n",
    "            or self.width != rhs.width:\n",
    "            raise IncompatibleMatricesException(self, rhs)\n",
    "        \n",
    "        self.elements = elementwise(\n",
    "            self.elements, rhs.elements, lambda a, b: a - b)\n",
    "        \n",
    "        return self\n",
    "    \n",
    "    def __rmul__(self, other):\n",
    "        return self.__mul__(other)\n",
    "        \n",
    "    def __mul__(self, rhs):\n",
    "        if isinstance(rhs, numbers.Number):\n",
    "            return Matrix(scalar(rhs, self.elements, lambda a, b: a * b))\n",
    "        \n",
    "        if self.width != rhs.height:\n",
    "            raise IncompatibleMatricesException(self, rhs)\n",
    "        \n",
    "        return Matrix(matrix_multiply(self.elements, rhs.elements))\n",
    "    \n",
    "    def __truediv__(self, rhs):\n",
    "        return Matrix(scalar(rhs, self.elements, lambda a, b: a / b))\n",
    "        \n",
    "    def __eq__(self, rhs):\n",
    "        flat = lambda x: itertools.chain(*x)\n",
    "        return all([ math.isclose(a, b) for a, b in \n",
    "                        zip(flat(self.elements), flat(rhs.elements)) ])\n",
    "    \n",
    "    def __str__(self):\n",
    "        return self.__repr__()\n",
    "    \n",
    "    def __repr__(self):\n",
    "        return \"\\n\".join([\" \".join(str(e) for e in lst) \n",
    "                              for lst in self.elements])\n",
    "\n",
    "    @staticmethod\n",
    "    def from_lines(lines):\n",
    "        elements = []\n",
    "        for line in lines:\n",
    "            line = line.strip().split()\n",
    "            elements.append([ float(n) for n in line ])\n",
    "        return Matrix(elements)\n",
    "        \n",
    "    @staticmethod\n",
    "    def from_file(location):\n",
    "        with open(location) as f:\n",
    "            return Matrix.from_lines(f)\n",
    "    \n",
    "    @staticmethod\n",
    "    def to_file(matrix, location):\n",
    "        with open(location) as f:\n",
    "            f.write(matrix.__repr__())"
   ]
  },
  {
   "cell_type": "code",
   "execution_count": 60,
   "metadata": {},
   "outputs": [
    {
     "data": {
      "text/plain": [
       "12.5 3.0 9.0 2.0\n",
       "4.0 5.0 6.0 7.0\n",
       "8.0 9.0 10.0 11.0"
      ]
     },
     "execution_count": 60,
     "metadata": {},
     "output_type": "execute_result"
    }
   ],
   "source": [
    "Matrix.from_file('test.mat')"
   ]
  },
  {
   "cell_type": "markdown",
   "metadata": {},
   "source": [
    "# Laboratorijske vjezbe\n",
    "\n",
    "## 1.\n",
    "Double varijable trebale bi se usporedjivati uz definiranu dozvoljenu gresku. U Pythonu 3.5 postoji methoda `math.isclose` koja radi takvu usporedbu ([referenca](https://docs.python.org/3/whatsnew/3.5.html#pep-485-a-function-for-testing-approximate-equality), default relativna tolerancija je `1e-09`). Tu metodu koristi klasa `Matrix` prilikom pozivanja `__eq__`."
   ]
  },
  {
   "cell_type": "code",
   "execution_count": 7,
   "metadata": {},
   "outputs": [],
   "source": [
    "m1 = Matrix([[123], [456]])\n",
    "mul = 55\n",
    "\n",
    "m2 = mul * m1\n",
    "m3 = m2 / mul"
   ]
  },
  {
   "cell_type": "code",
   "execution_count": 8,
   "metadata": {},
   "outputs": [],
   "source": [
    "m1 /= 2"
   ]
  },
  {
   "cell_type": "code",
   "execution_count": 9,
   "metadata": {},
   "outputs": [
    {
     "data": {
      "text/plain": [
       "61.5\n",
       "228.0"
      ]
     },
     "execution_count": 9,
     "metadata": {},
     "output_type": "execute_result"
    }
   ],
   "source": [
    "m1"
   ]
  },
  {
   "cell_type": "code",
   "execution_count": 248,
   "metadata": {
    "collapsed": true
   },
   "outputs": [],
   "source": [
    "m1 = Matrix([[6.6]])\n",
    "m2 = Matrix([[2.2 * 3.0]])"
   ]
  },
  {
   "cell_type": "code",
   "execution_count": 250,
   "metadata": {},
   "outputs": [
    {
     "data": {
      "text/plain": [
       "False"
      ]
     },
     "execution_count": 250,
     "metadata": {},
     "output_type": "execute_result"
    }
   ],
   "source": [
    "2.2 * 3.0 == 6.6"
   ]
  },
  {
   "cell_type": "code",
   "execution_count": 249,
   "metadata": {},
   "outputs": [
    {
     "data": {
      "text/plain": [
       "True"
      ]
     },
     "execution_count": 249,
     "metadata": {},
     "output_type": "execute_result"
    }
   ],
   "source": [
    "m1 == m2"
   ]
  },
  {
   "cell_type": "markdown",
   "metadata": {},
   "source": [
    "## 2."
   ]
  },
  {
   "cell_type": "code",
   "execution_count": 78,
   "metadata": {
    "collapsed": true
   },
   "outputs": [],
   "source": [
    "test_str = \"\"\"2 3 1 5\n",
    "6 13 5 19\n",
    "2 19 10 23\n",
    "4 10 11 31\"\"\""
   ]
  },
  {
   "cell_type": "code",
   "execution_count": 79,
   "metadata": {},
   "outputs": [],
   "source": [
    "book_example = Matrix.from_lines(test_str.split(\"\\n\"))"
   ]
  },
  {
   "cell_type": "code",
   "execution_count": 80,
   "metadata": {
    "collapsed": true
   },
   "outputs": [],
   "source": [
    "def assert_square_matrix(matrix):\n",
    "    if matrix.width != matrix.height:\n",
    "        raise InvalidDimensionException(matrix)"
   ]
  },
  {
   "cell_type": "code",
   "execution_count": 85,
   "metadata": {
    "collapsed": true
   },
   "outputs": [],
   "source": [
    "def lower_triangular(matrix):\n",
    "    assert_square_matrix(matrix)\n",
    "    n = matrix.width\n",
    "    \n",
    "    lower_elements = []\n",
    "    for row in range(n):\n",
    "        row_vector = []\n",
    "        for j in range(row):\n",
    "            row_vector.append(matrix[row][j])\n",
    "        \n",
    "        row_vector.append(1)\n",
    "        \n",
    "        for j in range(row + 1, n):\n",
    "            row_vector.append(0)\n",
    "        lower_elements.append(row_vector)\n",
    "    \n",
    "    return Matrix(lower_elements)"
   ]
  },
  {
   "cell_type": "code",
   "execution_count": 86,
   "metadata": {
    "collapsed": true
   },
   "outputs": [],
   "source": [
    "def upper_triangular(matrix):\n",
    "    assert_square_matrix(matrix)\n",
    "    n = matrix.width\n",
    "    \n",
    "    upper_elements = []\n",
    "    for row in range(n):\n",
    "        row_vector = []\n",
    "        for j in range(row):\n",
    "            row_vector.append(0)\n",
    "        for j in range(row, n):\n",
    "            row_vector.append(matrix[row][j])\n",
    "        \n",
    "        upper_elements.append(row_vector)\n",
    "        \n",
    "    return Matrix(upper_elements)\n",
    "    "
   ]
  },
  {
   "cell_type": "code",
   "execution_count": 87,
   "metadata": {
    "collapsed": true
   },
   "outputs": [],
   "source": [
    "def lu(matrix):\n",
    "    assert_square_matrix(matrix)\n",
    "        \n",
    "    A = Matrix(matrix)\n",
    "    n = A.width\n",
    "    for i in range(n - 1):\n",
    "        for j in range(i + 1, n):\n",
    "            A[j][i] /= A[i][i]\n",
    "            for k in range(i + 1, n):\n",
    "                A[j][k] = A[j][k] - (A[j][i] * A[i][k])\n",
    "    L = lower_triangular(A)\n",
    "    U = upper_triangular(A)\n",
    "    return L, U"
   ]
  },
  {
   "cell_type": "code",
   "execution_count": 88,
   "metadata": {},
   "outputs": [
    {
     "data": {
      "text/plain": [
       "(1 0 0 0\n",
       " 3.0 1 0 0\n",
       " 1.0 4.0 1 0\n",
       " 2.0 1.0 7.0 1, 2.0 3.0 1.0 5.0\n",
       " 0 4.0 2.0 4.0\n",
       " 0 0 1.0 2.0\n",
       " 0 0 0 3.0)"
      ]
     },
     "execution_count": 88,
     "metadata": {},
     "output_type": "execute_result"
    }
   ],
   "source": [
    "lu(book_example)"
   ]
  },
  {
   "cell_type": "code",
   "execution_count": 57,
   "metadata": {},
   "outputs": [],
   "source": [
    "def lup(A, P):\n",
    "    A = Matrix(A)\n",
    "    P = Matrix(P)\n",
    "    \n",
    "    for i in range(n):\n",
    "        P[i] = i\n",
    "    \n",
    "    for i in range(n - 1):\n",
    "        pivot = i\n",
    "        for j in range(i + 1, n):\n",
    "            if abs(A[P[j]][i]) > abs(A[P[pivot]], i):\n",
    "                pivot = j\n",
    "        swap(P[i], P[pivot])\n",
    "        for j in range(i + 1, n):\n",
    "            A[P[j]][i] /= A[P[i]][i]\n",
    "            for k in range(i + 1, n):\n",
    "                A[P[j]][k] -= A[P[j]][i] * A[P[i]][k]\n",
    "                \n",
    "    return A, P"
   ]
  },
  {
   "cell_type": "code",
   "execution_count": 58,
   "metadata": {},
   "outputs": [
    {
     "ename": "ZeroDivisionError",
     "evalue": "float division by zero",
     "output_type": "error",
     "traceback": [
      "\u001b[0;31m---------------------------------------------------------------------------\u001b[0m",
      "\u001b[0;31mZeroDivisionError\u001b[0m                         Traceback (most recent call last)",
      "\u001b[0;32m<ipython-input-58-b92fd37a25e8>\u001b[0m in \u001b[0;36m<module>\u001b[0;34m()\u001b[0m\n\u001b[1;32m      3\u001b[0m      \u001b[0;34m[\u001b[0m\u001b[0;36m4\u001b[0m\u001b[0;34m,\u001b[0m \u001b[0;36m12\u001b[0m\u001b[0;34m,\u001b[0m \u001b[0;36m12\u001b[0m\u001b[0;34m]\u001b[0m\u001b[0;34m,\u001b[0m\u001b[0;34m\u001b[0m\u001b[0m\n\u001b[1;32m      4\u001b[0m      [1, -1, 1]])\n\u001b[0;32m----> 5\u001b[0;31m \u001b[0mlu\u001b[0m\u001b[0;34m(\u001b[0m\u001b[0mm\u001b[0m\u001b[0;34m)\u001b[0m\u001b[0;34m\u001b[0m\u001b[0m\n\u001b[0m",
      "\u001b[0;32m<ipython-input-56-45f9bd5d730a>\u001b[0m in \u001b[0;36mlu\u001b[0;34m(matrix)\u001b[0m\n\u001b[1;32m      7\u001b[0m     \u001b[0;32mfor\u001b[0m \u001b[0mi\u001b[0m \u001b[0;32min\u001b[0m \u001b[0mrange\u001b[0m\u001b[0;34m(\u001b[0m\u001b[0mn\u001b[0m \u001b[0;34m-\u001b[0m \u001b[0;36m1\u001b[0m\u001b[0;34m)\u001b[0m\u001b[0;34m:\u001b[0m\u001b[0;34m\u001b[0m\u001b[0m\n\u001b[1;32m      8\u001b[0m         \u001b[0;32mfor\u001b[0m \u001b[0mj\u001b[0m \u001b[0;32min\u001b[0m \u001b[0mrange\u001b[0m\u001b[0;34m(\u001b[0m\u001b[0mi\u001b[0m \u001b[0;34m+\u001b[0m \u001b[0;36m1\u001b[0m\u001b[0;34m,\u001b[0m \u001b[0mn\u001b[0m\u001b[0;34m)\u001b[0m\u001b[0;34m:\u001b[0m\u001b[0;34m\u001b[0m\u001b[0m\n\u001b[0;32m----> 9\u001b[0;31m             \u001b[0mA\u001b[0m\u001b[0;34m[\u001b[0m\u001b[0mj\u001b[0m\u001b[0;34m]\u001b[0m\u001b[0;34m[\u001b[0m\u001b[0mi\u001b[0m\u001b[0;34m]\u001b[0m \u001b[0;34m/=\u001b[0m \u001b[0mA\u001b[0m\u001b[0;34m[\u001b[0m\u001b[0mi\u001b[0m\u001b[0;34m]\u001b[0m\u001b[0;34m[\u001b[0m\u001b[0mi\u001b[0m\u001b[0;34m]\u001b[0m\u001b[0;34m\u001b[0m\u001b[0m\n\u001b[0m\u001b[1;32m     10\u001b[0m             \u001b[0;32mfor\u001b[0m \u001b[0mk\u001b[0m \u001b[0;32min\u001b[0m \u001b[0mrange\u001b[0m\u001b[0;34m(\u001b[0m\u001b[0mi\u001b[0m \u001b[0;34m+\u001b[0m \u001b[0;36m1\u001b[0m\u001b[0;34m,\u001b[0m \u001b[0mn\u001b[0m\u001b[0;34m)\u001b[0m\u001b[0;34m:\u001b[0m\u001b[0;34m\u001b[0m\u001b[0m\n\u001b[1;32m     11\u001b[0m                 \u001b[0mA\u001b[0m\u001b[0;34m[\u001b[0m\u001b[0mj\u001b[0m\u001b[0;34m]\u001b[0m\u001b[0;34m[\u001b[0m\u001b[0mk\u001b[0m\u001b[0;34m]\u001b[0m \u001b[0;34m=\u001b[0m \u001b[0mA\u001b[0m\u001b[0;34m[\u001b[0m\u001b[0mj\u001b[0m\u001b[0;34m]\u001b[0m\u001b[0;34m[\u001b[0m\u001b[0mk\u001b[0m\u001b[0;34m]\u001b[0m \u001b[0;34m-\u001b[0m \u001b[0;34m(\u001b[0m\u001b[0mA\u001b[0m\u001b[0;34m[\u001b[0m\u001b[0mj\u001b[0m\u001b[0;34m]\u001b[0m\u001b[0;34m[\u001b[0m\u001b[0mi\u001b[0m\u001b[0;34m]\u001b[0m \u001b[0;34m*\u001b[0m \u001b[0mA\u001b[0m\u001b[0;34m[\u001b[0m\u001b[0mi\u001b[0m\u001b[0;34m]\u001b[0m\u001b[0;34m[\u001b[0m\u001b[0mk\u001b[0m\u001b[0;34m]\u001b[0m\u001b[0;34m)\u001b[0m\u001b[0;34m\u001b[0m\u001b[0m\n",
      "\u001b[0;31mZeroDivisionError\u001b[0m: float division by zero"
     ]
    }
   ],
   "source": [
    "m = Matrix(\n",
    "    [[3, 9, 6],\n",
    "     [4, 12, 12],\n",
    "     [1, -1, 1]])\n",
    "lu(m)"
   ]
  },
  {
   "cell_type": "markdown",
   "metadata": {},
   "source": [
    "## 3."
   ]
  },
  {
   "cell_type": "code",
   "execution_count": 49,
   "metadata": {},
   "outputs": [
    {
     "data": {
      "text/plain": [
       "1 2 3\n",
       "4.0 -3.0 -6.0\n",
       "7.0 2.0 0.0"
      ]
     },
     "execution_count": 49,
     "metadata": {},
     "output_type": "execute_result"
    }
   ],
   "source": [
    "m = Matrix(\n",
    "    [[1, 2, 3],\n",
    "     [4, 5, 6],\n",
    "     [7, 8, 9]])\n",
    "lu_decomposition(m)"
   ]
  },
  {
   "cell_type": "code",
   "execution_count": 50,
   "metadata": {},
   "outputs": [
    {
     "ename": "TypeError",
     "evalue": "lup_decomposition() missing 1 required positional argument: 'P'",
     "output_type": "error",
     "traceback": [
      "\u001b[0;31m---------------------------------------------------------------------------\u001b[0m",
      "\u001b[0;31mTypeError\u001b[0m                                 Traceback (most recent call last)",
      "\u001b[0;32m<ipython-input-50-389e152c5f7a>\u001b[0m in \u001b[0;36m<module>\u001b[0;34m()\u001b[0m\n\u001b[0;32m----> 1\u001b[0;31m \u001b[0mlup_decomposition\u001b[0m\u001b[0;34m(\u001b[0m\u001b[0mm\u001b[0m\u001b[0;34m)\u001b[0m\u001b[0;34m\u001b[0m\u001b[0m\n\u001b[0m",
      "\u001b[0;31mTypeError\u001b[0m: lup_decomposition() missing 1 required positional argument: 'P'"
     ]
    }
   ],
   "source": [
    "lup_decomposition(m)"
   ]
  },
  {
   "cell_type": "markdown",
   "metadata": {},
   "source": [
    "## 4."
   ]
  },
  {
   "cell_type": "code",
   "execution_count": 51,
   "metadata": {
    "collapsed": true
   },
   "outputs": [],
   "source": [
    "lhs = Matrix(\n",
    "    [[0.000001, 3000000, 2000000],\n",
    "     [1000000, 2000000, 3000000],\n",
    "     [2000000, 1000000, 2000000]])\n",
    "\n",
    "rhs = Matrix(\n",
    "    [[12000000.000001],\n",
    "     [14000000],\n",
    "     [10000000]])"
   ]
  },
  {
   "cell_type": "markdown",
   "metadata": {},
   "source": [
    "## 5."
   ]
  },
  {
   "cell_type": "code",
   "execution_count": null,
   "metadata": {
    "collapsed": true
   },
   "outputs": [],
   "source": [
    "lhs = Matrix(\n",
    "    [[0, 1, 2],\n",
    "     [2, 0, 3],\n",
    "     [3, 5, 1]])\n",
    "\n",
    "rhs = Matrix(\n",
    "    [[6],\n",
    "     [9],\n",
    "     [3]])"
   ]
  },
  {
   "cell_type": "markdown",
   "metadata": {},
   "source": [
    "## 6."
   ]
  },
  {
   "cell_type": "code",
   "execution_count": null,
   "metadata": {
    "collapsed": true
   },
   "outputs": [],
   "source": [
    "lhs = Matrix(\n",
    "    [[4000000000, 1000000000, 3000000000],\n",
    "     [4, 2, 7],\n",
    "     [0.0000000003, 0.0000000005, 0.0000000002]])\n",
    "\n",
    "rhs = Matrix(\n",
    "    [[9000000000],\n",
    "     [15],\n",
    "     [0.0000000015]])\n"
   ]
  },
  {
   "cell_type": "markdown",
   "metadata": {},
   "source": [
    "# TODO: Matlab\n",
    "Potrebno je napisati skriptu za programski paket MATLAB koja će učitati matricu sustava i slobodni vektor\n",
    "(iz istih datoteka kao programska implementacija), uz pomoć LUP dekompozicije pronaći i ispisati matrice\n",
    "L, U i matricu permutacija P, te međurezultat y. Također naći rješenje sustava te invertiranu matricu sustava.\n",
    "U skripti se (između ostalih) preporučuje koristiti sljedeće ugrađene funkcije: lu, inv te lijevo dijeljenje ( \\ ).\n",
    "Usporedite dobiveno rješenje sa onim koje ste dobili vašim programom. "
   ]
  },
  {
   "cell_type": "code",
   "execution_count": null,
   "metadata": {
    "collapsed": true
   },
   "outputs": [],
   "source": []
  }
 ],
 "metadata": {
  "kernelspec": {
   "display_name": "Python 3",
   "language": "python",
   "name": "python3"
  },
  "language_info": {
   "codemirror_mode": {
    "name": "ipython",
    "version": 3
   },
   "file_extension": ".py",
   "mimetype": "text/x-python",
   "name": "python",
   "nbconvert_exporter": "python",
   "pygments_lexer": "ipython3",
   "version": "3.6.2"
  }
 },
 "nbformat": 4,
 "nbformat_minor": 2
}
