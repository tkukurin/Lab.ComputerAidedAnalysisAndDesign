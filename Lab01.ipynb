{
 "cells": [
  {
   "cell_type": "code",
   "execution_count": 75,
   "metadata": {
    "collapsed": true
   },
   "outputs": [],
   "source": [
    "class IncompatibleMatricesException(Exception):\n",
    "    def __init__(self, m1, m2):\n",
    "        message = \"Not true that {0}, {1} is compatible with {2}, {3}.\" \\\n",
    "            .format(m1.height, m1.width, m2.height, m2.width)\n",
    "        super(IncompatibleMatricesException, self).__init__(message)"
   ]
  },
  {
   "cell_type": "code",
   "execution_count": 119,
   "metadata": {},
   "outputs": [
    {
     "data": {
      "text/plain": [
       "[[1, 4], [2, 5], [3, 6]]"
      ]
     },
     "execution_count": 119,
     "metadata": {},
     "output_type": "execute_result"
    }
   ],
   "source": [
    "[list(x) for x in zip(*[[1,2,3],[4,5,6]])]"
   ]
  },
  {
   "cell_type": "code",
   "execution_count": 129,
   "metadata": {
    "collapsed": true
   },
   "outputs": [],
   "source": [
    "def matrix_multiply(fst, snd):\n",
    "    zip_snd = list(zip(*snd))\n",
    "    \n",
    "    return [[sum(a * b for a, b in zip(row_fst, col_snd)) \n",
    "                 for col_snd in zip_snd] \n",
    "                    for row_fst in fst]\n",
    "\n",
    "def scalar_multiply(scalar, elements):\n",
    "    return [[scalar * e for e in row] for row in elements]\n",
    "\n",
    "def elementwise(fst, snd, operation):\n",
    "    o = lambda z: [operation(a, b) for a, b in zip(z[0], z[1])]\n",
    "    return [o(zipped) for zipped in zip(fst, snd)]"
   ]
  },
  {
   "cell_type": "code",
   "execution_count": 130,
   "metadata": {},
   "outputs": [],
   "source": [
    "import numbers\n",
    "\n",
    "class Matrix:\n",
    "    \n",
    "    def __init__(self, elements):\n",
    "        self.elements = list(elements)\n",
    "    \n",
    "    def __getitem__(self, key):\n",
    "        return self.elements.__getitem__(key)\n",
    "    \n",
    "    def __setitem__(self, key):\n",
    "        return self.elements.__setitem__(key)\n",
    "        \n",
    "    @property\n",
    "    def width(self):\n",
    "        return 0 if self.height == 0 \\\n",
    "                    else len(self.elements[0])\n",
    "    \n",
    "    @property\n",
    "    def height(self):\n",
    "        return len(self.elements)\n",
    "    \n",
    "    @property\n",
    "    def T(self):\n",
    "        return Matrix([list(col) for col in zip(*self.elements)])\n",
    "    \n",
    "    def __add__(self, other):\n",
    "        return Matrix(self.elements).__iadd__(other)\n",
    "        \n",
    "    def __sub__(self, other):\n",
    "        return Matrix(self.elements).__isub__(other)\n",
    "    \n",
    "    def __iadd__(self, rhs):\n",
    "        if self.height != rhs.height \\\n",
    "            or self.width != rhs.width:\n",
    "            raise IncompatibleMatricesException(self, rhs)\n",
    "        \n",
    "        self.elements = elementwise(\n",
    "            self.elements, rhs.elements, lambda a, b: a + b)\n",
    "        \n",
    "        return self\n",
    "    \n",
    "    def __isub__(self, rhs):\n",
    "        if self.height != rhs.height \\\n",
    "            or self.width != rhs.width:\n",
    "            raise IncompatibleMatricesException(self, rhs)\n",
    "        \n",
    "        self.elements = elementwise(\n",
    "            self.elements, rhs.elements, lambda a, b: a - b)\n",
    "        \n",
    "        return self\n",
    "    \n",
    "    def __rmul__(self, lhs):\n",
    "        return Matrix(scalar_multiply(lhs, self.elements))\n",
    "        \n",
    "    def __mul__(self, rhs):\n",
    "        if isinstance(rhs, numbers.Number):\n",
    "            return Matrix(scalar_multiply(rhs, self.elements))\n",
    "        \n",
    "        if self.width != rhs.height:\n",
    "            raise IncompatibleMatricesException(self, rhs)\n",
    "        \n",
    "        return Matrix(matrix_multiply(self.elements, rhs.elements))\n",
    "    \n",
    "    def __eq(self, rhs):\n",
    "        return self.elements == rhs.elements\n",
    "    \n",
    "    def __assign__(self, rhs):\n",
    "        return Matrix(rhs.elements)\n",
    "    \n",
    "    def __str__(self):\n",
    "        return self.__repr__()\n",
    "    \n",
    "    def __repr__(self):\n",
    "        return \"\\n\".join([\" \".join(str(e) for e in lst) \n",
    "                              for lst in self.elements])\n",
    "\n",
    "    @staticmethod\n",
    "    def from_file(location):\n",
    "        elements = []\n",
    "        \n",
    "        with open(location) as f:\n",
    "            for line in f:\n",
    "                line = line.strip().split()\n",
    "                elements.append([ float(n) for n in line ])\n",
    "                \n",
    "        return Matrix(elements)\n",
    "    \n",
    "    @staticmethod\n",
    "    def to_file(matrix, location):\n",
    "        with open(location) as f:\n",
    "            f.write(matrix.__repr__())"
   ]
  },
  {
   "cell_type": "code",
   "execution_count": 131,
   "metadata": {},
   "outputs": [],
   "source": [
    "e = [[11, 12], [21, 22]]\n",
    "m = Matrix(e)"
   ]
  },
  {
   "cell_type": "code",
   "execution_count": 132,
   "metadata": {},
   "outputs": [
    {
     "data": {
      "text/plain": [
       "22 24\n",
       "42 44"
      ]
     },
     "execution_count": 132,
     "metadata": {},
     "output_type": "execute_result"
    }
   ],
   "source": [
    "m + m"
   ]
  },
  {
   "cell_type": "code",
   "execution_count": 133,
   "metadata": {},
   "outputs": [
    {
     "data": {
      "text/plain": [
       "11 12\n",
       "21 22"
      ]
     },
     "execution_count": 133,
     "metadata": {},
     "output_type": "execute_result"
    }
   ],
   "source": [
    "m"
   ]
  },
  {
   "cell_type": "code",
   "execution_count": 122,
   "metadata": {},
   "outputs": [],
   "source": [
    "m[1][1] = 3"
   ]
  },
  {
   "cell_type": "code",
   "execution_count": 123,
   "metadata": {},
   "outputs": [
    {
     "data": {
      "text/plain": [
       "11 12\n",
       "21 3"
      ]
     },
     "execution_count": 123,
     "metadata": {},
     "output_type": "execute_result"
    }
   ],
   "source": [
    "m"
   ]
  },
  {
   "cell_type": "code",
   "execution_count": 124,
   "metadata": {},
   "outputs": [
    {
     "data": {
      "text/plain": [
       "11 21\n",
       "12 3"
      ]
     },
     "execution_count": 124,
     "metadata": {},
     "output_type": "execute_result"
    }
   ],
   "source": [
    "m.T"
   ]
  },
  {
   "cell_type": "code",
   "execution_count": 66,
   "metadata": {
    "collapsed": true
   },
   "outputs": [],
   "source": [
    "m2 = m"
   ]
  },
  {
   "cell_type": "code",
   "execution_count": 67,
   "metadata": {},
   "outputs": [
    {
     "data": {
      "text/plain": [
       "11 12\n",
       "21 22"
      ]
     },
     "execution_count": 67,
     "metadata": {},
     "output_type": "execute_result"
    }
   ],
   "source": [
    "m2"
   ]
  },
  {
   "cell_type": "code",
   "execution_count": 68,
   "metadata": {},
   "outputs": [],
   "source": [
    "m2 += m"
   ]
  },
  {
   "cell_type": "code",
   "execution_count": 69,
   "metadata": {},
   "outputs": [
    {
     "data": {
      "text/plain": [
       "22 24\n",
       "42 44"
      ]
     },
     "execution_count": 69,
     "metadata": {},
     "output_type": "execute_result"
    }
   ],
   "source": [
    "m2"
   ]
  },
  {
   "cell_type": "code",
   "execution_count": 93,
   "metadata": {},
   "outputs": [
    {
     "data": {
      "text/plain": [
       "3\n",
       "7"
      ]
     },
     "execution_count": 93,
     "metadata": {},
     "output_type": "execute_result"
    }
   ],
   "source": [
    "e1 = [[1,2], [3,4]]\n",
    "e2 = [[1], [1]]\n",
    "\n",
    "Matrix(e1) * Matrix(e2)"
   ]
  },
  {
   "cell_type": "code",
   "execution_count": 117,
   "metadata": {},
   "outputs": [
    {
     "data": {
      "text/plain": [
       "12.5 3.0 9.0 2.0\n",
       "4.0 5.0 6.0 7.0\n",
       "8.0 9.0 10.0 11.0"
      ]
     },
     "execution_count": 117,
     "metadata": {},
     "output_type": "execute_result"
    }
   ],
   "source": [
    "Matrix.from_file('test.mat')"
   ]
  }
 ],
 "metadata": {
  "kernelspec": {
   "display_name": "Python 3",
   "language": "python",
   "name": "python3"
  },
  "language_info": {
   "codemirror_mode": {
    "name": "ipython",
    "version": 3
   },
   "file_extension": ".py",
   "mimetype": "text/x-python",
   "name": "python",
   "nbconvert_exporter": "python",
   "pygments_lexer": "ipython3",
   "version": "3.6.2"
  }
 },
 "nbformat": 4,
 "nbformat_minor": 2
}
