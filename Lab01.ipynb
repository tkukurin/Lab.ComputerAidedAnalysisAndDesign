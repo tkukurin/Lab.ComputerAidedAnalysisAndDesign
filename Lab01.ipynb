{
 "cells": [
  {
   "cell_type": "markdown",
   "metadata": {},
   "source": [
    "[Link na zadatke](http://www.fer.unizg.hr/_download/repository/vjezba_1%5B5%5D.pdf)"
   ]
  },
  {
   "cell_type": "code",
   "execution_count": 1,
   "metadata": {
    "collapsed": true
   },
   "outputs": [],
   "source": [
    "from common import *"
   ]
  },
  {
   "cell_type": "code",
   "execution_count": 2,
   "metadata": {
    "collapsed": true
   },
   "outputs": [],
   "source": [
    "class IncompatibleMatricesException(Exception):\n",
    "    def __init__(self, m1, m2):\n",
    "        message = \"Not true that {0}, {1} is compatible with {2}, {3}.\" \\\n",
    "            .format(m1.height, m1.width, m2.height, m2.width)\n",
    "        super(IncompatibleMatricesException, self).__init__(message)\n",
    "        \n",
    "class InvalidDimensionException(Exception):\n",
    "    def __init__(self, m):\n",
    "        message = \"Invalid dimensions {0}, {1} from given matrix.\" \\\n",
    "            .format(m.height, m.width)\n",
    "        super(InvalidDimensionException, self).__init__(message)"
   ]
  },
  {
   "cell_type": "code",
   "execution_count": 3,
   "metadata": {
    "collapsed": true
   },
   "outputs": [],
   "source": [
    "def matrix_multiply(fst, snd):\n",
    "    zip_snd = list(zip(*snd))\n",
    "    \n",
    "    return [[sum(a * b for a, b in zip(row_fst, col_snd)) \n",
    "                 for col_snd in zip_snd] \n",
    "                    for row_fst in fst]\n",
    "\n",
    "def scalar(scalar, elements, op):\n",
    "    return [[op(e, scalar) for e in row] for row in elements]\n",
    "\n",
    "def elementwise(fst, snd, operation):\n",
    "    o = lambda z: [operation(a, b) for a, b in zip(z[0], z[1])]\n",
    "    return [o(zipped) for zipped in zip(fst, snd)]"
   ]
  },
  {
   "cell_type": "code",
   "execution_count": 45,
   "metadata": {
    "collapsed": true
   },
   "outputs": [],
   "source": [
    "import numbers, math, itertools, copy\n",
    "\n",
    "class Matrix:\n",
    "    \n",
    "    def __init__(self, elements_or_matrix):\n",
    "        if isinstance(elements_or_matrix, Matrix):\n",
    "            elements_or_matrix = elements_or_matrix.elements\n",
    "        if type(elements_or_matrix) != list:\n",
    "            raise Exception(\"Expecting list as argument\")\n",
    "        if type(elements_or_matrix[0]) != list:\n",
    "            # wrap so we always have 2d matrix.\n",
    "            elements_or_matrix = [elements_or_matrix]\n",
    "            \n",
    "            \n",
    "        self.elements = copy.deepcopy(elements_or_matrix)\n",
    "        \n",
    "    @property\n",
    "    def width(self):\n",
    "        return 0 if self.height == 0 \\\n",
    "                 else len(self.elements) \\\n",
    "                    if type(self.elements[0]) != list \\\n",
    "                    else len(self.elements[0])\n",
    "    \n",
    "    @property\n",
    "    def height(self):\n",
    "        return len(self.elements)\n",
    "    \n",
    "    @property\n",
    "    def T(self):\n",
    "        return Matrix([list(col) for col in zip(*self.elements)])\n",
    "    \n",
    "    def __getitem__(self, key):\n",
    "        if len(self.elements[0]) == 1:\n",
    "            return self.elements[key][0]\n",
    "        return self.elements.__getitem__(key)\n",
    "    \n",
    "    def __setitem__(self, key, item):\n",
    "        if len(self.elements[0]) == 1:\n",
    "            self.elements[key][0] = item\n",
    "        else:\n",
    "            self.elements.__setitem__(key, item)\n",
    "    \n",
    "    def __add__(self, other):\n",
    "        return Matrix(self.elements).__iadd__(other)\n",
    "        \n",
    "    def __sub__(self, other):\n",
    "        return Matrix(self.elements).__isub__(other)\n",
    "    \n",
    "    def __iadd__(self, rhs):\n",
    "        if self.height != rhs.height \\\n",
    "            or self.width != rhs.width:\n",
    "            raise IncompatibleMatricesException(self, rhs)\n",
    "        \n",
    "        self.elements = elementwise(\n",
    "            self.elements, rhs.elements, lambda a, b: a + b)\n",
    "        \n",
    "        return self\n",
    "    \n",
    "    def __isub__(self, rhs):\n",
    "        if self.height != rhs.height \\\n",
    "            or self.width != rhs.width:\n",
    "            raise IncompatibleMatricesException(self, rhs)\n",
    "        \n",
    "        self.elements = elementwise(\n",
    "            self.elements, rhs.elements, lambda a, b: a - b)\n",
    "        \n",
    "        return self\n",
    "    \n",
    "    def __rmul__(self, other):\n",
    "        return self.__mul__(other)\n",
    "        \n",
    "    def __mul__(self, rhs):\n",
    "        if isinstance(rhs, numbers.Number):\n",
    "            return Matrix(scalar(rhs, self.elements, lambda a, b: a * b))\n",
    "        \n",
    "        if self.width != rhs.height:\n",
    "            raise IncompatibleMatricesException(self, rhs)\n",
    "        \n",
    "        return Matrix(matrix_multiply(self.elements, rhs.elements))\n",
    "    \n",
    "    def __truediv__(self, rhs):\n",
    "        return Matrix(scalar(rhs, self.elements, lambda a, b: a / b))\n",
    "        \n",
    "    def __eq__(self, rhs):\n",
    "        flat = lambda x: itertools.chain(*x)\n",
    "        return all([ math.isclose(a, b) for a, b in \n",
    "                        zip(flat(self.elements), flat(rhs.elements)) ])\n",
    "    \n",
    "    def __str__(self):\n",
    "        return self.__repr__()\n",
    "    \n",
    "    def __repr__(self):\n",
    "        return \"\\n\".join([\" \".join(str(e) for e in lst) \n",
    "                              for lst in self.elements])\n",
    "\n",
    "    @staticmethod\n",
    "    def from_lines(lines):\n",
    "        tokens = map(lambda l: l.strip().split(), lines)\n",
    "        elements = [ [float(n) for n in row] for row in tokens]\n",
    "        return Matrix(elements)\n",
    "        \n",
    "    @staticmethod\n",
    "    def from_file(location):\n",
    "        with open(location) as f:\n",
    "            return Matrix.from_lines(f)\n",
    "    \n",
    "    @staticmethod\n",
    "    def to_file(matrix, location):\n",
    "        with open(location) as f:\n",
    "            f.write(matrix.__repr__())"
   ]
  },
  {
   "cell_type": "code",
   "execution_count": 46,
   "metadata": {},
   "outputs": [
    {
     "data": {
      "text/plain": [
       "12.5 3.0 9.0 2.0\n",
       "4.0 5.0 6.0 7.0\n",
       "8.0 9.0 10.0 11.0"
      ]
     },
     "execution_count": 46,
     "metadata": {},
     "output_type": "execute_result"
    }
   ],
   "source": [
    "Matrix.from_file('test.mat')"
   ]
  },
  {
   "cell_type": "markdown",
   "metadata": {},
   "source": [
    "# Laboratorijske vjezbe\n",
    "\n",
    "## 1.\n",
    "Double varijable trebale bi se usporedjivati uz definiranu dozvoljenu gresku. U Pythonu 3.5 postoji methoda `math.isclose` koja radi takvu usporedbu ([referenca](https://docs.python.org/3/whatsnew/3.5.html#pep-485-a-function-for-testing-approximate-equality), default relativna tolerancija je `1e-09`). Tu metodu koristi klasa `Matrix` prilikom pozivanja `__eq__`."
   ]
  },
  {
   "cell_type": "code",
   "execution_count": 47,
   "metadata": {
    "collapsed": true
   },
   "outputs": [],
   "source": [
    "m1 = Matrix([[123], [456]])\n",
    "mul = 55\n",
    "\n",
    "m2 = mul * m1\n",
    "m3 = m2 / mul"
   ]
  },
  {
   "cell_type": "code",
   "execution_count": 48,
   "metadata": {
    "collapsed": true
   },
   "outputs": [],
   "source": [
    "m1 /= 2"
   ]
  },
  {
   "cell_type": "code",
   "execution_count": 49,
   "metadata": {},
   "outputs": [
    {
     "data": {
      "text/plain": [
       "61.5\n",
       "228.0"
      ]
     },
     "execution_count": 49,
     "metadata": {},
     "output_type": "execute_result"
    }
   ],
   "source": [
    "m1"
   ]
  },
  {
   "cell_type": "code",
   "execution_count": 50,
   "metadata": {
    "collapsed": true
   },
   "outputs": [],
   "source": [
    "m1 = Matrix([[6.6]])\n",
    "m2 = Matrix([[2.2 * 3.0]])"
   ]
  },
  {
   "cell_type": "code",
   "execution_count": 51,
   "metadata": {},
   "outputs": [
    {
     "data": {
      "text/plain": [
       "False"
      ]
     },
     "execution_count": 51,
     "metadata": {},
     "output_type": "execute_result"
    }
   ],
   "source": [
    "2.2 * 3.0 == 6.6"
   ]
  },
  {
   "cell_type": "code",
   "execution_count": 52,
   "metadata": {},
   "outputs": [
    {
     "data": {
      "text/plain": [
       "True"
      ]
     },
     "execution_count": 52,
     "metadata": {},
     "output_type": "execute_result"
    }
   ],
   "source": [
    "m1 == m2"
   ]
  },
  {
   "cell_type": "markdown",
   "metadata": {},
   "source": [
    "## 2."
   ]
  },
  {
   "cell_type": "code",
   "execution_count": 53,
   "metadata": {
    "collapsed": true
   },
   "outputs": [],
   "source": [
    "test_str = \"\"\"2 3 1 5\n",
    "6 13 5 19\n",
    "2 19 10 23\n",
    "4 10 11 31\"\"\""
   ]
  },
  {
   "cell_type": "code",
   "execution_count": 54,
   "metadata": {
    "collapsed": true
   },
   "outputs": [],
   "source": [
    "book_example = Matrix.from_lines(test_str.split(\"\\n\"))"
   ]
  },
  {
   "cell_type": "code",
   "execution_count": 55,
   "metadata": {
    "collapsed": true
   },
   "outputs": [],
   "source": [
    "def assert_square_matrix(matrix):\n",
    "    if matrix.width != matrix.height:\n",
    "        raise InvalidDimensionException(matrix)"
   ]
  },
  {
   "cell_type": "code",
   "execution_count": 56,
   "metadata": {
    "collapsed": true
   },
   "outputs": [],
   "source": [
    "def assert_outside_epsilon(value, tolerance = 1e-9):\n",
    "    if abs(value) <= tolerance:\n",
    "        raise ValueError(\"Value below threshold tolerance ({0})\" \\\n",
    "                            .format(tolerance))"
   ]
  },
  {
   "cell_type": "code",
   "execution_count": 57,
   "metadata": {
    "collapsed": true
   },
   "outputs": [],
   "source": [
    "def lower_triangular(matrix):\n",
    "    assert_square_matrix(matrix)\n",
    "    n = matrix.width\n",
    "    \n",
    "    lower_elements = []\n",
    "    for row in range(n):\n",
    "        row_vector = []\n",
    "        for j in range(row):\n",
    "            row_vector.append(matrix[row][j])\n",
    "        \n",
    "        row_vector.append(1)\n",
    "        \n",
    "        for j in range(row + 1, n):\n",
    "            row_vector.append(0)\n",
    "        lower_elements.append(row_vector)\n",
    "    \n",
    "    return Matrix(lower_elements)"
   ]
  },
  {
   "cell_type": "code",
   "execution_count": 58,
   "metadata": {
    "collapsed": true
   },
   "outputs": [],
   "source": [
    "def upper_triangular(matrix):\n",
    "    assert_square_matrix(matrix)\n",
    "    n = matrix.width\n",
    "    \n",
    "    upper_elements = []\n",
    "    for row in range(n):\n",
    "        row_vector = []\n",
    "        for j in range(row):\n",
    "            row_vector.append(0)\n",
    "        for j in range(row, n):\n",
    "            row_vector.append(matrix[row][j])\n",
    "        \n",
    "        upper_elements.append(row_vector)\n",
    "        \n",
    "    return Matrix(upper_elements)\n",
    "    "
   ]
  },
  {
   "cell_type": "code",
   "execution_count": 59,
   "metadata": {
    "collapsed": true
   },
   "outputs": [],
   "source": [
    "def lu(matrix):\n",
    "    assert_square_matrix(matrix)\n",
    "        \n",
    "    A = Matrix(matrix)\n",
    "    n = A.width\n",
    "    for i in range(n - 1):\n",
    "        for j in range(i + 1, n):\n",
    "            assert_outside_epsilon(A[i][i])\n",
    "            A[j][i] /= A[i][i]\n",
    "            for k in range(i + 1, n):\n",
    "                A[j][k] = A[j][k] - (A[j][i] * A[i][k])\n",
    "    L = lower_triangular(A)\n",
    "    U = upper_triangular(A)\n",
    "    return L, U"
   ]
  },
  {
   "cell_type": "code",
   "execution_count": 60,
   "metadata": {},
   "outputs": [
    {
     "data": {
      "text/plain": [
       "(1 0 0 0\n",
       " 3.0 1 0 0\n",
       " 1.0 4.0 1 0\n",
       " 2.0 1.0 7.0 1, 2.0 3.0 1.0 5.0\n",
       " 0 4.0 2.0 4.0\n",
       " 0 0 1.0 2.0\n",
       " 0 0 0 3.0)"
      ]
     },
     "execution_count": 60,
     "metadata": {},
     "output_type": "execute_result"
    }
   ],
   "source": [
    "lu(book_example)"
   ]
  },
  {
   "cell_type": "code",
   "execution_count": 61,
   "metadata": {
    "collapsed": true
   },
   "outputs": [],
   "source": [
    "def row_index_of_largest_number_in_column(A, P, col, n):\n",
    "    pivot = col\n",
    "        \n",
    "    for j in range(col + 1, n):\n",
    "        if abs(A[P[j]][col]) > abs(A[P[pivot]][col]):\n",
    "            pivot = j\n",
    "            \n",
    "    return pivot\n",
    "\n",
    "def permute_rows(A, P, n):\n",
    "    P_inverse = dict(zip(range(n), P))\n",
    "    return Matrix([ A[P_inverse[i]] for i in range(n) ])\n",
    "\n",
    "def lup(A):\n",
    "    assert_square_matrix(A)\n",
    "    \n",
    "    A = Matrix(A)\n",
    "    n = A.width\n",
    "    P = [i for i in range(n)]\n",
    "    \n",
    "    for i in range(n - 1):\n",
    "        pivot = row_index_of_largest_number_in_column(A, P, i, n)        \n",
    "        swap(P, i, pivot)\n",
    "        \n",
    "        assert_outside_epsilon(A[P[i]][i])\n",
    "        for j in range(i + 1, n):\n",
    "            A[P[j]][i] /= A[P[i]][i]\n",
    "            for k in range(i + 1, n):\n",
    "                A[P[j]][k] -= A[P[j]][i] * A[P[i]][k]\n",
    "    \n",
    "    result = permute_rows(A, P, n)\n",
    "    return lower_triangular(result), upper_triangular(result), P"
   ]
  },
  {
   "cell_type": "code",
   "execution_count": 62,
   "metadata": {},
   "outputs": [
    {
     "data": {
      "text/plain": [
       "(1 0 0 0\n",
       " 0.3333333333333333 1 0 0\n",
       " 0.6666666666666666 0.09090909090909094 1 0\n",
       " 0.3333333333333333 -0.09090909090909088 0.01315789473684211 1,\n",
       " 6.0 13.0 5.0 19.0\n",
       " 0 14.666666666666668 8.333333333333334 16.666666666666668\n",
       " 0 0 6.909090909090909 16.81818181818182\n",
       " 0 0 0 -0.039473684210526355,\n",
       " [1, 2, 3, 0])"
      ]
     },
     "execution_count": 62,
     "metadata": {},
     "output_type": "execute_result"
    }
   ],
   "source": [
    "lup(book_example)"
   ]
  },
  {
   "cell_type": "code",
   "execution_count": 63,
   "metadata": {
    "collapsed": true
   },
   "outputs": [],
   "source": [
    "def backward_sub(A, b):\n",
    "    assert_square_matrix(A)\n",
    "    n = b.width\n",
    "    \n",
    "    for i in reversed(range(n)):\n",
    "        b[i] /= A[i][i]\n",
    "        # premjesti coeff * x na desnu stranu (y' = y - c * x)\n",
    "        for j in range(i - 1):\n",
    "            b[j] = b[j] - A[j][i] * b[i]\n",
    "            \n",
    "    return b\n",
    "\n",
    "def forward_sub(A, b):\n",
    "    assert_square_matrix(A)\n",
    "    n = b.width\n",
    "    # premjesti coeff * x na desnu stranu (y' = y - c * x)\n",
    "    for i in range(n - 1):\n",
    "        for j in range(i + 1, n):\n",
    "            b[j] = b[j] - A[j][i] * b[i]\n",
    "            \n",
    "    return b"
   ]
  },
  {
   "cell_type": "code",
   "execution_count": 64,
   "metadata": {},
   "outputs": [
    {
     "name": "stdout",
     "output_type": "stream",
     "text": [
      "Encountered exception: Value below threshold tolerance (1e-09)\n"
     ]
    }
   ],
   "source": [
    "m = Matrix(\n",
    "    [[3, 9, 6],\n",
    "     [4, 12, 12],\n",
    "     [1, -1, 1]])\n",
    "\n",
    "try:\n",
    "    lu(m)\n",
    "except ValueError as e:\n",
    "    print(\"Encountered exception:\", e.args[0])"
   ]
  },
  {
   "cell_type": "markdown",
   "metadata": {},
   "source": [
    "## 3."
   ]
  },
  {
   "cell_type": "code",
   "execution_count": 65,
   "metadata": {},
   "outputs": [
    {
     "data": {
      "text/plain": [
       "(1 0 0\n",
       " 4.0 1 0\n",
       " 7.0 2.0 1, 1 2 3\n",
       " 0 -3.0 -6.0\n",
       " 0 0 0.0)"
      ]
     },
     "execution_count": 65,
     "metadata": {},
     "output_type": "execute_result"
    }
   ],
   "source": [
    "m = Matrix(\n",
    "    [[1, 2, 3],\n",
    "     [4, 5, 6],\n",
    "     [7, 8, 9]])\n",
    "lu(m)"
   ]
  },
  {
   "cell_type": "code",
   "execution_count": 66,
   "metadata": {},
   "outputs": [
    {
     "data": {
      "text/plain": [
       "(1 0 0\n",
       " 0.14285714285714285 1 0\n",
       " 0.5714285714285714 0.5000000000000002 1, 7 8 9\n",
       " 0 0.8571428571428572 1.7142857142857144\n",
       " 0 0 1.1102230246251565e-16, [2, 0, 1])"
      ]
     },
     "execution_count": 66,
     "metadata": {},
     "output_type": "execute_result"
    }
   ],
   "source": [
    "lup(m)"
   ]
  },
  {
   "cell_type": "markdown",
   "metadata": {},
   "source": [
    "## 4."
   ]
  },
  {
   "cell_type": "code",
   "execution_count": 67,
   "metadata": {
    "collapsed": true
   },
   "outputs": [],
   "source": [
    "lhs = Matrix(\n",
    "    [[0.000001, 3000000, 2000000],\n",
    "     [1000000, 2000000, 3000000],\n",
    "     [2000000, 1000000, 2000000]])\n",
    "\n",
    "rhs = Matrix(\n",
    "    [[12000000.000001],\n",
    "     [14000000],\n",
    "     [10000000]])"
   ]
  },
  {
   "cell_type": "code",
   "execution_count": 68,
   "metadata": {
    "collapsed": true
   },
   "outputs": [],
   "source": [
    "L, U = lu(lhs)\n",
    "a = forward_sub(L, rhs)\n",
    "b = backward_sub(U, a)"
   ]
  },
  {
   "cell_type": "code",
   "execution_count": 69,
   "metadata": {},
   "outputs": [
    {
     "data": {
      "text/plain": [
       "12000000000001.0\n",
       "14000000\n",
       "10000000"
      ]
     },
     "execution_count": 69,
     "metadata": {},
     "output_type": "execute_result"
    }
   ],
   "source": [
    "b"
   ]
  },
  {
   "cell_type": "code",
   "execution_count": 70,
   "metadata": {},
   "outputs": [
    {
     "data": {
      "text/plain": [
       "(1 0 0\n",
       " 5e-13 1 0\n",
       " 0.5 0.5000000000000834 1, 2000000 1000000 2000000\n",
       " 0 2999999.9999995 1999999.999999\n",
       " 0 0 1000000.0000003333, [2, 0, 1])"
      ]
     },
     "execution_count": 70,
     "metadata": {},
     "output_type": "execute_result"
    }
   ],
   "source": [
    "L, U, P = lup(lhs)\n",
    "lup(lhs)"
   ]
  },
  {
   "cell_type": "code",
   "execution_count": 73,
   "metadata": {},
   "outputs": [],
   "source": [
    "rhs_prime = permute_rows(rhs, P, rhs.height)"
   ]
  },
  {
   "cell_type": "code",
   "execution_count": 74,
   "metadata": {},
   "outputs": [
    {
     "data": {
      "text/plain": [
       "5.0\n",
       "12000000000001.0\n",
       "14000000"
      ]
     },
     "execution_count": 74,
     "metadata": {},
     "output_type": "execute_result"
    }
   ],
   "source": [
    "a = forward_sub(L, rhs_prime.T)\n",
    "b = backward_sub(U, a)\n",
    "b"
   ]
  },
  {
   "cell_type": "markdown",
   "metadata": {},
   "source": [
    "## 5."
   ]
  },
  {
   "cell_type": "code",
   "execution_count": 39,
   "metadata": {
    "collapsed": true
   },
   "outputs": [],
   "source": [
    "lhs = Matrix(\n",
    "    [[0, 1, 2],\n",
    "     [2, 0, 3],\n",
    "     [3, 5, 1]])\n",
    "\n",
    "rhs = Matrix(\n",
    "    [[6],\n",
    "     [9],\n",
    "     [3]])"
   ]
  },
  {
   "cell_type": "markdown",
   "metadata": {},
   "source": [
    "## 6."
   ]
  },
  {
   "cell_type": "code",
   "execution_count": 40,
   "metadata": {
    "collapsed": true
   },
   "outputs": [],
   "source": [
    "lhs = Matrix(\n",
    "    [[4000000000, 1000000000, 3000000000],\n",
    "     [4, 2, 7],\n",
    "     [0.0000000003, 0.0000000005, 0.0000000002]])\n",
    "\n",
    "rhs = Matrix(\n",
    "    [[9000000000],\n",
    "     [15],\n",
    "     [0.0000000015]])\n"
   ]
  },
  {
   "cell_type": "markdown",
   "metadata": {},
   "source": [
    "# TODO: Matlab\n",
    "Potrebno je napisati skriptu za programski paket MATLAB koja će učitati matricu sustava i slobodni vektor\n",
    "(iz istih datoteka kao programska implementacija), uz pomoć LUP dekompozicije pronaći i ispisati matrice\n",
    "L, U i matricu permutacija P, te međurezultat y. Također naći rješenje sustava te invertiranu matricu sustava.\n",
    "U skripti se (između ostalih) preporučuje koristiti sljedeće ugrađene funkcije: lu, inv te lijevo dijeljenje ( \\ ).\n",
    "Usporedite dobiveno rješenje sa onim koje ste dobili vašim programom. "
   ]
  },
  {
   "cell_type": "code",
   "execution_count": null,
   "metadata": {
    "collapsed": true
   },
   "outputs": [],
   "source": []
  }
 ],
 "metadata": {
  "kernelspec": {
   "display_name": "Python 3",
   "language": "python",
   "name": "python3"
  },
  "language_info": {
   "codemirror_mode": {
    "name": "ipython",
    "version": 3
   },
   "file_extension": ".py",
   "mimetype": "text/x-python",
   "name": "python",
   "nbconvert_exporter": "python",
   "pygments_lexer": "ipython3",
   "version": "3.6.2"
  }
 },
 "nbformat": 4,
 "nbformat_minor": 2
}
