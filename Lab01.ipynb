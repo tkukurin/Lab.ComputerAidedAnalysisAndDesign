{
 "cells": [
  {
   "cell_type": "markdown",
   "metadata": {},
   "source": [
    "[Link na zadatke](http://www.fer.unizg.hr/_download/repository/vjezba_1%5B5%5D.pdf)"
   ]
  },
  {
   "cell_type": "code",
   "execution_count": 33,
   "metadata": {
    "collapsed": true
   },
   "outputs": [],
   "source": [
    "class IncompatibleMatricesException(Exception):\n",
    "    def __init__(self, m1, m2):\n",
    "        message = \"Not true that {0}, {1} is compatible with {2}, {3}.\" \\\n",
    "            .format(m1.height, m1.width, m2.height, m2.width)\n",
    "        super(IncompatibleMatricesException, self).__init__(message)\n",
    "        \n",
    "class InvalidDimensionException(Exception):\n",
    "    def __init__(self, m):\n",
    "        message = \"Invalid dimensions {0}, {1} from given matrix.\" \\\n",
    "            .format(m.height, m.width)\n",
    "        super(InvalidDimensionException, self).__init__(message)"
   ]
  },
  {
   "cell_type": "code",
   "execution_count": 34,
   "metadata": {
    "collapsed": true
   },
   "outputs": [],
   "source": [
    "def compose(*functions):\n",
    "    return functools.reduce(lambda f, g: lambda x: f(g(x)), functions, lambda x: x)"
   ]
  },
  {
   "cell_type": "code",
   "execution_count": 35,
   "metadata": {
    "collapsed": true
   },
   "outputs": [],
   "source": [
    "def matrix_multiply(fst, snd):\n",
    "    zip_snd = list(zip(*snd))\n",
    "    \n",
    "    return [[sum(a * b for a, b in zip(row_fst, col_snd)) \n",
    "                 for col_snd in zip_snd] \n",
    "                    for row_fst in fst]\n",
    "\n",
    "def scalar(scalar, elements, op):\n",
    "    return [[op(e, scalar) for e in row] for row in elements]\n",
    "\n",
    "def elementwise(fst, snd, operation):\n",
    "    o = lambda z: [operation(a, b) for a, b in zip(z[0], z[1])]\n",
    "    return [o(zipped) for zipped in zip(fst, snd)]"
   ]
  },
  {
   "cell_type": "code",
   "execution_count": 149,
   "metadata": {
    "collapsed": true
   },
   "outputs": [],
   "source": [
    "import numbers, math, itertools, copy\n",
    "\n",
    "class Matrix:\n",
    "    \n",
    "    def __init__(self, elements_or_matrix):\n",
    "        if isinstance(elements_or_matrix, Matrix):\n",
    "            elements_or_matrix = elements_or_matrix.elements\n",
    "            \n",
    "        self.elements = copy.deepcopy(elements_or_matrix)\n",
    "        \n",
    "    @property\n",
    "    def width(self):\n",
    "        return 0 if self.height == 0 \\\n",
    "                 else len(self.elements) \\\n",
    "                    if type(self.elements[0]) != list \\\n",
    "                    else len(self.elements[0])\n",
    "    \n",
    "    @property\n",
    "    def height(self):\n",
    "        return len(self.elements)\n",
    "    \n",
    "    @property\n",
    "    def T(self):\n",
    "        return Matrix([list(col) for col in zip(*self.elements)])\n",
    "    \n",
    "    def __getitem__(self, key):\n",
    "        if len(self.elements[0]) == 1:\n",
    "            return self.elements[key][0]\n",
    "        return self.elements.__getitem__(key)\n",
    "    \n",
    "    def __setitem__(self, key, item):\n",
    "        if len(self.elements[0]) == 1:\n",
    "            self.elements[key][0] = item\n",
    "        else:\n",
    "            self.elements.__setitem__(key, item)\n",
    "    \n",
    "    def __add__(self, other):\n",
    "        return Matrix(self.elements).__iadd__(other)\n",
    "        \n",
    "    def __sub__(self, other):\n",
    "        return Matrix(self.elements).__isub__(other)\n",
    "    \n",
    "    def __iadd__(self, rhs):\n",
    "        if self.height != rhs.height \\\n",
    "            or self.width != rhs.width:\n",
    "            raise IncompatibleMatricesException(self, rhs)\n",
    "        \n",
    "        self.elements = elementwise(\n",
    "            self.elements, rhs.elements, lambda a, b: a + b)\n",
    "        \n",
    "        return self\n",
    "    \n",
    "    def __isub__(self, rhs):\n",
    "        if self.height != rhs.height \\\n",
    "            or self.width != rhs.width:\n",
    "            raise IncompatibleMatricesException(self, rhs)\n",
    "        \n",
    "        self.elements = elementwise(\n",
    "            self.elements, rhs.elements, lambda a, b: a - b)\n",
    "        \n",
    "        return self\n",
    "    \n",
    "    def __rmul__(self, other):\n",
    "        return self.__mul__(other)\n",
    "        \n",
    "    def __mul__(self, rhs):\n",
    "        if isinstance(rhs, numbers.Number):\n",
    "            return Matrix(scalar(rhs, self.elements, lambda a, b: a * b))\n",
    "        \n",
    "        if self.width != rhs.height:\n",
    "            raise IncompatibleMatricesException(self, rhs)\n",
    "        \n",
    "        return Matrix(matrix_multiply(self.elements, rhs.elements))\n",
    "    \n",
    "    def __truediv__(self, rhs):\n",
    "        return Matrix(scalar(rhs, self.elements, lambda a, b: a / b))\n",
    "        \n",
    "    def __eq__(self, rhs):\n",
    "        flat = lambda x: itertools.chain(*x)\n",
    "        return all([ math.isclose(a, b) for a, b in \n",
    "                        zip(flat(self.elements), flat(rhs.elements)) ])\n",
    "    \n",
    "    def __str__(self):\n",
    "        return self.__repr__()\n",
    "    \n",
    "    def __repr__(self):\n",
    "        return \"\\n\".join([\" \".join(str(e) for e in lst) \n",
    "                              for lst in self.elements])\n",
    "\n",
    "    @staticmethod\n",
    "    def from_lines(lines):\n",
    "        tokens = map(lambda l: l.strip().split(), lines)\n",
    "        elements = [ [float(n) for n in row] for row in tokens]\n",
    "        return Matrix(elements)\n",
    "        \n",
    "    @staticmethod\n",
    "    def from_file(location):\n",
    "        with open(location) as f:\n",
    "            return Matrix.from_lines(f)\n",
    "    \n",
    "    @staticmethod\n",
    "    def to_file(matrix, location):\n",
    "        with open(location) as f:\n",
    "            f.write(matrix.__repr__())"
   ]
  },
  {
   "cell_type": "code",
   "execution_count": 37,
   "metadata": {},
   "outputs": [
    {
     "data": {
      "text/plain": [
       "12.5 3.0 9.0 2.0\n",
       "4.0 5.0 6.0 7.0\n",
       "8.0 9.0 10.0 11.0"
      ]
     },
     "execution_count": 37,
     "metadata": {},
     "output_type": "execute_result"
    }
   ],
   "source": [
    "Matrix.from_file('test.mat')"
   ]
  },
  {
   "cell_type": "markdown",
   "metadata": {},
   "source": [
    "# Laboratorijske vjezbe\n",
    "\n",
    "## 1.\n",
    "Double varijable trebale bi se usporedjivati uz definiranu dozvoljenu gresku. U Pythonu 3.5 postoji methoda `math.isclose` koja radi takvu usporedbu ([referenca](https://docs.python.org/3/whatsnew/3.5.html#pep-485-a-function-for-testing-approximate-equality), default relativna tolerancija je `1e-09`). Tu metodu koristi klasa `Matrix` prilikom pozivanja `__eq__`."
   ]
  },
  {
   "cell_type": "code",
   "execution_count": 38,
   "metadata": {
    "collapsed": true
   },
   "outputs": [],
   "source": [
    "m1 = Matrix([[123], [456]])\n",
    "mul = 55\n",
    "\n",
    "m2 = mul * m1\n",
    "m3 = m2 / mul"
   ]
  },
  {
   "cell_type": "code",
   "execution_count": 39,
   "metadata": {
    "collapsed": true
   },
   "outputs": [],
   "source": [
    "m1 /= 2"
   ]
  },
  {
   "cell_type": "code",
   "execution_count": 40,
   "metadata": {},
   "outputs": [
    {
     "data": {
      "text/plain": [
       "61.5\n",
       "228.0"
      ]
     },
     "execution_count": 40,
     "metadata": {},
     "output_type": "execute_result"
    }
   ],
   "source": [
    "m1"
   ]
  },
  {
   "cell_type": "code",
   "execution_count": 41,
   "metadata": {
    "collapsed": true
   },
   "outputs": [],
   "source": [
    "m1 = Matrix([[6.6]])\n",
    "m2 = Matrix([[2.2 * 3.0]])"
   ]
  },
  {
   "cell_type": "code",
   "execution_count": 42,
   "metadata": {},
   "outputs": [
    {
     "data": {
      "text/plain": [
       "False"
      ]
     },
     "execution_count": 42,
     "metadata": {},
     "output_type": "execute_result"
    }
   ],
   "source": [
    "2.2 * 3.0 == 6.6"
   ]
  },
  {
   "cell_type": "code",
   "execution_count": 43,
   "metadata": {},
   "outputs": [
    {
     "data": {
      "text/plain": [
       "True"
      ]
     },
     "execution_count": 43,
     "metadata": {},
     "output_type": "execute_result"
    }
   ],
   "source": [
    "m1 == m2"
   ]
  },
  {
   "cell_type": "markdown",
   "metadata": {},
   "source": [
    "## 2."
   ]
  },
  {
   "cell_type": "code",
   "execution_count": 44,
   "metadata": {
    "collapsed": true
   },
   "outputs": [],
   "source": [
    "test_str = \"\"\"2 3 1 5\n",
    "6 13 5 19\n",
    "2 19 10 23\n",
    "4 10 11 31\"\"\""
   ]
  },
  {
   "cell_type": "code",
   "execution_count": 45,
   "metadata": {
    "collapsed": true
   },
   "outputs": [],
   "source": [
    "book_example = Matrix.from_lines(test_str.split(\"\\n\"))"
   ]
  },
  {
   "cell_type": "code",
   "execution_count": 46,
   "metadata": {
    "collapsed": true
   },
   "outputs": [],
   "source": [
    "def assert_square_matrix(matrix):\n",
    "    if matrix.width != matrix.height:\n",
    "        raise InvalidDimensionException(matrix)"
   ]
  },
  {
   "cell_type": "code",
   "execution_count": 92,
   "metadata": {
    "collapsed": true
   },
   "outputs": [],
   "source": [
    "def assert_outside_epsilon(value, tolerance = 1e-9):\n",
    "    if abs(value) <= tolerance:\n",
    "        raise ValueError(\"Value below threshold tolerance ({0})\" \\\n",
    "                            .format(tolerance))"
   ]
  },
  {
   "cell_type": "code",
   "execution_count": 47,
   "metadata": {
    "collapsed": true
   },
   "outputs": [],
   "source": [
    "def lower_triangular(matrix):\n",
    "    assert_square_matrix(matrix)\n",
    "    n = matrix.width\n",
    "    \n",
    "    lower_elements = []\n",
    "    for row in range(n):\n",
    "        row_vector = []\n",
    "        for j in range(row):\n",
    "            row_vector.append(matrix[row][j])\n",
    "        \n",
    "        row_vector.append(1)\n",
    "        \n",
    "        for j in range(row + 1, n):\n",
    "            row_vector.append(0)\n",
    "        lower_elements.append(row_vector)\n",
    "    \n",
    "    return Matrix(lower_elements)"
   ]
  },
  {
   "cell_type": "code",
   "execution_count": 48,
   "metadata": {
    "collapsed": true
   },
   "outputs": [],
   "source": [
    "def upper_triangular(matrix):\n",
    "    assert_square_matrix(matrix)\n",
    "    n = matrix.width\n",
    "    \n",
    "    upper_elements = []\n",
    "    for row in range(n):\n",
    "        row_vector = []\n",
    "        for j in range(row):\n",
    "            row_vector.append(0)\n",
    "        for j in range(row, n):\n",
    "            row_vector.append(matrix[row][j])\n",
    "        \n",
    "        upper_elements.append(row_vector)\n",
    "        \n",
    "    return Matrix(upper_elements)\n",
    "    "
   ]
  },
  {
   "cell_type": "code",
   "execution_count": 93,
   "metadata": {
    "collapsed": true
   },
   "outputs": [],
   "source": [
    "def lu(matrix):\n",
    "    assert_square_matrix(matrix)\n",
    "        \n",
    "    A = Matrix(matrix)\n",
    "    n = A.width\n",
    "    for i in range(n - 1):\n",
    "        for j in range(i + 1, n):\n",
    "            assert_outside_epsilon(A[i][i])\n",
    "            A[j][i] /= A[i][i]\n",
    "            for k in range(i + 1, n):\n",
    "                A[j][k] = A[j][k] - (A[j][i] * A[i][k])\n",
    "    L = lower_triangular(A)\n",
    "    U = upper_triangular(A)\n",
    "    return L, U"
   ]
  },
  {
   "cell_type": "code",
   "execution_count": 94,
   "metadata": {},
   "outputs": [
    {
     "data": {
      "text/plain": [
       "(1 0 0 0\n",
       " 3.0 1 0 0\n",
       " 1.0 4.0 1 0\n",
       " 2.0 1.0 7.0 1, 2.0 3.0 1.0 5.0\n",
       " 0 4.0 2.0 4.0\n",
       " 0 0 1.0 2.0\n",
       " 0 0 0 3.0)"
      ]
     },
     "execution_count": 94,
     "metadata": {},
     "output_type": "execute_result"
    }
   ],
   "source": [
    "lu(book_example)"
   ]
  },
  {
   "cell_type": "code",
   "execution_count": 95,
   "metadata": {},
   "outputs": [],
   "source": [
    "def swap(l, i, j):\n",
    "    tmp = l[i]\n",
    "    l[i] = l[j]\n",
    "    l[j] = tmp\n",
    "    return l"
   ]
  },
  {
   "cell_type": "code",
   "execution_count": 140,
   "metadata": {
    "collapsed": true
   },
   "outputs": [],
   "source": [
    "def row_index_of_largest_number_in_column(A, P, col, n):\n",
    "    pivot = col\n",
    "        \n",
    "    for j in range(col + 1, n):\n",
    "        if abs(A[P[j]][col]) > abs(A[P[pivot]][col]):\n",
    "            pivot = j\n",
    "            \n",
    "    return pivot\n",
    "\n",
    "def permute_rows(A, P, n):\n",
    "    P_inverse = dict(zip(range(n), P))\n",
    "    return Matrix([ A[P_inverse[i]] for i in range(n) ])\n",
    "\n",
    "def lup(A):\n",
    "    assert_square_matrix(A)\n",
    "    \n",
    "    A = Matrix(A)\n",
    "    n = A.width\n",
    "    P = [i for i in range(n)]\n",
    "    \n",
    "    for i in range(n - 1):\n",
    "        pivot = row_index_of_largest_number_in_column(A, P, i, n)        \n",
    "        swap(P, i, pivot)\n",
    "        \n",
    "        assert_outside_epsilon(A[P[i]][i])\n",
    "        for j in range(i + 1, n):\n",
    "            A[P[j]][i] /= A[P[i]][i]\n",
    "            for k in range(i + 1, n):\n",
    "                A[P[j]][k] -= A[P[j]][i] * A[P[i]][k]\n",
    "    \n",
    "    result = permute_rows(A, P, n)\n",
    "    return lower_triangular(result), upper_triangular(result), P"
   ]
  },
  {
   "cell_type": "code",
   "execution_count": 126,
   "metadata": {},
   "outputs": [
    {
     "data": {
      "text/plain": [
       "(1 0 0\n",
       " 0.14285714285714285 1 0\n",
       " 0.5714285714285714 0.5000000000000002 1, 7 8 9\n",
       " 0 0.8571428571428572 1.7142857142857144\n",
       " 0 0 1.1102230246251565e-16)"
      ]
     },
     "execution_count": 126,
     "metadata": {},
     "output_type": "execute_result"
    }
   ],
   "source": [
    "lup(m)"
   ]
  },
  {
   "cell_type": "code",
   "execution_count": 52,
   "metadata": {
    "collapsed": true
   },
   "outputs": [],
   "source": [
    "def backward_sub(A, b):\n",
    "    assert_square_matrix(A)\n",
    "    n = b.width\n",
    "    \n",
    "    for i in reversed(range(n)):\n",
    "        b[i] /= A[i][i]\n",
    "        # premjesti coeff * x na desnu stranu (y' = y - c * x)\n",
    "        for j in range(i - 1):\n",
    "            b[j] = b[j] - A[j][i] * b[i]\n",
    "            \n",
    "    return b\n",
    "\n",
    "def forward_sub(A, b):\n",
    "    assert_square_matrix(A)\n",
    "    n = b.width\n",
    "    # premjesti coeff * x na desnu stranu (y' = y - c * x)\n",
    "    for i in range(n - 1):\n",
    "        for j in range(i + 1, n):\n",
    "            b[j] = b[j] - A[j][i] * b[i]\n",
    "            \n",
    "    return b"
   ]
  },
  {
   "cell_type": "code",
   "execution_count": 97,
   "metadata": {},
   "outputs": [
    {
     "ename": "ValueError",
     "evalue": "Value below threshold tolerance (1e-09)",
     "output_type": "error",
     "traceback": [
      "\u001b[0;31m---------------------------------------------------------------------------\u001b[0m",
      "\u001b[0;31mValueError\u001b[0m                                Traceback (most recent call last)",
      "\u001b[0;32m<ipython-input-97-b92fd37a25e8>\u001b[0m in \u001b[0;36m<module>\u001b[0;34m()\u001b[0m\n\u001b[1;32m      3\u001b[0m      \u001b[0;34m[\u001b[0m\u001b[0;36m4\u001b[0m\u001b[0;34m,\u001b[0m \u001b[0;36m12\u001b[0m\u001b[0;34m,\u001b[0m \u001b[0;36m12\u001b[0m\u001b[0;34m]\u001b[0m\u001b[0;34m,\u001b[0m\u001b[0;34m\u001b[0m\u001b[0m\n\u001b[1;32m      4\u001b[0m      [1, -1, 1]])\n\u001b[0;32m----> 5\u001b[0;31m \u001b[0mlu\u001b[0m\u001b[0;34m(\u001b[0m\u001b[0mm\u001b[0m\u001b[0;34m)\u001b[0m\u001b[0;34m\u001b[0m\u001b[0m\n\u001b[0m",
      "\u001b[0;32m<ipython-input-93-4f9d3c6f0559>\u001b[0m in \u001b[0;36mlu\u001b[0;34m(matrix)\u001b[0m\n\u001b[1;32m      6\u001b[0m     \u001b[0;32mfor\u001b[0m \u001b[0mi\u001b[0m \u001b[0;32min\u001b[0m \u001b[0mrange\u001b[0m\u001b[0;34m(\u001b[0m\u001b[0mn\u001b[0m \u001b[0;34m-\u001b[0m \u001b[0;36m1\u001b[0m\u001b[0;34m)\u001b[0m\u001b[0;34m:\u001b[0m\u001b[0;34m\u001b[0m\u001b[0m\n\u001b[1;32m      7\u001b[0m         \u001b[0;32mfor\u001b[0m \u001b[0mj\u001b[0m \u001b[0;32min\u001b[0m \u001b[0mrange\u001b[0m\u001b[0;34m(\u001b[0m\u001b[0mi\u001b[0m \u001b[0;34m+\u001b[0m \u001b[0;36m1\u001b[0m\u001b[0;34m,\u001b[0m \u001b[0mn\u001b[0m\u001b[0;34m)\u001b[0m\u001b[0;34m:\u001b[0m\u001b[0;34m\u001b[0m\u001b[0m\n\u001b[0;32m----> 8\u001b[0;31m             \u001b[0massert_outside_epsilon\u001b[0m\u001b[0;34m(\u001b[0m\u001b[0mA\u001b[0m\u001b[0;34m[\u001b[0m\u001b[0mi\u001b[0m\u001b[0;34m]\u001b[0m\u001b[0;34m[\u001b[0m\u001b[0mi\u001b[0m\u001b[0;34m]\u001b[0m\u001b[0;34m)\u001b[0m\u001b[0;34m\u001b[0m\u001b[0m\n\u001b[0m\u001b[1;32m      9\u001b[0m             \u001b[0mA\u001b[0m\u001b[0;34m[\u001b[0m\u001b[0mj\u001b[0m\u001b[0;34m]\u001b[0m\u001b[0;34m[\u001b[0m\u001b[0mi\u001b[0m\u001b[0;34m]\u001b[0m \u001b[0;34m/=\u001b[0m \u001b[0mA\u001b[0m\u001b[0;34m[\u001b[0m\u001b[0mi\u001b[0m\u001b[0;34m]\u001b[0m\u001b[0;34m[\u001b[0m\u001b[0mi\u001b[0m\u001b[0;34m]\u001b[0m\u001b[0;34m\u001b[0m\u001b[0m\n\u001b[1;32m     10\u001b[0m             \u001b[0;32mfor\u001b[0m \u001b[0mk\u001b[0m \u001b[0;32min\u001b[0m \u001b[0mrange\u001b[0m\u001b[0;34m(\u001b[0m\u001b[0mi\u001b[0m \u001b[0;34m+\u001b[0m \u001b[0;36m1\u001b[0m\u001b[0;34m,\u001b[0m \u001b[0mn\u001b[0m\u001b[0;34m)\u001b[0m\u001b[0;34m:\u001b[0m\u001b[0;34m\u001b[0m\u001b[0m\n",
      "\u001b[0;32m<ipython-input-92-48af27be7797>\u001b[0m in \u001b[0;36massert_outside_epsilon\u001b[0;34m(value, tolerance)\u001b[0m\n\u001b[1;32m      1\u001b[0m \u001b[0;32mdef\u001b[0m \u001b[0massert_outside_epsilon\u001b[0m\u001b[0;34m(\u001b[0m\u001b[0mvalue\u001b[0m\u001b[0;34m,\u001b[0m \u001b[0mtolerance\u001b[0m \u001b[0;34m=\u001b[0m \u001b[0;36m1e-9\u001b[0m\u001b[0;34m)\u001b[0m\u001b[0;34m:\u001b[0m\u001b[0;34m\u001b[0m\u001b[0m\n\u001b[1;32m      2\u001b[0m     \u001b[0;32mif\u001b[0m \u001b[0mabs\u001b[0m\u001b[0;34m(\u001b[0m\u001b[0mvalue\u001b[0m\u001b[0;34m)\u001b[0m \u001b[0;34m<=\u001b[0m \u001b[0mtolerance\u001b[0m\u001b[0;34m:\u001b[0m\u001b[0;34m\u001b[0m\u001b[0m\n\u001b[0;32m----> 3\u001b[0;31m         \u001b[0;32mraise\u001b[0m \u001b[0mValueError\u001b[0m\u001b[0;34m(\u001b[0m\u001b[0;34m\"Value below threshold tolerance ({0})\"\u001b[0m                             \u001b[0;34m.\u001b[0m\u001b[0mformat\u001b[0m\u001b[0;34m(\u001b[0m\u001b[0mtolerance\u001b[0m\u001b[0;34m)\u001b[0m\u001b[0;34m)\u001b[0m\u001b[0;34m\u001b[0m\u001b[0m\n\u001b[0m",
      "\u001b[0;31mValueError\u001b[0m: Value below threshold tolerance (1e-09)"
     ]
    }
   ],
   "source": [
    "m = Matrix(\n",
    "    [[3, 9, 6],\n",
    "     [4, 12, 12],\n",
    "     [1, -1, 1]])\n",
    "lu(m)"
   ]
  },
  {
   "cell_type": "markdown",
   "metadata": {},
   "source": [
    "## 3."
   ]
  },
  {
   "cell_type": "code",
   "execution_count": 98,
   "metadata": {},
   "outputs": [
    {
     "data": {
      "text/plain": [
       "(1 0 0\n",
       " 4.0 1 0\n",
       " 7.0 2.0 1, 1 2 3\n",
       " 0 -3.0 -6.0\n",
       " 0 0 0.0)"
      ]
     },
     "execution_count": 98,
     "metadata": {},
     "output_type": "execute_result"
    }
   ],
   "source": [
    "m = Matrix(\n",
    "    [[1, 2, 3],\n",
    "     [4, 5, 6],\n",
    "     [7, 8, 9]])\n",
    "lu(m)"
   ]
  },
  {
   "cell_type": "code",
   "execution_count": 99,
   "metadata": {},
   "outputs": [
    {
     "data": {
      "text/plain": [
       "(1 0 0\n",
       " 0.5714285714285714 1 0\n",
       " 7 8 1, 0.14285714285714285 0.8571428571428572 1.7142857142857144\n",
       " 0 0.5000000000000002 1.1102230246251565e-16\n",
       " 0 0 9, [2, 0, 1])"
      ]
     },
     "execution_count": 99,
     "metadata": {},
     "output_type": "execute_result"
    }
   ],
   "source": [
    "lup(m)"
   ]
  },
  {
   "cell_type": "markdown",
   "metadata": {},
   "source": [
    "## 4."
   ]
  },
  {
   "cell_type": "code",
   "execution_count": 153,
   "metadata": {
    "collapsed": true
   },
   "outputs": [],
   "source": [
    "lhs = Matrix(\n",
    "    [[0.000001, 3000000, 2000000],\n",
    "     [1000000, 2000000, 3000000],\n",
    "     [2000000, 1000000, 2000000]])\n",
    "\n",
    "rhs = Matrix(\n",
    "    [[12000000.000001],\n",
    "     [14000000],\n",
    "     [10000000]])"
   ]
  },
  {
   "cell_type": "code",
   "execution_count": 154,
   "metadata": {},
   "outputs": [],
   "source": [
    "L, U = lu(lhs)\n",
    "a = forward_sub(L, rhs)\n",
    "b = backward_sub(U, a)"
   ]
  },
  {
   "cell_type": "code",
   "execution_count": 138,
   "metadata": {},
   "outputs": [
    {
     "data": {
      "text/plain": [
       "12000000000001.0\n",
       "14000000\n",
       "10000000"
      ]
     },
     "execution_count": 138,
     "metadata": {},
     "output_type": "execute_result"
    }
   ],
   "source": [
    "b"
   ]
  },
  {
   "cell_type": "code",
   "execution_count": 157,
   "metadata": {},
   "outputs": [
    {
     "data": {
      "text/plain": [
       "(1 0 0\n",
       " 5e-13 1 0\n",
       " 0.5 0.5000000000000834 1, 2000000 1000000 2000000\n",
       " 0 2999999.9999995 1999999.999999\n",
       " 0 0 1000000.0000003333, [2, 0, 1])"
      ]
     },
     "execution_count": 157,
     "metadata": {},
     "output_type": "execute_result"
    }
   ],
   "source": [
    "L, U, P = lup(lhs)\n",
    "lup(lhs)"
   ]
  },
  {
   "cell_type": "code",
   "execution_count": 162,
   "metadata": {},
   "outputs": [
    {
     "ename": "TypeError",
     "evalue": "'int' object is not iterable",
     "output_type": "error",
     "traceback": [
      "\u001b[0;31m---------------------------------------------------------------------------\u001b[0m",
      "\u001b[0;31mTypeError\u001b[0m                                 Traceback (most recent call last)",
      "\u001b[0;32m/usr/lib/python3.6/site-packages/IPython/core/formatters.py\u001b[0m in \u001b[0;36m__call__\u001b[0;34m(self, obj)\u001b[0m\n\u001b[1;32m    670\u001b[0m                 \u001b[0mtype_pprinters\u001b[0m\u001b[0;34m=\u001b[0m\u001b[0mself\u001b[0m\u001b[0;34m.\u001b[0m\u001b[0mtype_printers\u001b[0m\u001b[0;34m,\u001b[0m\u001b[0;34m\u001b[0m\u001b[0m\n\u001b[1;32m    671\u001b[0m                 deferred_pprinters=self.deferred_printers)\n\u001b[0;32m--> 672\u001b[0;31m             \u001b[0mprinter\u001b[0m\u001b[0;34m.\u001b[0m\u001b[0mpretty\u001b[0m\u001b[0;34m(\u001b[0m\u001b[0mobj\u001b[0m\u001b[0;34m)\u001b[0m\u001b[0;34m\u001b[0m\u001b[0m\n\u001b[0m\u001b[1;32m    673\u001b[0m             \u001b[0mprinter\u001b[0m\u001b[0;34m.\u001b[0m\u001b[0mflush\u001b[0m\u001b[0;34m(\u001b[0m\u001b[0;34m)\u001b[0m\u001b[0;34m\u001b[0m\u001b[0m\n\u001b[1;32m    674\u001b[0m             \u001b[0;32mreturn\u001b[0m \u001b[0mstream\u001b[0m\u001b[0;34m.\u001b[0m\u001b[0mgetvalue\u001b[0m\u001b[0;34m(\u001b[0m\u001b[0;34m)\u001b[0m\u001b[0;34m\u001b[0m\u001b[0m\n",
      "\u001b[0;32m/usr/lib/python3.6/site-packages/IPython/lib/pretty.py\u001b[0m in \u001b[0;36mpretty\u001b[0;34m(self, obj)\u001b[0m\n\u001b[1;32m    381\u001b[0m                             \u001b[0;32mif\u001b[0m \u001b[0mcallable\u001b[0m\u001b[0;34m(\u001b[0m\u001b[0mmeth\u001b[0m\u001b[0;34m)\u001b[0m\u001b[0;34m:\u001b[0m\u001b[0;34m\u001b[0m\u001b[0m\n\u001b[1;32m    382\u001b[0m                                 \u001b[0;32mreturn\u001b[0m \u001b[0mmeth\u001b[0m\u001b[0;34m(\u001b[0m\u001b[0mobj\u001b[0m\u001b[0;34m,\u001b[0m \u001b[0mself\u001b[0m\u001b[0;34m,\u001b[0m \u001b[0mcycle\u001b[0m\u001b[0;34m)\u001b[0m\u001b[0;34m\u001b[0m\u001b[0m\n\u001b[0;32m--> 383\u001b[0;31m             \u001b[0;32mreturn\u001b[0m \u001b[0m_default_pprint\u001b[0m\u001b[0;34m(\u001b[0m\u001b[0mobj\u001b[0m\u001b[0;34m,\u001b[0m \u001b[0mself\u001b[0m\u001b[0;34m,\u001b[0m \u001b[0mcycle\u001b[0m\u001b[0;34m)\u001b[0m\u001b[0;34m\u001b[0m\u001b[0m\n\u001b[0m\u001b[1;32m    384\u001b[0m         \u001b[0;32mfinally\u001b[0m\u001b[0;34m:\u001b[0m\u001b[0;34m\u001b[0m\u001b[0m\n\u001b[1;32m    385\u001b[0m             \u001b[0mself\u001b[0m\u001b[0;34m.\u001b[0m\u001b[0mend_group\u001b[0m\u001b[0;34m(\u001b[0m\u001b[0;34m)\u001b[0m\u001b[0;34m\u001b[0m\u001b[0m\n",
      "\u001b[0;32m/usr/lib/python3.6/site-packages/IPython/lib/pretty.py\u001b[0m in \u001b[0;36m_default_pprint\u001b[0;34m(obj, p, cycle)\u001b[0m\n\u001b[1;32m    501\u001b[0m     \u001b[0;32mif\u001b[0m \u001b[0m_safe_getattr\u001b[0m\u001b[0;34m(\u001b[0m\u001b[0mklass\u001b[0m\u001b[0;34m,\u001b[0m \u001b[0;34m'__repr__'\u001b[0m\u001b[0;34m,\u001b[0m \u001b[0;32mNone\u001b[0m\u001b[0;34m)\u001b[0m \u001b[0;32mnot\u001b[0m \u001b[0;32min\u001b[0m \u001b[0m_baseclass_reprs\u001b[0m\u001b[0;34m:\u001b[0m\u001b[0;34m\u001b[0m\u001b[0m\n\u001b[1;32m    502\u001b[0m         \u001b[0;31m# A user-provided repr. Find newlines and replace them with p.break_()\u001b[0m\u001b[0;34m\u001b[0m\u001b[0;34m\u001b[0m\u001b[0m\n\u001b[0;32m--> 503\u001b[0;31m         \u001b[0m_repr_pprint\u001b[0m\u001b[0;34m(\u001b[0m\u001b[0mobj\u001b[0m\u001b[0;34m,\u001b[0m \u001b[0mp\u001b[0m\u001b[0;34m,\u001b[0m \u001b[0mcycle\u001b[0m\u001b[0;34m)\u001b[0m\u001b[0;34m\u001b[0m\u001b[0m\n\u001b[0m\u001b[1;32m    504\u001b[0m         \u001b[0;32mreturn\u001b[0m\u001b[0;34m\u001b[0m\u001b[0m\n\u001b[1;32m    505\u001b[0m     \u001b[0mp\u001b[0m\u001b[0;34m.\u001b[0m\u001b[0mbegin_group\u001b[0m\u001b[0;34m(\u001b[0m\u001b[0;36m1\u001b[0m\u001b[0;34m,\u001b[0m \u001b[0;34m'<'\u001b[0m\u001b[0;34m)\u001b[0m\u001b[0;34m\u001b[0m\u001b[0m\n",
      "\u001b[0;32m/usr/lib/python3.6/site-packages/IPython/lib/pretty.py\u001b[0m in \u001b[0;36m_repr_pprint\u001b[0;34m(obj, p, cycle)\u001b[0m\n\u001b[1;32m    699\u001b[0m     \u001b[0;34m\"\"\"A pprint that just redirects to the normal repr function.\"\"\"\u001b[0m\u001b[0;34m\u001b[0m\u001b[0m\n\u001b[1;32m    700\u001b[0m     \u001b[0;31m# Find newlines and replace them with p.break_()\u001b[0m\u001b[0;34m\u001b[0m\u001b[0;34m\u001b[0m\u001b[0m\n\u001b[0;32m--> 701\u001b[0;31m     \u001b[0moutput\u001b[0m \u001b[0;34m=\u001b[0m \u001b[0mrepr\u001b[0m\u001b[0;34m(\u001b[0m\u001b[0mobj\u001b[0m\u001b[0;34m)\u001b[0m\u001b[0;34m\u001b[0m\u001b[0m\n\u001b[0m\u001b[1;32m    702\u001b[0m     \u001b[0;32mfor\u001b[0m \u001b[0midx\u001b[0m\u001b[0;34m,\u001b[0m\u001b[0moutput_line\u001b[0m \u001b[0;32min\u001b[0m \u001b[0menumerate\u001b[0m\u001b[0;34m(\u001b[0m\u001b[0moutput\u001b[0m\u001b[0;34m.\u001b[0m\u001b[0msplitlines\u001b[0m\u001b[0;34m(\u001b[0m\u001b[0;34m)\u001b[0m\u001b[0;34m)\u001b[0m\u001b[0;34m:\u001b[0m\u001b[0;34m\u001b[0m\u001b[0m\n\u001b[1;32m    703\u001b[0m         \u001b[0;32mif\u001b[0m \u001b[0midx\u001b[0m\u001b[0;34m:\u001b[0m\u001b[0;34m\u001b[0m\u001b[0m\n",
      "\u001b[0;32m<ipython-input-149-f241dd8c0b80>\u001b[0m in \u001b[0;36m__repr__\u001b[0;34m(self)\u001b[0m\n\u001b[1;32m     81\u001b[0m     \u001b[0;32mdef\u001b[0m \u001b[0m__repr__\u001b[0m\u001b[0;34m(\u001b[0m\u001b[0mself\u001b[0m\u001b[0;34m)\u001b[0m\u001b[0;34m:\u001b[0m\u001b[0;34m\u001b[0m\u001b[0m\n\u001b[1;32m     82\u001b[0m         return \"\\n\".join([\" \".join(str(e) for e in lst) \n\u001b[0;32m---> 83\u001b[0;31m                               for lst in self.elements])\n\u001b[0m\u001b[1;32m     84\u001b[0m \u001b[0;34m\u001b[0m\u001b[0m\n\u001b[1;32m     85\u001b[0m     \u001b[0;34m@\u001b[0m\u001b[0mstaticmethod\u001b[0m\u001b[0;34m\u001b[0m\u001b[0m\n",
      "\u001b[0;32m<ipython-input-149-f241dd8c0b80>\u001b[0m in \u001b[0;36m<listcomp>\u001b[0;34m(.0)\u001b[0m\n\u001b[1;32m     81\u001b[0m     \u001b[0;32mdef\u001b[0m \u001b[0m__repr__\u001b[0m\u001b[0;34m(\u001b[0m\u001b[0mself\u001b[0m\u001b[0;34m)\u001b[0m\u001b[0;34m:\u001b[0m\u001b[0;34m\u001b[0m\u001b[0m\n\u001b[1;32m     82\u001b[0m         return \"\\n\".join([\" \".join(str(e) for e in lst) \n\u001b[0;32m---> 83\u001b[0;31m                               for lst in self.elements])\n\u001b[0m\u001b[1;32m     84\u001b[0m \u001b[0;34m\u001b[0m\u001b[0m\n\u001b[1;32m     85\u001b[0m     \u001b[0;34m@\u001b[0m\u001b[0mstaticmethod\u001b[0m\u001b[0;34m\u001b[0m\u001b[0m\n",
      "\u001b[0;31mTypeError\u001b[0m: 'int' object is not iterable"
     ]
    }
   ],
   "source": [
    "rhs_prime = permute_rows(rhs, P, rhs.height)\n",
    "permute_rows(rhs, P, rhs.height)"
   ]
  },
  {
   "cell_type": "code",
   "execution_count": 152,
   "metadata": {},
   "outputs": [
    {
     "ename": "TypeError",
     "evalue": "object of type 'Matrix' has no len()",
     "output_type": "error",
     "traceback": [
      "\u001b[0;31m---------------------------------------------------------------------------\u001b[0m",
      "\u001b[0;31mTypeError\u001b[0m                                 Traceback (most recent call last)",
      "\u001b[0;32m<ipython-input-152-2ceff51cea7c>\u001b[0m in \u001b[0;36m<module>\u001b[0;34m()\u001b[0m\n\u001b[0;32m----> 1\u001b[0;31m \u001b[0mL\u001b[0m\u001b[0;34m,\u001b[0m \u001b[0mU\u001b[0m\u001b[0;34m,\u001b[0m \u001b[0mP\u001b[0m \u001b[0;34m=\u001b[0m \u001b[0mlup\u001b[0m\u001b[0;34m(\u001b[0m\u001b[0mlhs\u001b[0m\u001b[0;34m)\u001b[0m\u001b[0;34m\u001b[0m\u001b[0m\n\u001b[0m\u001b[1;32m      2\u001b[0m \u001b[0mrhs_prime\u001b[0m \u001b[0;34m=\u001b[0m \u001b[0mpermute_rows\u001b[0m\u001b[0;34m(\u001b[0m\u001b[0mrhs\u001b[0m\u001b[0;34m,\u001b[0m \u001b[0mP\u001b[0m\u001b[0;34m,\u001b[0m \u001b[0mrhs\u001b[0m\u001b[0;34m.\u001b[0m\u001b[0mheight\u001b[0m\u001b[0;34m)\u001b[0m\u001b[0;34m\u001b[0m\u001b[0m\n\u001b[1;32m      3\u001b[0m \u001b[0ma\u001b[0m \u001b[0;34m=\u001b[0m \u001b[0mforward_sub\u001b[0m\u001b[0;34m(\u001b[0m\u001b[0mL\u001b[0m\u001b[0;34m,\u001b[0m \u001b[0mrhs_prime\u001b[0m\u001b[0;34m)\u001b[0m\u001b[0;34m\u001b[0m\u001b[0m\n\u001b[1;32m      4\u001b[0m \u001b[0mb\u001b[0m \u001b[0;34m=\u001b[0m \u001b[0mbackward_sub\u001b[0m\u001b[0;34m(\u001b[0m\u001b[0mU\u001b[0m\u001b[0;34m,\u001b[0m \u001b[0ma\u001b[0m\u001b[0;34m)\u001b[0m\u001b[0;34m\u001b[0m\u001b[0m\n\u001b[1;32m      5\u001b[0m \u001b[0mb\u001b[0m\u001b[0;34m\u001b[0m\u001b[0m\n",
      "\u001b[0;32m<ipython-input-140-24597f47f969>\u001b[0m in \u001b[0;36mlup\u001b[0;34m(A)\u001b[0m\n\u001b[1;32m     16\u001b[0m \u001b[0;34m\u001b[0m\u001b[0m\n\u001b[1;32m     17\u001b[0m     \u001b[0mA\u001b[0m \u001b[0;34m=\u001b[0m \u001b[0mMatrix\u001b[0m\u001b[0;34m(\u001b[0m\u001b[0mA\u001b[0m\u001b[0;34m)\u001b[0m\u001b[0;34m\u001b[0m\u001b[0m\n\u001b[0;32m---> 18\u001b[0;31m     \u001b[0mn\u001b[0m \u001b[0;34m=\u001b[0m \u001b[0mA\u001b[0m\u001b[0;34m.\u001b[0m\u001b[0mwidth\u001b[0m\u001b[0;34m\u001b[0m\u001b[0m\n\u001b[0m\u001b[1;32m     19\u001b[0m     \u001b[0mP\u001b[0m \u001b[0;34m=\u001b[0m \u001b[0;34m[\u001b[0m\u001b[0mi\u001b[0m \u001b[0;32mfor\u001b[0m \u001b[0mi\u001b[0m \u001b[0;32min\u001b[0m \u001b[0mrange\u001b[0m\u001b[0;34m(\u001b[0m\u001b[0mn\u001b[0m\u001b[0;34m)\u001b[0m\u001b[0;34m]\u001b[0m\u001b[0;34m\u001b[0m\u001b[0m\n\u001b[1;32m     20\u001b[0m \u001b[0;34m\u001b[0m\u001b[0m\n",
      "\u001b[0;32m<ipython-input-149-f241dd8c0b80>\u001b[0m in \u001b[0;36mwidth\u001b[0;34m(self)\u001b[0m\n\u001b[1;32m     11\u001b[0m     \u001b[0;34m@\u001b[0m\u001b[0mproperty\u001b[0m\u001b[0;34m\u001b[0m\u001b[0m\n\u001b[1;32m     12\u001b[0m     \u001b[0;32mdef\u001b[0m \u001b[0mwidth\u001b[0m\u001b[0;34m(\u001b[0m\u001b[0mself\u001b[0m\u001b[0;34m)\u001b[0m\u001b[0;34m:\u001b[0m\u001b[0;34m\u001b[0m\u001b[0m\n\u001b[0;32m---> 13\u001b[0;31m         \u001b[0;32mreturn\u001b[0m \u001b[0;36m0\u001b[0m \u001b[0;32mif\u001b[0m \u001b[0mself\u001b[0m\u001b[0;34m.\u001b[0m\u001b[0mheight\u001b[0m \u001b[0;34m==\u001b[0m \u001b[0;36m0\u001b[0m                  \u001b[0;32melse\u001b[0m \u001b[0mlen\u001b[0m\u001b[0;34m(\u001b[0m\u001b[0mself\u001b[0m\u001b[0;34m.\u001b[0m\u001b[0melements\u001b[0m\u001b[0;34m)\u001b[0m                     \u001b[0;32mif\u001b[0m \u001b[0mtype\u001b[0m\u001b[0;34m(\u001b[0m\u001b[0mself\u001b[0m\u001b[0;34m.\u001b[0m\u001b[0melements\u001b[0m\u001b[0;34m[\u001b[0m\u001b[0;36m0\u001b[0m\u001b[0;34m]\u001b[0m\u001b[0;34m)\u001b[0m \u001b[0;34m!=\u001b[0m \u001b[0mlist\u001b[0m                     \u001b[0;32melse\u001b[0m \u001b[0mlen\u001b[0m\u001b[0;34m(\u001b[0m\u001b[0mself\u001b[0m\u001b[0;34m.\u001b[0m\u001b[0melements\u001b[0m\u001b[0;34m[\u001b[0m\u001b[0;36m0\u001b[0m\u001b[0;34m]\u001b[0m\u001b[0;34m)\u001b[0m\u001b[0;34m\u001b[0m\u001b[0m\n\u001b[0m\u001b[1;32m     14\u001b[0m \u001b[0;34m\u001b[0m\u001b[0m\n\u001b[1;32m     15\u001b[0m     \u001b[0;34m@\u001b[0m\u001b[0mproperty\u001b[0m\u001b[0;34m\u001b[0m\u001b[0m\n",
      "\u001b[0;32m<ipython-input-149-f241dd8c0b80>\u001b[0m in \u001b[0;36mheight\u001b[0;34m(self)\u001b[0m\n\u001b[1;32m     15\u001b[0m     \u001b[0;34m@\u001b[0m\u001b[0mproperty\u001b[0m\u001b[0;34m\u001b[0m\u001b[0m\n\u001b[1;32m     16\u001b[0m     \u001b[0;32mdef\u001b[0m \u001b[0mheight\u001b[0m\u001b[0;34m(\u001b[0m\u001b[0mself\u001b[0m\u001b[0;34m)\u001b[0m\u001b[0;34m:\u001b[0m\u001b[0;34m\u001b[0m\u001b[0m\n\u001b[0;32m---> 17\u001b[0;31m         \u001b[0;32mreturn\u001b[0m \u001b[0mlen\u001b[0m\u001b[0;34m(\u001b[0m\u001b[0mself\u001b[0m\u001b[0;34m.\u001b[0m\u001b[0melements\u001b[0m\u001b[0;34m)\u001b[0m\u001b[0;34m\u001b[0m\u001b[0m\n\u001b[0m\u001b[1;32m     18\u001b[0m \u001b[0;34m\u001b[0m\u001b[0m\n\u001b[1;32m     19\u001b[0m     \u001b[0;34m@\u001b[0m\u001b[0mproperty\u001b[0m\u001b[0;34m\u001b[0m\u001b[0m\n",
      "\u001b[0;31mTypeError\u001b[0m: object of type 'Matrix' has no len()"
     ]
    }
   ],
   "source": [
    "\n",
    "a = forward_sub(L, rhs_prime)\n",
    "b = backward_sub(U, a)\n",
    "b"
   ]
  },
  {
   "cell_type": "markdown",
   "metadata": {},
   "source": [
    "## 5."
   ]
  },
  {
   "cell_type": "code",
   "execution_count": null,
   "metadata": {
    "collapsed": true
   },
   "outputs": [],
   "source": [
    "lhs = Matrix(\n",
    "    [[0, 1, 2],\n",
    "     [2, 0, 3],\n",
    "     [3, 5, 1]])\n",
    "\n",
    "rhs = Matrix(\n",
    "    [[6],\n",
    "     [9],\n",
    "     [3]])"
   ]
  },
  {
   "cell_type": "markdown",
   "metadata": {},
   "source": [
    "## 6."
   ]
  },
  {
   "cell_type": "code",
   "execution_count": null,
   "metadata": {
    "collapsed": true
   },
   "outputs": [],
   "source": [
    "lhs = Matrix(\n",
    "    [[4000000000, 1000000000, 3000000000],\n",
    "     [4, 2, 7],\n",
    "     [0.0000000003, 0.0000000005, 0.0000000002]])\n",
    "\n",
    "rhs = Matrix(\n",
    "    [[9000000000],\n",
    "     [15],\n",
    "     [0.0000000015]])\n"
   ]
  },
  {
   "cell_type": "markdown",
   "metadata": {},
   "source": [
    "# TODO: Matlab\n",
    "Potrebno je napisati skriptu za programski paket MATLAB koja će učitati matricu sustava i slobodni vektor\n",
    "(iz istih datoteka kao programska implementacija), uz pomoć LUP dekompozicije pronaći i ispisati matrice\n",
    "L, U i matricu permutacija P, te međurezultat y. Također naći rješenje sustava te invertiranu matricu sustava.\n",
    "U skripti se (između ostalih) preporučuje koristiti sljedeće ugrađene funkcije: lu, inv te lijevo dijeljenje ( \\ ).\n",
    "Usporedite dobiveno rješenje sa onim koje ste dobili vašim programom. "
   ]
  },
  {
   "cell_type": "code",
   "execution_count": null,
   "metadata": {
    "collapsed": true
   },
   "outputs": [],
   "source": []
  }
 ],
 "metadata": {
  "kernelspec": {
   "display_name": "Python 3",
   "language": "python",
   "name": "python3"
  },
  "language_info": {
   "codemirror_mode": {
    "name": "ipython",
    "version": 3
   },
   "file_extension": ".py",
   "mimetype": "text/x-python",
   "name": "python",
   "nbconvert_exporter": "python",
   "pygments_lexer": "ipython3",
   "version": "3.6.2"
  }
 },
 "nbformat": 4,
 "nbformat_minor": 2
}
